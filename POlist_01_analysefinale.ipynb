{
 "cells": [
  {
   "cell_type": "markdown",
   "id": "2b7f4cc8",
   "metadata": {},
   "source": [
    "# Analyse des clients du site d'e-commerce Olist"
   ]
  },
  {
   "cell_type": "code",
   "execution_count": 1,
   "id": "04990baa",
   "metadata": {},
   "outputs": [],
   "source": [
    "\"\"\"%load_ext pycodestyle_magic\n",
    "%pycodestyle_on\"\"\""
   ]
  },
  {
   "cell_type": "code",
   "execution_count": 2,
   "id": "866e0ab3",
   "metadata": {},
   "outputs": [
    {
     "name": "stderr",
     "output_type": "stream",
     "text": [
      "9:1: E303 too many blank lines (3)\n",
      "9:1: E402 module level import not at top of file\n",
      "9:20: W291 trailing whitespace\n",
      "11:1: E402 module level import not at top of file\n",
      "11:19: W291 trailing whitespace\n",
      "13:1: E402 module level import not at top of file\n",
      "13:32: W291 trailing whitespace\n",
      "15:1: E402 module level import not at top of file\n",
      "17:1: E402 module level import not at top of file\n",
      "19:1: E402 module level import not at top of file\n",
      "21:1: E402 module level import not at top of file\n"
     ]
    }
   ],
   "source": [
    "# Importation des librairies nécessaires\n",
    "import warnings\n",
    "warnings.filterwarnings(\"ignore\")\n",
    "\n",
    "import pandas as pd \n",
    "import numpy as np \n",
    "import matplotlib.pyplot as plt \n",
    "import seaborn as sns\n",
    "import gc\n",
    "import datetime\n",
    "from function_utils import haversine_vectorize"
   ]
  },
  {
   "cell_type": "code",
   "execution_count": 3,
   "id": "0fd3a0a0",
   "metadata": {},
   "outputs": [],
   "source": [
    "sns.set_palette(\"Pastel2\")"
   ]
  },
  {
   "cell_type": "markdown",
   "id": "815b9dd0",
   "metadata": {},
   "source": [
    "## 1) Création d'une segmentation RFM"
   ]
  },
  {
   "cell_type": "markdown",
   "id": "5ad92a2d",
   "metadata": {},
   "source": [
    "### Information clients"
   ]
  },
  {
   "cell_type": "code",
   "execution_count": 4,
   "id": "3fc81622",
   "metadata": {},
   "outputs": [],
   "source": [
    "# Importation des données clients\n",
    "df_customers = pd.read_csv(\"datasets/olist_customers_dataset.csv\")\n",
    "df_geo = pd.read_csv(\"datasets/olist_geolocation_dataset.csv\")"
   ]
  },
  {
   "cell_type": "code",
   "execution_count": 5,
   "id": "c27300c5",
   "metadata": {},
   "outputs": [
    {
     "data": {
      "text/html": [
       "<div>\n",
       "<style scoped>\n",
       "    .dataframe tbody tr th:only-of-type {\n",
       "        vertical-align: middle;\n",
       "    }\n",
       "\n",
       "    .dataframe tbody tr th {\n",
       "        vertical-align: top;\n",
       "    }\n",
       "\n",
       "    .dataframe thead th {\n",
       "        text-align: right;\n",
       "    }\n",
       "</style>\n",
       "<table border=\"1\" class=\"dataframe\">\n",
       "  <thead>\n",
       "    <tr style=\"text-align: right;\">\n",
       "      <th></th>\n",
       "      <th>customer_id</th>\n",
       "      <th>customer_unique_id</th>\n",
       "      <th>customer_city</th>\n",
       "      <th>customer_latitude</th>\n",
       "      <th>customer_longitude</th>\n",
       "    </tr>\n",
       "  </thead>\n",
       "  <tbody>\n",
       "    <tr>\n",
       "      <th>0</th>\n",
       "      <td>06b8999e2fba1a1fbc88172c00ba8bc7</td>\n",
       "      <td>861eff4711a542e4b93843c6dd7febb0</td>\n",
       "      <td>franca</td>\n",
       "      <td>-20.509897</td>\n",
       "      <td>-47.397866</td>\n",
       "    </tr>\n",
       "    <tr>\n",
       "      <th>1</th>\n",
       "      <td>06b8999e2fba1a1fbc88172c00ba8bc7</td>\n",
       "      <td>861eff4711a542e4b93843c6dd7febb0</td>\n",
       "      <td>franca</td>\n",
       "      <td>-20.497396</td>\n",
       "      <td>-47.399241</td>\n",
       "    </tr>\n",
       "    <tr>\n",
       "      <th>2</th>\n",
       "      <td>06b8999e2fba1a1fbc88172c00ba8bc7</td>\n",
       "      <td>861eff4711a542e4b93843c6dd7febb0</td>\n",
       "      <td>franca</td>\n",
       "      <td>-20.510459</td>\n",
       "      <td>-47.399553</td>\n",
       "    </tr>\n",
       "    <tr>\n",
       "      <th>3</th>\n",
       "      <td>06b8999e2fba1a1fbc88172c00ba8bc7</td>\n",
       "      <td>861eff4711a542e4b93843c6dd7febb0</td>\n",
       "      <td>franca</td>\n",
       "      <td>-20.480940</td>\n",
       "      <td>-47.394161</td>\n",
       "    </tr>\n",
       "    <tr>\n",
       "      <th>4</th>\n",
       "      <td>06b8999e2fba1a1fbc88172c00ba8bc7</td>\n",
       "      <td>861eff4711a542e4b93843c6dd7febb0</td>\n",
       "      <td>franca</td>\n",
       "      <td>-20.515413</td>\n",
       "      <td>-47.398194</td>\n",
       "    </tr>\n",
       "  </tbody>\n",
       "</table>\n",
       "</div>"
      ],
      "text/plain": [
       "                        customer_id                customer_unique_id  \\\n",
       "0  06b8999e2fba1a1fbc88172c00ba8bc7  861eff4711a542e4b93843c6dd7febb0   \n",
       "1  06b8999e2fba1a1fbc88172c00ba8bc7  861eff4711a542e4b93843c6dd7febb0   \n",
       "2  06b8999e2fba1a1fbc88172c00ba8bc7  861eff4711a542e4b93843c6dd7febb0   \n",
       "3  06b8999e2fba1a1fbc88172c00ba8bc7  861eff4711a542e4b93843c6dd7febb0   \n",
       "4  06b8999e2fba1a1fbc88172c00ba8bc7  861eff4711a542e4b93843c6dd7febb0   \n",
       "\n",
       "  customer_city  customer_latitude  customer_longitude  \n",
       "0        franca         -20.509897          -47.397866  \n",
       "1        franca         -20.497396          -47.399241  \n",
       "2        franca         -20.510459          -47.399553  \n",
       "3        franca         -20.480940          -47.394161  \n",
       "4        franca         -20.515413          -47.398194  "
      ]
     },
     "execution_count": 5,
     "metadata": {},
     "output_type": "execute_result"
    },
    {
     "name": "stderr",
     "output_type": "stream",
     "text": [
      "5:80: E501 line too long (97 > 79 characters)\n",
      "5:98: W291 trailing whitespace\n",
      "7:80: E501 line too long (118 > 79 characters)\n",
      "9:80: E501 line too long (113 > 79 characters)\n",
      "11:80: E501 line too long (121 > 79 characters)\n",
      "13:80: E501 line too long (120 > 79 characters)\n"
     ]
    }
   ],
   "source": [
    "# Ajout des données de géolocalisation pour chaque client\n",
    "df_customers = pd.merge(df_geo, df_customers,\n",
    "                        right_on=[\"customer_zip_code_prefix\", \"customer_city\", \"customer_state\"], \n",
    "                        left_on=[\"geolocation_zip_code_prefix\", \"geolocation_city\", \"geolocation_state\"], how=\"right\")\n",
    "df_customers.drop([\"geolocation_zip_code_prefix\", \"geolocation_city\",\n",
    "                   \"geolocation_state\"], axis=1, inplace=True)\n",
    "df_customers = df_customers[['customer_id', \"customer_unique_id\", \n",
    "                             \"customer_city\", \"geolocation_lat\", \"geolocation_lng\"]]\n",
    "df_customers.columns = [\"customer_id\", \"customer_unique_id\", \n",
    "                        \"customer_city\", \"customer_latitude\", \"customer_longitude\"]\n",
    "df_customers.head()"
   ]
  },
  {
   "cell_type": "code",
   "execution_count": 6,
   "id": "0df80cd7",
   "metadata": {},
   "outputs": [
    {
     "name": "stdout",
     "output_type": "stream",
     "text": [
      "Nombre d'id unique: 96096\n"
     ]
    }
   ],
   "source": [
    "print(\"Nombre d'id unique:\", df_customers[\"customer_unique_id\"].nunique())"
   ]
  },
  {
   "cell_type": "code",
   "execution_count": 7,
   "id": "3d2a334a",
   "metadata": {},
   "outputs": [
    {
     "name": "stdout",
     "output_type": "stream",
     "text": [
      "Nombre d'id clients: 99441\n"
     ]
    }
   ],
   "source": [
    "print(\"Nombre d'id clients:\", df_customers[\"customer_id\"].nunique())"
   ]
  },
  {
   "cell_type": "markdown",
   "id": "d96c502c",
   "metadata": {},
   "source": [
    "On remarque un écart important entre les identifiants clients et les identifiants uniques. On va donc supprimer les doublons sur ces deux colonnes."
   ]
  },
  {
   "cell_type": "code",
   "execution_count": 8,
   "id": "7b33f7fc",
   "metadata": {},
   "outputs": [],
   "source": [
    "# Suppression des doublons d'identifiant clients\n",
    "df_customers.drop_duplicates(subset=\"customer_id\", inplace=True)"
   ]
  },
  {
   "cell_type": "code",
   "execution_count": 9,
   "id": "55a0e30c",
   "metadata": {},
   "outputs": [
    {
     "data": {
      "text/plain": [
       "(99441, 5)"
      ]
     },
     "execution_count": 9,
     "metadata": {},
     "output_type": "execute_result"
    }
   ],
   "source": [
    "df_customers.shape"
   ]
  },
  {
   "cell_type": "markdown",
   "id": "a7530c8d",
   "metadata": {},
   "source": [
    "### Information sur les commandes"
   ]
  },
  {
   "cell_type": "code",
   "execution_count": 10,
   "id": "368aa53d",
   "metadata": {},
   "outputs": [
    {
     "data": {
      "text/plain": [
       "(99441, 8)"
      ]
     },
     "execution_count": 10,
     "metadata": {},
     "output_type": "execute_result"
    }
   ],
   "source": [
    "# Importation des informations sur les commandes\n",
    "df_orders = pd.read_csv(\"datasets/olist_orders_dataset.csv\")\n",
    "df_orders.shape"
   ]
  },
  {
   "cell_type": "code",
   "execution_count": 11,
   "id": "b8fa3e50",
   "metadata": {},
   "outputs": [
    {
     "data": {
      "text/plain": [
       "(99441, 12)"
      ]
     },
     "execution_count": 11,
     "metadata": {},
     "output_type": "execute_result"
    },
    {
     "name": "stderr",
     "output_type": "stream",
     "text": [
      "1:80: E501 line too long (88 > 79 characters)\n",
      "3:80: E501 line too long (98 > 79 characters)\n"
     ]
    }
   ],
   "source": [
    "# Association entre commande et clients pour calculer la récence et la fréquence d'achat\n",
    "df = pd.merge(df_customers, df_orders, \n",
    "              left_on=\"customer_id\", right_on=\"customer_id\", how=\"right\")\n",
    "df.drop_duplicates(subset=\"customer_id\", \n",
    "                   inplace=True)\n",
    "df.shape"
   ]
  },
  {
   "cell_type": "code",
   "execution_count": 12,
   "id": "b2aef422",
   "metadata": {},
   "outputs": [
    {
     "data": {
      "text/plain": [
       "(103886, 5)"
      ]
     },
     "execution_count": 12,
     "metadata": {},
     "output_type": "execute_result"
    }
   ],
   "source": [
    "# Importation des informations sur le paiement des commandes\n",
    "df_orders_payments = pd.read_csv(\"datasets/olist_order_payments_dataset.csv\")\n",
    "df_orders_payments.shape"
   ]
  },
  {
   "cell_type": "code",
   "execution_count": 13,
   "id": "e3ae77fd",
   "metadata": {},
   "outputs": [
    {
     "data": {
      "text/plain": [
       "(103886, 16)"
      ]
     },
     "execution_count": 13,
     "metadata": {},
     "output_type": "execute_result"
    },
    {
     "name": "stderr",
     "output_type": "stream",
     "text": [
      "1:80: E501 line too long (89 > 79 characters)\n",
      "2:80: E501 line too long (91 > 79 characters)\n"
     ]
    }
   ],
   "source": [
    "# Association entre commande et paiements \n",
    "# pour calculer la valeur monnaitaire d'un client\n",
    "df = pd.merge(df, df_orders_payments, left_on=\"order_id\", \n",
    "              right_on=\"order_id\", how=\"right\")\n",
    "df.shape"
   ]
  },
  {
   "cell_type": "code",
   "execution_count": 14,
   "id": "27cdda5e",
   "metadata": {},
   "outputs": [
    {
     "data": {
      "text/html": [
       "<div>\n",
       "<style scoped>\n",
       "    .dataframe tbody tr th:only-of-type {\n",
       "        vertical-align: middle;\n",
       "    }\n",
       "\n",
       "    .dataframe tbody tr th {\n",
       "        vertical-align: top;\n",
       "    }\n",
       "\n",
       "    .dataframe thead th {\n",
       "        text-align: right;\n",
       "    }\n",
       "</style>\n",
       "<table border=\"1\" class=\"dataframe\">\n",
       "  <thead>\n",
       "    <tr style=\"text-align: right;\">\n",
       "      <th></th>\n",
       "      <th>customer_id</th>\n",
       "      <th>customer_unique_id</th>\n",
       "      <th>customer_city</th>\n",
       "      <th>customer_latitude</th>\n",
       "      <th>customer_longitude</th>\n",
       "      <th>order_id</th>\n",
       "      <th>order_status</th>\n",
       "      <th>order_purchase_timestamp</th>\n",
       "      <th>order_approved_at</th>\n",
       "      <th>order_delivered_carrier_date</th>\n",
       "      <th>order_delivered_customer_date</th>\n",
       "      <th>order_estimated_delivery_date</th>\n",
       "      <th>payment_sequential</th>\n",
       "      <th>payment_type</th>\n",
       "      <th>payment_installments</th>\n",
       "      <th>payment_value</th>\n",
       "    </tr>\n",
       "  </thead>\n",
       "  <tbody>\n",
       "    <tr>\n",
       "      <th>0</th>\n",
       "      <td>0a8556ac6be836b46b3e89920d59291c</td>\n",
       "      <td>708ab75d2a007f0564aedd11139c7708</td>\n",
       "      <td>teofilo otoni</td>\n",
       "      <td>-17.851690</td>\n",
       "      <td>-41.493610</td>\n",
       "      <td>b81ef226f3fe1789b1e8b2acac839d17</td>\n",
       "      <td>delivered</td>\n",
       "      <td>2018-04-25 22:01:49</td>\n",
       "      <td>2018-04-25 22:15:09</td>\n",
       "      <td>2018-05-02 15:20:00</td>\n",
       "      <td>2018-05-09 17:36:51</td>\n",
       "      <td>2018-05-22 00:00:00</td>\n",
       "      <td>1</td>\n",
       "      <td>credit_card</td>\n",
       "      <td>8</td>\n",
       "      <td>99.33</td>\n",
       "    </tr>\n",
       "    <tr>\n",
       "      <th>1</th>\n",
       "      <td>f2c7fc58a9de810828715166c672f10a</td>\n",
       "      <td>a8b9d3a27068454b1c98cc67d4e31e6f</td>\n",
       "      <td>sao paulo</td>\n",
       "      <td>-23.470015</td>\n",
       "      <td>-46.634846</td>\n",
       "      <td>a9810da82917af2d9aefd1278f1dcfa0</td>\n",
       "      <td>delivered</td>\n",
       "      <td>2018-06-26 11:01:38</td>\n",
       "      <td>2018-06-26 11:18:58</td>\n",
       "      <td>2018-06-28 14:18:00</td>\n",
       "      <td>2018-06-29 20:32:09</td>\n",
       "      <td>2018-07-16 00:00:00</td>\n",
       "      <td>1</td>\n",
       "      <td>credit_card</td>\n",
       "      <td>1</td>\n",
       "      <td>24.39</td>\n",
       "    </tr>\n",
       "    <tr>\n",
       "      <th>2</th>\n",
       "      <td>25b14b69de0b6e184ae6fe2755e478f9</td>\n",
       "      <td>6f70c0b2f7552832ba46eb57b1c5651e</td>\n",
       "      <td>sao paulo</td>\n",
       "      <td>-23.454897</td>\n",
       "      <td>-46.656832</td>\n",
       "      <td>25e8ea4e93396b6fa0d3dd708e76c1bd</td>\n",
       "      <td>delivered</td>\n",
       "      <td>2017-12-12 11:19:55</td>\n",
       "      <td>2017-12-14 09:52:34</td>\n",
       "      <td>2017-12-15 20:13:22</td>\n",
       "      <td>2017-12-18 17:24:41</td>\n",
       "      <td>2018-01-04 00:00:00</td>\n",
       "      <td>1</td>\n",
       "      <td>credit_card</td>\n",
       "      <td>1</td>\n",
       "      <td>65.71</td>\n",
       "    </tr>\n",
       "    <tr>\n",
       "      <th>3</th>\n",
       "      <td>7a5d8efaaa1081f800628c30d2b0728f</td>\n",
       "      <td>87695ed086ebd36f20404c82d20fca87</td>\n",
       "      <td>juiz de fora</td>\n",
       "      <td>-21.750376</td>\n",
       "      <td>-43.342449</td>\n",
       "      <td>ba78997921bbcdc1373bb41e913ab953</td>\n",
       "      <td>delivered</td>\n",
       "      <td>2017-12-06 12:04:06</td>\n",
       "      <td>2017-12-06 12:13:20</td>\n",
       "      <td>2017-12-07 20:28:28</td>\n",
       "      <td>2017-12-21 01:35:51</td>\n",
       "      <td>2018-01-04 00:00:00</td>\n",
       "      <td>1</td>\n",
       "      <td>credit_card</td>\n",
       "      <td>8</td>\n",
       "      <td>107.78</td>\n",
       "    </tr>\n",
       "    <tr>\n",
       "      <th>4</th>\n",
       "      <td>15fd6fb8f8312dbb4674e4518d6fa3b3</td>\n",
       "      <td>4291db0da71914754618cd789aebcd56</td>\n",
       "      <td>conchas</td>\n",
       "      <td>-23.015379</td>\n",
       "      <td>-48.008990</td>\n",
       "      <td>42fdf880ba16b47b59251dd489d4441a</td>\n",
       "      <td>delivered</td>\n",
       "      <td>2018-05-21 13:59:17</td>\n",
       "      <td>2018-05-21 16:14:41</td>\n",
       "      <td>2018-05-22 11:46:00</td>\n",
       "      <td>2018-06-01 21:44:53</td>\n",
       "      <td>2018-06-13 00:00:00</td>\n",
       "      <td>1</td>\n",
       "      <td>credit_card</td>\n",
       "      <td>2</td>\n",
       "      <td>128.45</td>\n",
       "    </tr>\n",
       "  </tbody>\n",
       "</table>\n",
       "</div>"
      ],
      "text/plain": [
       "                        customer_id                customer_unique_id  \\\n",
       "0  0a8556ac6be836b46b3e89920d59291c  708ab75d2a007f0564aedd11139c7708   \n",
       "1  f2c7fc58a9de810828715166c672f10a  a8b9d3a27068454b1c98cc67d4e31e6f   \n",
       "2  25b14b69de0b6e184ae6fe2755e478f9  6f70c0b2f7552832ba46eb57b1c5651e   \n",
       "3  7a5d8efaaa1081f800628c30d2b0728f  87695ed086ebd36f20404c82d20fca87   \n",
       "4  15fd6fb8f8312dbb4674e4518d6fa3b3  4291db0da71914754618cd789aebcd56   \n",
       "\n",
       "   customer_city  customer_latitude  customer_longitude  \\\n",
       "0  teofilo otoni         -17.851690          -41.493610   \n",
       "1      sao paulo         -23.470015          -46.634846   \n",
       "2      sao paulo         -23.454897          -46.656832   \n",
       "3   juiz de fora         -21.750376          -43.342449   \n",
       "4        conchas         -23.015379          -48.008990   \n",
       "\n",
       "                           order_id order_status order_purchase_timestamp  \\\n",
       "0  b81ef226f3fe1789b1e8b2acac839d17    delivered      2018-04-25 22:01:49   \n",
       "1  a9810da82917af2d9aefd1278f1dcfa0    delivered      2018-06-26 11:01:38   \n",
       "2  25e8ea4e93396b6fa0d3dd708e76c1bd    delivered      2017-12-12 11:19:55   \n",
       "3  ba78997921bbcdc1373bb41e913ab953    delivered      2017-12-06 12:04:06   \n",
       "4  42fdf880ba16b47b59251dd489d4441a    delivered      2018-05-21 13:59:17   \n",
       "\n",
       "     order_approved_at order_delivered_carrier_date  \\\n",
       "0  2018-04-25 22:15:09          2018-05-02 15:20:00   \n",
       "1  2018-06-26 11:18:58          2018-06-28 14:18:00   \n",
       "2  2017-12-14 09:52:34          2017-12-15 20:13:22   \n",
       "3  2017-12-06 12:13:20          2017-12-07 20:28:28   \n",
       "4  2018-05-21 16:14:41          2018-05-22 11:46:00   \n",
       "\n",
       "  order_delivered_customer_date order_estimated_delivery_date  \\\n",
       "0           2018-05-09 17:36:51           2018-05-22 00:00:00   \n",
       "1           2018-06-29 20:32:09           2018-07-16 00:00:00   \n",
       "2           2017-12-18 17:24:41           2018-01-04 00:00:00   \n",
       "3           2017-12-21 01:35:51           2018-01-04 00:00:00   \n",
       "4           2018-06-01 21:44:53           2018-06-13 00:00:00   \n",
       "\n",
       "   payment_sequential payment_type  payment_installments  payment_value  \n",
       "0                   1  credit_card                     8          99.33  \n",
       "1                   1  credit_card                     1          24.39  \n",
       "2                   1  credit_card                     1          65.71  \n",
       "3                   1  credit_card                     8         107.78  \n",
       "4                   1  credit_card                     2         128.45  "
      ]
     },
     "execution_count": 14,
     "metadata": {},
     "output_type": "execute_result"
    }
   ],
   "source": [
    "df.head()"
   ]
  },
  {
   "cell_type": "markdown",
   "id": "dabf44b4",
   "metadata": {},
   "source": [
    "Pour calculer la récence, on va transformer les éléments en lien avec les dates en format datetime. Ensuite, on va calculer le nombre de jours entre le dernier client à avoir acheté +1 que l'on va soustraire à la dernière date d'achat de chaque client."
   ]
  },
  {
   "cell_type": "code",
   "execution_count": 15,
   "id": "e3fd4766",
   "metadata": {},
   "outputs": [
    {
     "name": "stderr",
     "output_type": "stream",
     "text": [
      "2:80: E501 line too long (154 > 79 characters)\n",
      "6:1: E303 too many blank lines (3)\n"
     ]
    }
   ],
   "source": [
    "# Transformation des timestamps en format datetime\n",
    "time = [\"order_purchase_timestamp\", \"order_approved_at\", \"order_delivered_carrier_date\", \"order_delivered_customer_date\", \"order_estimated_delivery_date\"]\n",
    "\n",
    "for cols in time:\n",
    "    df[cols] = pd.to_datetime(df[cols], format=\"%Y-%m-%d\", errors=\"ignore\")"
   ]
  },
  {
   "cell_type": "code",
   "execution_count": 16,
   "id": "cea3cd37",
   "metadata": {},
   "outputs": [],
   "source": [
    "snapshot_date = max(df.order_purchase_timestamp) + datetime.timedelta(days=1)"
   ]
  },
  {
   "cell_type": "code",
   "execution_count": 19,
   "id": "9e25a655",
   "metadata": {},
   "outputs": [
    {
     "ename": "SyntaxError",
     "evalue": "unexpected character after line continuation character (<ipython-input-19-55254936f6a0>, line 2)",
     "output_type": "error",
     "traceback": [
      "\u001b[1;36m  File \u001b[1;32m\"<ipython-input-19-55254936f6a0>\"\u001b[1;36m, line \u001b[1;32m2\u001b[0m\n\u001b[1;33m    \"order_purchase_timestamp\" : \\\\\u001b[0m\n\u001b[1;37m                                   ^\u001b[0m\n\u001b[1;31mSyntaxError\u001b[0m\u001b[1;31m:\u001b[0m unexpected character after line continuation character\n"
     ]
    },
    {
     "name": "stderr",
     "output_type": "stream",
     "text": [
      "2:5: E128 continuation line under-indented for visual indent\n"
     ]
    },
    {
     "ename": "ValueError",
     "evalue": "too many values to unpack (expected 3)",
     "output_type": "error",
     "traceback": [
      "\u001b[1;31m---------------------------------------------------------------------------\u001b[0m",
      "\u001b[1;31mValueError\u001b[0m                                Traceback (most recent call last)",
      "\u001b[1;32m~\\anaconda3\\lib\\site-packages\\pycodestyle_magic.py\u001b[0m in \u001b[0;36mauto_run_pycodestyle\u001b[1;34m(self, result)\u001b[0m\n\u001b[0;32m     44\u001b[0m \u001b[1;33m\u001b[0m\u001b[0m\n\u001b[0;32m     45\u001b[0m     \u001b[1;32mdef\u001b[0m \u001b[0mauto_run_pycodestyle\u001b[0m\u001b[1;33m(\u001b[0m\u001b[0mself\u001b[0m\u001b[1;33m,\u001b[0m \u001b[0mresult\u001b[0m\u001b[1;33m)\u001b[0m\u001b[1;33m:\u001b[0m\u001b[1;33m\u001b[0m\u001b[1;33m\u001b[0m\u001b[0m\n\u001b[1;32m---> 46\u001b[1;33m         \u001b[0mpycodestyle\u001b[0m\u001b[1;33m(\u001b[0m\u001b[1;36m1\u001b[0m\u001b[1;33m,\u001b[0m \u001b[0mresult\u001b[0m\u001b[1;33m.\u001b[0m\u001b[0minfo\u001b[0m\u001b[1;33m.\u001b[0m\u001b[0mraw_cell\u001b[0m\u001b[1;33m,\u001b[0m \u001b[0mauto\u001b[0m\u001b[1;33m=\u001b[0m\u001b[1;32mTrue\u001b[0m\u001b[1;33m)\u001b[0m\u001b[1;33m\u001b[0m\u001b[1;33m\u001b[0m\u001b[0m\n\u001b[0m\u001b[0;32m     47\u001b[0m         \u001b[1;32mif\u001b[0m \u001b[0mresult\u001b[0m\u001b[1;33m.\u001b[0m\u001b[0merror_before_exec\u001b[0m\u001b[1;33m:\u001b[0m\u001b[1;33m\u001b[0m\u001b[1;33m\u001b[0m\u001b[0m\n\u001b[0;32m     48\u001b[0m             \u001b[0mprint\u001b[0m\u001b[1;33m(\u001b[0m\u001b[1;34m'Error before execution: %s'\u001b[0m \u001b[1;33m%\u001b[0m \u001b[0mresult\u001b[0m\u001b[1;33m.\u001b[0m\u001b[0merror_before_exec\u001b[0m\u001b[1;33m)\u001b[0m\u001b[1;33m\u001b[0m\u001b[1;33m\u001b[0m\u001b[0m\n",
      "\u001b[1;32m~\\anaconda3\\lib\\site-packages\\decorator.py\u001b[0m in \u001b[0;36mfun\u001b[1;34m(*args, **kw)\u001b[0m\n\u001b[0;32m    230\u001b[0m             \u001b[1;32mif\u001b[0m \u001b[1;32mnot\u001b[0m \u001b[0mkwsyntax\u001b[0m\u001b[1;33m:\u001b[0m\u001b[1;33m\u001b[0m\u001b[1;33m\u001b[0m\u001b[0m\n\u001b[0;32m    231\u001b[0m                 \u001b[0margs\u001b[0m\u001b[1;33m,\u001b[0m \u001b[0mkw\u001b[0m \u001b[1;33m=\u001b[0m \u001b[0mfix\u001b[0m\u001b[1;33m(\u001b[0m\u001b[0margs\u001b[0m\u001b[1;33m,\u001b[0m \u001b[0mkw\u001b[0m\u001b[1;33m,\u001b[0m \u001b[0msig\u001b[0m\u001b[1;33m)\u001b[0m\u001b[1;33m\u001b[0m\u001b[1;33m\u001b[0m\u001b[0m\n\u001b[1;32m--> 232\u001b[1;33m             \u001b[1;32mreturn\u001b[0m \u001b[0mcaller\u001b[0m\u001b[1;33m(\u001b[0m\u001b[0mfunc\u001b[0m\u001b[1;33m,\u001b[0m \u001b[1;33m*\u001b[0m\u001b[1;33m(\u001b[0m\u001b[0mextras\u001b[0m \u001b[1;33m+\u001b[0m \u001b[0margs\u001b[0m\u001b[1;33m)\u001b[0m\u001b[1;33m,\u001b[0m \u001b[1;33m**\u001b[0m\u001b[0mkw\u001b[0m\u001b[1;33m)\u001b[0m\u001b[1;33m\u001b[0m\u001b[1;33m\u001b[0m\u001b[0m\n\u001b[0m\u001b[0;32m    233\u001b[0m     \u001b[0mfun\u001b[0m\u001b[1;33m.\u001b[0m\u001b[0m__name__\u001b[0m \u001b[1;33m=\u001b[0m \u001b[0mfunc\u001b[0m\u001b[1;33m.\u001b[0m\u001b[0m__name__\u001b[0m\u001b[1;33m\u001b[0m\u001b[1;33m\u001b[0m\u001b[0m\n\u001b[0;32m    234\u001b[0m     \u001b[0mfun\u001b[0m\u001b[1;33m.\u001b[0m\u001b[0m__doc__\u001b[0m \u001b[1;33m=\u001b[0m \u001b[0mfunc\u001b[0m\u001b[1;33m.\u001b[0m\u001b[0m__doc__\u001b[0m\u001b[1;33m\u001b[0m\u001b[1;33m\u001b[0m\u001b[0m\n",
      "\u001b[1;32m~\\anaconda3\\lib\\site-packages\\IPython\\core\\magic.py\u001b[0m in \u001b[0;36m<lambda>\u001b[1;34m(f, *a, **k)\u001b[0m\n\u001b[0;32m    218\u001b[0m     \u001b[1;31m# but it's overkill for just that one bit of state.\u001b[0m\u001b[1;33m\u001b[0m\u001b[1;33m\u001b[0m\u001b[1;33m\u001b[0m\u001b[0m\n\u001b[0;32m    219\u001b[0m     \u001b[1;32mdef\u001b[0m \u001b[0mmagic_deco\u001b[0m\u001b[1;33m(\u001b[0m\u001b[0marg\u001b[0m\u001b[1;33m)\u001b[0m\u001b[1;33m:\u001b[0m\u001b[1;33m\u001b[0m\u001b[1;33m\u001b[0m\u001b[0m\n\u001b[1;32m--> 220\u001b[1;33m         \u001b[0mcall\u001b[0m \u001b[1;33m=\u001b[0m \u001b[1;32mlambda\u001b[0m \u001b[0mf\u001b[0m\u001b[1;33m,\u001b[0m \u001b[1;33m*\u001b[0m\u001b[0ma\u001b[0m\u001b[1;33m,\u001b[0m \u001b[1;33m**\u001b[0m\u001b[0mk\u001b[0m\u001b[1;33m:\u001b[0m \u001b[0mf\u001b[0m\u001b[1;33m(\u001b[0m\u001b[1;33m*\u001b[0m\u001b[0ma\u001b[0m\u001b[1;33m,\u001b[0m \u001b[1;33m**\u001b[0m\u001b[0mk\u001b[0m\u001b[1;33m)\u001b[0m\u001b[1;33m\u001b[0m\u001b[1;33m\u001b[0m\u001b[0m\n\u001b[0m\u001b[0;32m    221\u001b[0m \u001b[1;33m\u001b[0m\u001b[0m\n\u001b[0;32m    222\u001b[0m         \u001b[1;31m# Find get_ipython() in the caller's namespace\u001b[0m\u001b[1;33m\u001b[0m\u001b[1;33m\u001b[0m\u001b[1;33m\u001b[0m\u001b[0m\n",
      "\u001b[1;32m~\\anaconda3\\lib\\site-packages\\pycodestyle_magic.py\u001b[0m in \u001b[0;36mpycodestyle\u001b[1;34m(line, cell, auto)\u001b[0m\n\u001b[0;32m    173\u001b[0m         \u001b[1;31m#logger.info(line)\u001b[0m\u001b[1;33m\u001b[0m\u001b[1;33m\u001b[0m\u001b[1;33m\u001b[0m\u001b[0m\n\u001b[0;32m    174\u001b[0m         \u001b[1;31m# on windows drive path also contains :\u001b[0m\u001b[1;33m\u001b[0m\u001b[1;33m\u001b[0m\u001b[1;33m\u001b[0m\u001b[0m\n\u001b[1;32m--> 175\u001b[1;33m         \u001b[0mline\u001b[0m\u001b[1;33m,\u001b[0m \u001b[0mcol\u001b[0m\u001b[1;33m,\u001b[0m \u001b[0merror\u001b[0m \u001b[1;33m=\u001b[0m \u001b[0mline\u001b[0m\u001b[1;33m.\u001b[0m\u001b[0msplit\u001b[0m\u001b[1;33m(\u001b[0m\u001b[1;34m':'\u001b[0m\u001b[1;33m)\u001b[0m\u001b[1;33m[\u001b[0m\u001b[1;33m-\u001b[0m\u001b[1;36m4\u001b[0m\u001b[1;33m:\u001b[0m\u001b[1;33m]\u001b[0m\u001b[1;33m\u001b[0m\u001b[1;33m\u001b[0m\u001b[0m\n\u001b[0m\u001b[0;32m    176\u001b[0m         \u001b[1;31m# do not subtract 1 for line for %%pycodestyle, inc pre py3.6 string\u001b[0m\u001b[1;33m\u001b[0m\u001b[1;33m\u001b[0m\u001b[1;33m\u001b[0m\u001b[0m\n\u001b[0;32m    177\u001b[0m         \u001b[1;32mif\u001b[0m \u001b[0mauto\u001b[0m\u001b[1;33m:\u001b[0m\u001b[1;33m\u001b[0m\u001b[1;33m\u001b[0m\u001b[0m\n",
      "\u001b[1;31mValueError\u001b[0m: too many values to unpack (expected 3)"
     ]
    }
   ],
   "source": [
    "rfm_custom = df.groupby(\"customer_unique_id\").agg({\n",
    "    \"order_purchase_timestamp\" : lambda x: (snapshot_date - x.max()).days,\n",
    "    \"order_id\" : 'count',\n",
    "    \"payment_value\" : \"mean\"\n",
    "})"
   ]
  },
  {
   "cell_type": "code",
   "execution_count": null,
   "id": "590f127a",
   "metadata": {},
   "outputs": [],
   "source": [
    "rfm_custom.columns = [\"Recency\", \"Frequency\", \"MonetaryValue\"]\n",
    "data = rfm_custom.copy().reset_index()"
   ]
  },
  {
   "cell_type": "code",
   "execution_count": null,
   "id": "14c46e57",
   "metadata": {
    "scrolled": true
   },
   "outputs": [],
   "source": [
    "data.head()"
   ]
  },
  {
   "cell_type": "code",
   "execution_count": null,
   "id": "dd0c963f",
   "metadata": {},
   "outputs": [],
   "source": [
    "data['r_quartile'] = pd.qcut(data['Recency'], 4, ['1','2','3','4'])\n",
    "data['f_bins'] = pd.cut(data['Frequency'], 2, labels=['2','1'])\n",
    "data['m_quartile'] = pd.qcut(data['MonetaryValue'], 4, ['4','3','2','1'])"
   ]
  },
  {
   "cell_type": "code",
   "execution_count": null,
   "id": "4e8d8cfc",
   "metadata": {},
   "outputs": [],
   "source": [
    "data['RFM_Score'] = data[\"r_quartile\"].astype(str)+ data[\"f_bins\"].astype(str) + data[\"m_quartile\"].astype(str)\n",
    "data.head(3)"
   ]
  },
  {
   "cell_type": "code",
   "execution_count": null,
   "id": "a4d4fa2f",
   "metadata": {},
   "outputs": [],
   "source": [
    "data.sort_values(\"RFM_Score\", ascending=True)"
   ]
  },
  {
   "cell_type": "markdown",
   "id": "2dfa98fa",
   "metadata": {},
   "source": [
    "### Analyse de la segmentation RFM"
   ]
  },
  {
   "cell_type": "code",
   "execution_count": null,
   "id": "313625ea",
   "metadata": {},
   "outputs": [],
   "source": [
    "# Statistiques descriptives\n",
    "data.describe()"
   ]
  },
  {
   "cell_type": "code",
   "execution_count": null,
   "id": "731f26c1",
   "metadata": {},
   "outputs": [],
   "source": [
    "fig, axes = plt.subplots(1, 2, figsize=(15, 5), sharex=True)\n",
    "fig.suptitle('Description des montants dépensés par les clients')\n",
    "\n",
    "sns.histplot(ax=axes[0],x=\"MonetaryValue\", data=data, kde=True)\n",
    "axes[0].set_title(\"Distribution des montants dépensés\")\n",
    "\n",
    "sns.boxplot(ax=axes[1], x=\"MonetaryValue\", data=data)\n",
    "axes[1].set_title(\"Boxplot des montants dépensés\")\n",
    "\n",
    "plt.show()"
   ]
  },
  {
   "cell_type": "code",
   "execution_count": null,
   "id": "70109938",
   "metadata": {},
   "outputs": [],
   "source": [
    "fig, axes = plt.subplots(1, 2, figsize=(15, 5), sharex=True)\n",
    "fig.suptitle('Description des jours passés depuis la dernière commande')\n",
    "\n",
    "sns.histplot(ax=axes[0],x=\"Recency\", data=data, kde=True)\n",
    "axes[0].set_title(\"Distribution des jours passés depuis la dernière commande\")\n",
    "\n",
    "sns.boxplot(ax=axes[1], x=\"Recency\", data=data)\n",
    "axes[1].set_title(\"Boxplot des jours passés depuis la dernière commande\")\n",
    "\n",
    "plt.show()"
   ]
  },
  {
   "cell_type": "code",
   "execution_count": null,
   "id": "32d42ae3",
   "metadata": {},
   "outputs": [],
   "source": [
    "sns.countplot(y=\"Frequency\", data=data)\n",
    "plt.ylim(23)\n",
    "plt.title(\"Répartition de la fréquence d'achat\")\n",
    "\n",
    "plt.show()"
   ]
  },
  {
   "cell_type": "markdown",
   "id": "2f911714",
   "metadata": {},
   "source": [
    "La fréquence et la récence ne semblent pas être très discriminants. En effet, la plupart des clients réalise un seul achat. De même, il est difficile de savoir s'ils reviennent régulièrement acheter donc la récence est très variable. \n",
    "\n",
    "En inspectant le fonctionnement du site, il s'avère que l'on peut commander sans avoir besoin de créer un compte. On ne peut donc pas savoir si une personne commande plusieurs fois et obtenir les informations nécessaires. "
   ]
  },
  {
   "cell_type": "code",
   "execution_count": null,
   "id": "effe6fd8",
   "metadata": {},
   "outputs": [],
   "source": [
    "del df_orders_payments\n",
    "del rfm_custom"
   ]
  },
  {
   "cell_type": "code",
   "execution_count": null,
   "id": "1c1eafe1",
   "metadata": {},
   "outputs": [],
   "source": [
    "gc.collect()"
   ]
  },
  {
   "cell_type": "code",
   "execution_count": null,
   "id": "f17c0833",
   "metadata": {},
   "outputs": [],
   "source": [
    "data.set_index(\"customer_unique_id\", inplace=True)"
   ]
  },
  {
   "cell_type": "code",
   "execution_count": null,
   "id": "67fc76c0",
   "metadata": {},
   "outputs": [],
   "source": [
    "# Enregistrement des données de la segmentation\n",
    "data.to_csv(\"datasets/data_segmentation_rfm.csv\")"
   ]
  },
  {
   "cell_type": "markdown",
   "id": "c41f05c0",
   "metadata": {},
   "source": [
    "## 2) Ajout de variables supplémentaires"
   ]
  },
  {
   "cell_type": "markdown",
   "id": "b2562332",
   "metadata": {},
   "source": [
    "On va créer de nouvelles variables que l'on va ajouter pour pouvoir obtenir une segmentation plus fine."
   ]
  },
  {
   "cell_type": "code",
   "execution_count": null,
   "id": "ceb5dc25",
   "metadata": {},
   "outputs": [],
   "source": [
    "data.reset_index(inplace=True)"
   ]
  },
  {
   "cell_type": "markdown",
   "id": "26d32696",
   "metadata": {},
   "source": [
    "### Calcul des distances entre vendeurs et acheteurs"
   ]
  },
  {
   "cell_type": "code",
   "execution_count": null,
   "id": "1d8f3791",
   "metadata": {},
   "outputs": [],
   "source": [
    "# Importation des informations vendeurs\n",
    "\n",
    "df_sellers = pd.read_csv(\"datasets/olist_sellers_dataset.csv\")\n",
    "df_sellers.head(3)"
   ]
  },
  {
   "cell_type": "code",
   "execution_count": null,
   "id": "e9a4b6c6",
   "metadata": {},
   "outputs": [],
   "source": [
    "df_sellers = pd.merge(df_geo, df_sellers,\n",
    "                        right_on=[\"seller_zip_code_prefix\", \"seller_city\", \"seller_state\"], \n",
    "                        left_on=[\"geolocation_zip_code_prefix\", \"geolocation_city\", \"geolocation_state\"], how=\"right\")\n",
    "df_sellers.drop([\"geolocation_zip_code_prefix\", \"geolocation_city\", \"geolocation_state\"], axis=1, inplace=True)\n",
    "df_sellers = df_sellers[['seller_id', \"geolocation_lat\", \"geolocation_lng\"]]\n",
    "df_sellers.columns = [\"seller_id\", \"seller_latitude\", \"seller_longitude\"]\n",
    "df_sellers.head()"
   ]
  },
  {
   "cell_type": "code",
   "execution_count": null,
   "id": "99ced25c",
   "metadata": {},
   "outputs": [],
   "source": [
    "df_sellers.drop_duplicates(subset=\"seller_id\", inplace=True)"
   ]
  },
  {
   "cell_type": "code",
   "execution_count": null,
   "id": "a59314e1",
   "metadata": {},
   "outputs": [],
   "source": [
    "# Importation des informations sur les commandes\n",
    "\n",
    "df_items = pd.read_csv(\"datasets/olist_order_items_dataset.csv\")\n",
    "df_items.head(3)"
   ]
  },
  {
   "cell_type": "code",
   "execution_count": null,
   "id": "87fe8794",
   "metadata": {},
   "outputs": [],
   "source": [
    "df_items = pd.merge(df_orders, df_items, on=\"order_id\", how=\"left\")"
   ]
  },
  {
   "cell_type": "code",
   "execution_count": null,
   "id": "00c03684",
   "metadata": {},
   "outputs": [],
   "source": [
    "df_items = pd.merge(df_items, df_customers, on=\"customer_id\", how=\"left\")"
   ]
  },
  {
   "cell_type": "code",
   "execution_count": null,
   "id": "d1544abe",
   "metadata": {},
   "outputs": [],
   "source": [
    "df_items = pd.merge(df_sellers, df_items, on=\"seller_id\", how=\"left\")"
   ]
  },
  {
   "cell_type": "code",
   "execution_count": null,
   "id": "d8cf3c1f",
   "metadata": {},
   "outputs": [],
   "source": [
    "df_items.dropna(subset=[\"customer_city\"], inplace=True)"
   ]
  },
  {
   "cell_type": "code",
   "execution_count": null,
   "id": "e8bcf6e6",
   "metadata": {},
   "outputs": [],
   "source": [
    "df_items[\"distance_customer_seller\"] = haversine_vectorize(df_items[\"customer_longitude\"], df_items[\"customer_latitude\"], df_items[\"seller_longitude\"], df_items[\"seller_latitude\"])"
   ]
  },
  {
   "cell_type": "code",
   "execution_count": null,
   "id": "7dca043a",
   "metadata": {},
   "outputs": [],
   "source": [
    "df_items = df_items[[\"customer_unique_id\", \"product_id\", \"distance_customer_seller\"]]\n",
    "data = pd.merge(data, df_items, on=\"customer_unique_id\", how=\"left\")"
   ]
  },
  {
   "cell_type": "markdown",
   "id": "3c443dea",
   "metadata": {},
   "source": [
    "### Informations sur le type de produits commandés"
   ]
  },
  {
   "cell_type": "code",
   "execution_count": null,
   "id": "cfdadc0f",
   "metadata": {},
   "outputs": [],
   "source": [
    "df_products = pd.read_csv(\"datasets/olist_products_dataset.csv\")\n",
    "df_translation = pd.read_csv(\"datasets/product_category_name_translation.csv\")\n",
    "df_products = pd.merge(df_products, df_translation, on=\"product_category_name\")\n",
    "df_products = df_products[[\"product_id\", \"product_category_name_english\"]]\n",
    "df_products.rename(columns={\"product_category_name_english\" : \"product_category_name\"}, inplace=True)\n",
    "df_products.head()"
   ]
  },
  {
   "cell_type": "code",
   "execution_count": null,
   "id": "357bad9f",
   "metadata": {},
   "outputs": [],
   "source": [
    "data = pd.merge(data, df_products, on=\"product_id\", how=\"left\")\n",
    "data.drop(\"product_id\", axis=1, inplace=True)"
   ]
  },
  {
   "cell_type": "markdown",
   "id": "4bfcf659",
   "metadata": {},
   "source": [
    "### Informations sur les avis clients"
   ]
  },
  {
   "cell_type": "code",
   "execution_count": null,
   "id": "2ec735b6",
   "metadata": {},
   "outputs": [],
   "source": [
    "df_reviews = pd.read_csv(\"datasets/olist_order_reviews_dataset.csv\")\n",
    "df_reviews.head(3)"
   ]
  },
  {
   "cell_type": "code",
   "execution_count": null,
   "id": "32f5a951",
   "metadata": {},
   "outputs": [],
   "source": [
    "df_reviews.drop([\"review_id\", \"review_creation_date\", \"review_answer_timestamp\"], axis=1, inplace=True)"
   ]
  },
  {
   "cell_type": "code",
   "execution_count": null,
   "id": "12f68288",
   "metadata": {},
   "outputs": [],
   "source": [
    "df_reviews[\"review_score\"] = df_reviews[\"review_score\"].astype(\"int32\")"
   ]
  },
  {
   "cell_type": "code",
   "execution_count": null,
   "id": "53a2215a",
   "metadata": {},
   "outputs": [],
   "source": [
    "df_orders = pd.read_csv(\"datasets/olist_orders_dataset.csv\")\n",
    "df_orders.head(3)"
   ]
  },
  {
   "cell_type": "code",
   "execution_count": null,
   "id": "6625c67b",
   "metadata": {},
   "outputs": [],
   "source": [
    "df_orders.drop([\"order_purchase_timestamp\", \"order_delivered_carrier_date\"], axis=1, inplace=True)\n",
    "cols_time = [\"order_approved_at\", \"order_delivered_customer_date\", \"order_estimated_delivery_date\"]\n",
    "\n",
    "for cols in cols_time:\n",
    "    df_orders[cols] = pd.to_datetime(df_orders[cols], format=\"%Y-%m-%d\", errors=\"ignore\")"
   ]
  },
  {
   "cell_type": "code",
   "execution_count": null,
   "id": "e23c8327",
   "metadata": {},
   "outputs": [],
   "source": [
    "df_orders.info()"
   ]
  },
  {
   "cell_type": "markdown",
   "id": "46d7a525",
   "metadata": {},
   "source": [
    "### Calcul entre du nombre de jours entre la commande et la réception réel et estimé"
   ]
  },
  {
   "cell_type": "code",
   "execution_count": null,
   "id": "3ad4839e",
   "metadata": {},
   "outputs": [],
   "source": [
    "df_orders[\"nb_days_before_delivered\"] = df_orders[\"order_delivered_customer_date\"] - df_orders[\"order_approved_at\"]\n",
    "df_orders[\"nb_days_before_delivered_estimation\"] = df_orders[\"order_estimated_delivery_date\"] - df_orders[\"order_approved_at\"]\n",
    "\n",
    "cols_var = [\"nb_days_before_delivered\", \"nb_days_before_delivered_estimation\"]\n",
    "\n",
    "for cols in cols_var:\n",
    "    df_orders[cols] = df_orders[cols].dt.days\n",
    "\n",
    "df_orders.drop([\"order_approved_at\", \"order_delivered_customer_date\", \"order_estimated_delivery_date\"], axis=1, inplace=True)"
   ]
  },
  {
   "cell_type": "code",
   "execution_count": null,
   "id": "d5bde9f2",
   "metadata": {},
   "outputs": [],
   "source": [
    "df_orders.head()"
   ]
  },
  {
   "cell_type": "markdown",
   "id": "1427ff33",
   "metadata": {},
   "source": [
    "### Assemblage des différentes variables pour obtenir un dataset unique"
   ]
  },
  {
   "cell_type": "code",
   "execution_count": null,
   "id": "3aca5048",
   "metadata": {},
   "outputs": [],
   "source": [
    "df_customers_orders = pd.merge(df_customers, df_orders, on=\"customer_id\", how=\"left\")\n",
    "df_customers_orders.shape"
   ]
  },
  {
   "cell_type": "code",
   "execution_count": null,
   "id": "e7b7aa61",
   "metadata": {},
   "outputs": [],
   "source": [
    "df_customers_orders = pd.merge(df_customers_orders, df_reviews, on=\"order_id\", how=\"left\")\n",
    "df_customers_orders.shape"
   ]
  },
  {
   "cell_type": "code",
   "execution_count": null,
   "id": "8f7bd41c",
   "metadata": {},
   "outputs": [],
   "source": [
    "df_customers_orders.head(3)"
   ]
  },
  {
   "cell_type": "code",
   "execution_count": null,
   "id": "5119816e",
   "metadata": {},
   "outputs": [],
   "source": [
    "df_customers_orders.drop([\"order_id\"], axis=1, inplace=True)"
   ]
  },
  {
   "cell_type": "code",
   "execution_count": null,
   "id": "30bfc36e",
   "metadata": {},
   "outputs": [],
   "source": [
    "df_customers_orders.shape"
   ]
  },
  {
   "cell_type": "code",
   "execution_count": null,
   "id": "d5d14013",
   "metadata": {},
   "outputs": [],
   "source": [
    "df_customers_orders = df_customers_orders.groupby(\"customer_unique_id\").mean().reset_index()"
   ]
  },
  {
   "cell_type": "code",
   "execution_count": null,
   "id": "7d51bc05",
   "metadata": {},
   "outputs": [],
   "source": [
    "data = pd.merge(data, df_customers_orders, on=\"customer_unique_id\", how=\"left\")\n",
    "data.shape"
   ]
  },
  {
   "cell_type": "code",
   "execution_count": null,
   "id": "2345a5f9",
   "metadata": {},
   "outputs": [],
   "source": [
    "data = pd.merge(df_customers, data, on=\"customer_unique_id\", how=\"right\")\n",
    "data.shape"
   ]
  },
  {
   "cell_type": "code",
   "execution_count": null,
   "id": "30611639",
   "metadata": {},
   "outputs": [],
   "source": [
    "df_customers.head()"
   ]
  },
  {
   "cell_type": "code",
   "execution_count": null,
   "id": "3bfd019c",
   "metadata": {},
   "outputs": [],
   "source": [
    "data.drop_duplicates(subset=\"customer_unique_id\", inplace=True)"
   ]
  },
  {
   "cell_type": "code",
   "execution_count": null,
   "id": "7a1db234",
   "metadata": {},
   "outputs": [],
   "source": [
    "data.drop([\"customer_id\",\"customer_longitude_x\", \"customer_latitude_x\", \"customer_longitude_y\", \"customer_latitude_y\"], axis=1, inplace=True)\n",
    "data.set_index(\"customer_unique_id\", inplace=True)\n",
    "data.head(3)"
   ]
  },
  {
   "cell_type": "code",
   "execution_count": null,
   "id": "fff24b78",
   "metadata": {},
   "outputs": [],
   "source": [
    "data = data.loc[data[\"nb_days_before_delivered\"] > 0]\n",
    "data = data.loc[data[\"nb_days_before_delivered_estimation\"] > 0]\n",
    "data = data.loc[data[\"distance_customer_seller\"] > 0]"
   ]
  },
  {
   "cell_type": "code",
   "execution_count": null,
   "id": "25663af7",
   "metadata": {},
   "outputs": [],
   "source": [
    "data[\"review_score\"] = data[\"review_score\"].astype(\"int32\")"
   ]
  },
  {
   "cell_type": "markdown",
   "id": "7cec9bb1",
   "metadata": {},
   "source": [
    "## 3) Analyse des données clients"
   ]
  },
  {
   "cell_type": "code",
   "execution_count": null,
   "id": "224b8e63",
   "metadata": {},
   "outputs": [],
   "source": [
    "# statistiques descriptives\n",
    "data.describe()"
   ]
  },
  {
   "cell_type": "markdown",
   "id": "b48e9ca1",
   "metadata": {},
   "source": [
    "### Analyses univariées des variables utilisées pour la segmentation"
   ]
  },
  {
   "cell_type": "code",
   "execution_count": null,
   "id": "6cc8a535",
   "metadata": {},
   "outputs": [],
   "source": [
    "fig, axes = plt.subplots(1, 2, figsize=(15, 5))\n",
    "fig.suptitle('Description du nombre de jours entre la commande et la réception (réalité)')\n",
    "\n",
    "sns.histplot(ax=axes[0],x=\"nb_days_before_delivered\", data=data, kde=True)\n",
    "axes[0].set_title(\"Distribution du nombre de jours entre la commande et la réception (réalité)\")\n",
    "\n",
    "sns.boxplot(ax=axes[1], x=\"nb_days_before_delivered\", data=data)\n",
    "axes[1].set_title(\"Boxplot du nombre de jours entre la commande et la réception (réalité)\")\n",
    "\n",
    "plt.show()"
   ]
  },
  {
   "cell_type": "code",
   "execution_count": null,
   "id": "42a11c13",
   "metadata": {},
   "outputs": [],
   "source": [
    "fig, axes = plt.subplots(1, 2, figsize=(15, 5), sharex=True)\n",
    "fig.suptitle('Description du nombre de jours entre la commande et la réception (estimation)')\n",
    "\n",
    "sns.histplot(ax=axes[0],x=\"nb_days_before_delivered_estimation\", data=data, kde=True)\n",
    "axes[0].set_title(\"Distribution du nombre de jours entre la commande et la réception (estimation)\")\n",
    "\n",
    "sns.boxplot(ax=axes[1], x=\"nb_days_before_delivered_estimation\", data=data)\n",
    "axes[1].set_title(\"Boxplot du nombre de jours entre la commande et la réception (estimation)\")\n",
    "\n",
    "plt.show()"
   ]
  },
  {
   "cell_type": "code",
   "execution_count": null,
   "id": "8e1a0f04",
   "metadata": {},
   "outputs": [],
   "source": [
    "fig, axes = plt.subplots(1, 2, figsize=(15, 5), sharex=False)\n",
    "fig.suptitle('Description des avis clients')\n",
    "\n",
    "sns.countplot(ax=axes[0],y=\"review_score\", data=data)\n",
    "axes[0].set_title(\"Distribution des avis clients\")\n",
    "\n",
    "sns.boxplot(ax=axes[1], x=\"review_score\", data=data)\n",
    "axes[1].set_title(\"Boxplot des avis clients\")\n",
    "\n",
    "plt.show()"
   ]
  },
  {
   "cell_type": "code",
   "execution_count": null,
   "id": "7c962ce5",
   "metadata": {},
   "outputs": [],
   "source": [
    "fig, axes = plt.subplots(1, 2, figsize=(15, 5), sharex=True)\n",
    "fig.suptitle('Description de la distance en kilomètres entre clients et vendeurs')\n",
    "\n",
    "sns.histplot(ax=axes[0],x=\"distance_customer_seller\", data=data, kde=True)\n",
    "axes[0].set_title(\"Distribution de la distance en kilomètres entre clients et vendeurs\")\n",
    "\n",
    "sns.boxplot(ax=axes[1], x=\"distance_customer_seller\", data=data)\n",
    "axes[1].set_title(\"Boxplot de la distance en kilomètres entre clients et vendeurs\")\n",
    "\n",
    "plt.show()"
   ]
  },
  {
   "cell_type": "code",
   "execution_count": null,
   "id": "7d8e8f21",
   "metadata": {},
   "outputs": [],
   "source": [
    "data.drop(\"nb_days_before_delivered_estimation\", axis=1, inplace=True)"
   ]
  },
  {
   "cell_type": "code",
   "execution_count": null,
   "id": "9e5873b9",
   "metadata": {},
   "outputs": [],
   "source": [
    "data.to_csv(\"datasets/data_clustering_complete.csv\")"
   ]
  },
  {
   "cell_type": "markdown",
   "id": "e707517d",
   "metadata": {},
   "source": [
    "**Ressources :**\n",
    "\n",
    "- Intégration de la plateforme Olist sur le site de Carrefour Brésil: https://www.carrefour.com.br/parceiro/olist"
   ]
  }
 ],
 "metadata": {
  "interpreter": {
   "hash": "db691860837755bfd223dbb19bf59c90fd58faf4b85973e04a456a30cef6b76b"
  },
  "kernelspec": {
   "display_name": "Python 3",
   "language": "python",
   "name": "python3"
  },
  "language_info": {
   "codemirror_mode": {
    "name": "ipython",
    "version": 3
   },
   "file_extension": ".py",
   "mimetype": "text/x-python",
   "name": "python",
   "nbconvert_exporter": "python",
   "pygments_lexer": "ipython3",
   "version": "3.8.11"
  }
 },
 "nbformat": 4,
 "nbformat_minor": 5
}
