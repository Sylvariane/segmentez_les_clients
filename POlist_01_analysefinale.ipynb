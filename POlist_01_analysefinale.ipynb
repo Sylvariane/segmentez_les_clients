{
 "cells": [
  {
   "cell_type": "code",
   "execution_count": 1,
   "id": "553ae08f",
   "metadata": {},
   "outputs": [],
   "source": [
    "import warnings\n",
    "warnings.filterwarnings(\"ignore\")\n",
    "\n",
    "import pandas as pd \n",
    "import numpy as np \n",
    "import matplotlib.pyplot as plt \n",
    "import seaborn as sns\n",
    "import gc\n",
    "import datetime"
   ]
  },
  {
   "cell_type": "code",
   "execution_count": 2,
   "id": "b72275ba",
   "metadata": {},
   "outputs": [],
   "source": [
    "sns.set_palette(\"Pastel2\")"
   ]
  },
  {
   "cell_type": "code",
   "execution_count": 3,
   "id": "fb66f3cb",
   "metadata": {},
   "outputs": [
    {
     "data": {
      "text/html": [
       "<div>\n",
       "<style scoped>\n",
       "    .dataframe tbody tr th:only-of-type {\n",
       "        vertical-align: middle;\n",
       "    }\n",
       "\n",
       "    .dataframe tbody tr th {\n",
       "        vertical-align: top;\n",
       "    }\n",
       "\n",
       "    .dataframe thead th {\n",
       "        text-align: right;\n",
       "    }\n",
       "</style>\n",
       "<table border=\"1\" class=\"dataframe\">\n",
       "  <thead>\n",
       "    <tr style=\"text-align: right;\">\n",
       "      <th></th>\n",
       "      <th>customer_id</th>\n",
       "      <th>customer_unique_id</th>\n",
       "      <th>customer_zip_code_prefix</th>\n",
       "      <th>customer_city</th>\n",
       "      <th>customer_state</th>\n",
       "    </tr>\n",
       "  </thead>\n",
       "  <tbody>\n",
       "    <tr>\n",
       "      <th>0</th>\n",
       "      <td>06b8999e2fba1a1fbc88172c00ba8bc7</td>\n",
       "      <td>861eff4711a542e4b93843c6dd7febb0</td>\n",
       "      <td>14409</td>\n",
       "      <td>franca</td>\n",
       "      <td>SP</td>\n",
       "    </tr>\n",
       "    <tr>\n",
       "      <th>1</th>\n",
       "      <td>18955e83d337fd6b2def6b18a428ac77</td>\n",
       "      <td>290c77bc529b7ac935b93aa66c333dc3</td>\n",
       "      <td>9790</td>\n",
       "      <td>sao bernardo do campo</td>\n",
       "      <td>SP</td>\n",
       "    </tr>\n",
       "    <tr>\n",
       "      <th>2</th>\n",
       "      <td>4e7b3e00288586ebd08712fdd0374a03</td>\n",
       "      <td>060e732b5b29e8181a18229c7b0b2b5e</td>\n",
       "      <td>1151</td>\n",
       "      <td>sao paulo</td>\n",
       "      <td>SP</td>\n",
       "    </tr>\n",
       "    <tr>\n",
       "      <th>3</th>\n",
       "      <td>b2b6027bc5c5109e529d4dc6358b12c3</td>\n",
       "      <td>259dac757896d24d7702b9acbbff3f3c</td>\n",
       "      <td>8775</td>\n",
       "      <td>mogi das cruzes</td>\n",
       "      <td>SP</td>\n",
       "    </tr>\n",
       "    <tr>\n",
       "      <th>4</th>\n",
       "      <td>4f2d8ab171c80ec8364f7c12e35b23ad</td>\n",
       "      <td>345ecd01c38d18a9036ed96c73b8d066</td>\n",
       "      <td>13056</td>\n",
       "      <td>campinas</td>\n",
       "      <td>SP</td>\n",
       "    </tr>\n",
       "  </tbody>\n",
       "</table>\n",
       "</div>"
      ],
      "text/plain": [
       "                        customer_id                customer_unique_id  \\\n",
       "0  06b8999e2fba1a1fbc88172c00ba8bc7  861eff4711a542e4b93843c6dd7febb0   \n",
       "1  18955e83d337fd6b2def6b18a428ac77  290c77bc529b7ac935b93aa66c333dc3   \n",
       "2  4e7b3e00288586ebd08712fdd0374a03  060e732b5b29e8181a18229c7b0b2b5e   \n",
       "3  b2b6027bc5c5109e529d4dc6358b12c3  259dac757896d24d7702b9acbbff3f3c   \n",
       "4  4f2d8ab171c80ec8364f7c12e35b23ad  345ecd01c38d18a9036ed96c73b8d066   \n",
       "\n",
       "   customer_zip_code_prefix          customer_city customer_state  \n",
       "0                     14409                 franca             SP  \n",
       "1                      9790  sao bernardo do campo             SP  \n",
       "2                      1151              sao paulo             SP  \n",
       "3                      8775        mogi das cruzes             SP  \n",
       "4                     13056               campinas             SP  "
      ]
     },
     "execution_count": 3,
     "metadata": {},
     "output_type": "execute_result"
    }
   ],
   "source": [
    "df_customers = pd.read_csv(\"datasets/olist_customers_dataset.csv\")\n",
    "df_customers.head()"
   ]
  },
  {
   "cell_type": "code",
   "execution_count": 4,
   "id": "03b6a6ef",
   "metadata": {},
   "outputs": [
    {
     "data": {
      "text/plain": [
       "96096"
      ]
     },
     "execution_count": 4,
     "metadata": {},
     "output_type": "execute_result"
    }
   ],
   "source": [
    "df_customers[\"customer_unique_id\"].nunique()"
   ]
  },
  {
   "cell_type": "code",
   "execution_count": 5,
   "id": "be0d5466",
   "metadata": {},
   "outputs": [
    {
     "data": {
      "text/plain": [
       "99441"
      ]
     },
     "execution_count": 5,
     "metadata": {},
     "output_type": "execute_result"
    }
   ],
   "source": [
    "df_customers[\"customer_id\"].nunique()"
   ]
  },
  {
   "cell_type": "code",
   "execution_count": 6,
   "id": "0d07641b",
   "metadata": {},
   "outputs": [],
   "source": [
    "df_customers.drop_duplicates(subset=\"customer_id\", inplace=True)\n",
    "df_customers.drop_duplicates(subset=\"customer_unique_id\", inplace=True)"
   ]
  },
  {
   "cell_type": "code",
   "execution_count": 7,
   "id": "b9b72ae7",
   "metadata": {},
   "outputs": [
    {
     "data": {
      "text/plain": [
       "(96096, 5)"
      ]
     },
     "execution_count": 7,
     "metadata": {},
     "output_type": "execute_result"
    }
   ],
   "source": [
    "df_customers.shape"
   ]
  },
  {
   "cell_type": "code",
   "execution_count": 8,
   "id": "25215b8f",
   "metadata": {},
   "outputs": [
    {
     "data": {
      "text/plain": [
       "(99441, 8)"
      ]
     },
     "execution_count": 8,
     "metadata": {},
     "output_type": "execute_result"
    }
   ],
   "source": [
    "df_orders = pd.read_csv(\"datasets/olist_orders_dataset.csv\")\n",
    "df_orders.shape"
   ]
  },
  {
   "cell_type": "code",
   "execution_count": 9,
   "id": "8a49dec1",
   "metadata": {},
   "outputs": [
    {
     "data": {
      "text/plain": [
       "(99441, 13)"
      ]
     },
     "execution_count": 9,
     "metadata": {},
     "output_type": "execute_result"
    }
   ],
   "source": [
    "df = pd.merge(df_customers, df_orders, left_on=\"customer_unique_id\", right_on=\"customer_id\", how=\"right\")\n",
    "df.shape"
   ]
  },
  {
   "cell_type": "code",
   "execution_count": 10,
   "id": "5d291f72",
   "metadata": {},
   "outputs": [
    {
     "data": {
      "text/plain": [
       "(103886, 5)"
      ]
     },
     "execution_count": 10,
     "metadata": {},
     "output_type": "execute_result"
    }
   ],
   "source": [
    "df_orders_payments = pd.read_csv(\"datasets/olist_order_payments_dataset.csv\")\n",
    "df_orders_payments.shape"
   ]
  },
  {
   "cell_type": "code",
   "execution_count": 11,
   "id": "11804f2b",
   "metadata": {},
   "outputs": [
    {
     "data": {
      "text/plain": [
       "(103886, 17)"
      ]
     },
     "execution_count": 11,
     "metadata": {},
     "output_type": "execute_result"
    }
   ],
   "source": [
    "df = pd.merge(df, df_orders_payments, left_on=\"order_id\", right_on=\"order_id\", how=\"right\")\n",
    "df.shape"
   ]
  },
  {
   "cell_type": "code",
   "execution_count": 12,
   "id": "99ee85ac",
   "metadata": {},
   "outputs": [
    {
     "data": {
      "text/html": [
       "<div>\n",
       "<style scoped>\n",
       "    .dataframe tbody tr th:only-of-type {\n",
       "        vertical-align: middle;\n",
       "    }\n",
       "\n",
       "    .dataframe tbody tr th {\n",
       "        vertical-align: top;\n",
       "    }\n",
       "\n",
       "    .dataframe thead th {\n",
       "        text-align: right;\n",
       "    }\n",
       "</style>\n",
       "<table border=\"1\" class=\"dataframe\">\n",
       "  <thead>\n",
       "    <tr style=\"text-align: right;\">\n",
       "      <th></th>\n",
       "      <th>customer_id_x</th>\n",
       "      <th>customer_unique_id</th>\n",
       "      <th>customer_zip_code_prefix</th>\n",
       "      <th>customer_city</th>\n",
       "      <th>customer_state</th>\n",
       "      <th>order_id</th>\n",
       "      <th>customer_id_y</th>\n",
       "      <th>order_status</th>\n",
       "      <th>order_purchase_timestamp</th>\n",
       "      <th>order_approved_at</th>\n",
       "      <th>order_delivered_carrier_date</th>\n",
       "      <th>order_delivered_customer_date</th>\n",
       "      <th>order_estimated_delivery_date</th>\n",
       "      <th>payment_sequential</th>\n",
       "      <th>payment_type</th>\n",
       "      <th>payment_installments</th>\n",
       "      <th>payment_value</th>\n",
       "    </tr>\n",
       "  </thead>\n",
       "  <tbody>\n",
       "    <tr>\n",
       "      <th>0</th>\n",
       "      <td>NaN</td>\n",
       "      <td>NaN</td>\n",
       "      <td>NaN</td>\n",
       "      <td>NaN</td>\n",
       "      <td>NaN</td>\n",
       "      <td>b81ef226f3fe1789b1e8b2acac839d17</td>\n",
       "      <td>0a8556ac6be836b46b3e89920d59291c</td>\n",
       "      <td>delivered</td>\n",
       "      <td>2018-04-25 22:01:49</td>\n",
       "      <td>2018-04-25 22:15:09</td>\n",
       "      <td>2018-05-02 15:20:00</td>\n",
       "      <td>2018-05-09 17:36:51</td>\n",
       "      <td>2018-05-22 00:00:00</td>\n",
       "      <td>1</td>\n",
       "      <td>credit_card</td>\n",
       "      <td>8</td>\n",
       "      <td>99.33</td>\n",
       "    </tr>\n",
       "    <tr>\n",
       "      <th>1</th>\n",
       "      <td>NaN</td>\n",
       "      <td>NaN</td>\n",
       "      <td>NaN</td>\n",
       "      <td>NaN</td>\n",
       "      <td>NaN</td>\n",
       "      <td>a9810da82917af2d9aefd1278f1dcfa0</td>\n",
       "      <td>f2c7fc58a9de810828715166c672f10a</td>\n",
       "      <td>delivered</td>\n",
       "      <td>2018-06-26 11:01:38</td>\n",
       "      <td>2018-06-26 11:18:58</td>\n",
       "      <td>2018-06-28 14:18:00</td>\n",
       "      <td>2018-06-29 20:32:09</td>\n",
       "      <td>2018-07-16 00:00:00</td>\n",
       "      <td>1</td>\n",
       "      <td>credit_card</td>\n",
       "      <td>1</td>\n",
       "      <td>24.39</td>\n",
       "    </tr>\n",
       "    <tr>\n",
       "      <th>2</th>\n",
       "      <td>NaN</td>\n",
       "      <td>NaN</td>\n",
       "      <td>NaN</td>\n",
       "      <td>NaN</td>\n",
       "      <td>NaN</td>\n",
       "      <td>25e8ea4e93396b6fa0d3dd708e76c1bd</td>\n",
       "      <td>25b14b69de0b6e184ae6fe2755e478f9</td>\n",
       "      <td>delivered</td>\n",
       "      <td>2017-12-12 11:19:55</td>\n",
       "      <td>2017-12-14 09:52:34</td>\n",
       "      <td>2017-12-15 20:13:22</td>\n",
       "      <td>2017-12-18 17:24:41</td>\n",
       "      <td>2018-01-04 00:00:00</td>\n",
       "      <td>1</td>\n",
       "      <td>credit_card</td>\n",
       "      <td>1</td>\n",
       "      <td>65.71</td>\n",
       "    </tr>\n",
       "    <tr>\n",
       "      <th>3</th>\n",
       "      <td>NaN</td>\n",
       "      <td>NaN</td>\n",
       "      <td>NaN</td>\n",
       "      <td>NaN</td>\n",
       "      <td>NaN</td>\n",
       "      <td>ba78997921bbcdc1373bb41e913ab953</td>\n",
       "      <td>7a5d8efaaa1081f800628c30d2b0728f</td>\n",
       "      <td>delivered</td>\n",
       "      <td>2017-12-06 12:04:06</td>\n",
       "      <td>2017-12-06 12:13:20</td>\n",
       "      <td>2017-12-07 20:28:28</td>\n",
       "      <td>2017-12-21 01:35:51</td>\n",
       "      <td>2018-01-04 00:00:00</td>\n",
       "      <td>1</td>\n",
       "      <td>credit_card</td>\n",
       "      <td>8</td>\n",
       "      <td>107.78</td>\n",
       "    </tr>\n",
       "    <tr>\n",
       "      <th>4</th>\n",
       "      <td>NaN</td>\n",
       "      <td>NaN</td>\n",
       "      <td>NaN</td>\n",
       "      <td>NaN</td>\n",
       "      <td>NaN</td>\n",
       "      <td>42fdf880ba16b47b59251dd489d4441a</td>\n",
       "      <td>15fd6fb8f8312dbb4674e4518d6fa3b3</td>\n",
       "      <td>delivered</td>\n",
       "      <td>2018-05-21 13:59:17</td>\n",
       "      <td>2018-05-21 16:14:41</td>\n",
       "      <td>2018-05-22 11:46:00</td>\n",
       "      <td>2018-06-01 21:44:53</td>\n",
       "      <td>2018-06-13 00:00:00</td>\n",
       "      <td>1</td>\n",
       "      <td>credit_card</td>\n",
       "      <td>2</td>\n",
       "      <td>128.45</td>\n",
       "    </tr>\n",
       "  </tbody>\n",
       "</table>\n",
       "</div>"
      ],
      "text/plain": [
       "  customer_id_x customer_unique_id  customer_zip_code_prefix customer_city  \\\n",
       "0           NaN                NaN                       NaN           NaN   \n",
       "1           NaN                NaN                       NaN           NaN   \n",
       "2           NaN                NaN                       NaN           NaN   \n",
       "3           NaN                NaN                       NaN           NaN   \n",
       "4           NaN                NaN                       NaN           NaN   \n",
       "\n",
       "  customer_state                          order_id  \\\n",
       "0            NaN  b81ef226f3fe1789b1e8b2acac839d17   \n",
       "1            NaN  a9810da82917af2d9aefd1278f1dcfa0   \n",
       "2            NaN  25e8ea4e93396b6fa0d3dd708e76c1bd   \n",
       "3            NaN  ba78997921bbcdc1373bb41e913ab953   \n",
       "4            NaN  42fdf880ba16b47b59251dd489d4441a   \n",
       "\n",
       "                      customer_id_y order_status order_purchase_timestamp  \\\n",
       "0  0a8556ac6be836b46b3e89920d59291c    delivered      2018-04-25 22:01:49   \n",
       "1  f2c7fc58a9de810828715166c672f10a    delivered      2018-06-26 11:01:38   \n",
       "2  25b14b69de0b6e184ae6fe2755e478f9    delivered      2017-12-12 11:19:55   \n",
       "3  7a5d8efaaa1081f800628c30d2b0728f    delivered      2017-12-06 12:04:06   \n",
       "4  15fd6fb8f8312dbb4674e4518d6fa3b3    delivered      2018-05-21 13:59:17   \n",
       "\n",
       "     order_approved_at order_delivered_carrier_date  \\\n",
       "0  2018-04-25 22:15:09          2018-05-02 15:20:00   \n",
       "1  2018-06-26 11:18:58          2018-06-28 14:18:00   \n",
       "2  2017-12-14 09:52:34          2017-12-15 20:13:22   \n",
       "3  2017-12-06 12:13:20          2017-12-07 20:28:28   \n",
       "4  2018-05-21 16:14:41          2018-05-22 11:46:00   \n",
       "\n",
       "  order_delivered_customer_date order_estimated_delivery_date  \\\n",
       "0           2018-05-09 17:36:51           2018-05-22 00:00:00   \n",
       "1           2018-06-29 20:32:09           2018-07-16 00:00:00   \n",
       "2           2017-12-18 17:24:41           2018-01-04 00:00:00   \n",
       "3           2017-12-21 01:35:51           2018-01-04 00:00:00   \n",
       "4           2018-06-01 21:44:53           2018-06-13 00:00:00   \n",
       "\n",
       "   payment_sequential payment_type  payment_installments  payment_value  \n",
       "0                   1  credit_card                     8          99.33  \n",
       "1                   1  credit_card                     1          24.39  \n",
       "2                   1  credit_card                     1          65.71  \n",
       "3                   1  credit_card                     8         107.78  \n",
       "4                   1  credit_card                     2         128.45  "
      ]
     },
     "execution_count": 12,
     "metadata": {},
     "output_type": "execute_result"
    }
   ],
   "source": [
    "df.head()"
   ]
  },
  {
   "cell_type": "code",
   "execution_count": 13,
   "id": "85dafeee",
   "metadata": {},
   "outputs": [
    {
     "data": {
      "text/html": [
       "<div>\n",
       "<style scoped>\n",
       "    .dataframe tbody tr th:only-of-type {\n",
       "        vertical-align: middle;\n",
       "    }\n",
       "\n",
       "    .dataframe tbody tr th {\n",
       "        vertical-align: top;\n",
       "    }\n",
       "\n",
       "    .dataframe thead th {\n",
       "        text-align: right;\n",
       "    }\n",
       "</style>\n",
       "<table border=\"1\" class=\"dataframe\">\n",
       "  <thead>\n",
       "    <tr style=\"text-align: right;\">\n",
       "      <th></th>\n",
       "      <th>order_id</th>\n",
       "      <th>customer_id_y</th>\n",
       "      <th>order_status</th>\n",
       "      <th>order_purchase_timestamp</th>\n",
       "      <th>order_approved_at</th>\n",
       "      <th>order_delivered_carrier_date</th>\n",
       "      <th>order_delivered_customer_date</th>\n",
       "      <th>order_estimated_delivery_date</th>\n",
       "      <th>payment_sequential</th>\n",
       "      <th>payment_type</th>\n",
       "      <th>payment_installments</th>\n",
       "      <th>payment_value</th>\n",
       "    </tr>\n",
       "  </thead>\n",
       "  <tbody>\n",
       "    <tr>\n",
       "      <th>0</th>\n",
       "      <td>b81ef226f3fe1789b1e8b2acac839d17</td>\n",
       "      <td>0a8556ac6be836b46b3e89920d59291c</td>\n",
       "      <td>delivered</td>\n",
       "      <td>2018-04-25 22:01:49</td>\n",
       "      <td>2018-04-25 22:15:09</td>\n",
       "      <td>2018-05-02 15:20:00</td>\n",
       "      <td>2018-05-09 17:36:51</td>\n",
       "      <td>2018-05-22 00:00:00</td>\n",
       "      <td>1</td>\n",
       "      <td>credit_card</td>\n",
       "      <td>8</td>\n",
       "      <td>99.33</td>\n",
       "    </tr>\n",
       "    <tr>\n",
       "      <th>1</th>\n",
       "      <td>a9810da82917af2d9aefd1278f1dcfa0</td>\n",
       "      <td>f2c7fc58a9de810828715166c672f10a</td>\n",
       "      <td>delivered</td>\n",
       "      <td>2018-06-26 11:01:38</td>\n",
       "      <td>2018-06-26 11:18:58</td>\n",
       "      <td>2018-06-28 14:18:00</td>\n",
       "      <td>2018-06-29 20:32:09</td>\n",
       "      <td>2018-07-16 00:00:00</td>\n",
       "      <td>1</td>\n",
       "      <td>credit_card</td>\n",
       "      <td>1</td>\n",
       "      <td>24.39</td>\n",
       "    </tr>\n",
       "    <tr>\n",
       "      <th>2</th>\n",
       "      <td>25e8ea4e93396b6fa0d3dd708e76c1bd</td>\n",
       "      <td>25b14b69de0b6e184ae6fe2755e478f9</td>\n",
       "      <td>delivered</td>\n",
       "      <td>2017-12-12 11:19:55</td>\n",
       "      <td>2017-12-14 09:52:34</td>\n",
       "      <td>2017-12-15 20:13:22</td>\n",
       "      <td>2017-12-18 17:24:41</td>\n",
       "      <td>2018-01-04 00:00:00</td>\n",
       "      <td>1</td>\n",
       "      <td>credit_card</td>\n",
       "      <td>1</td>\n",
       "      <td>65.71</td>\n",
       "    </tr>\n",
       "  </tbody>\n",
       "</table>\n",
       "</div>"
      ],
      "text/plain": [
       "                           order_id                     customer_id_y  \\\n",
       "0  b81ef226f3fe1789b1e8b2acac839d17  0a8556ac6be836b46b3e89920d59291c   \n",
       "1  a9810da82917af2d9aefd1278f1dcfa0  f2c7fc58a9de810828715166c672f10a   \n",
       "2  25e8ea4e93396b6fa0d3dd708e76c1bd  25b14b69de0b6e184ae6fe2755e478f9   \n",
       "\n",
       "  order_status order_purchase_timestamp    order_approved_at  \\\n",
       "0    delivered      2018-04-25 22:01:49  2018-04-25 22:15:09   \n",
       "1    delivered      2018-06-26 11:01:38  2018-06-26 11:18:58   \n",
       "2    delivered      2017-12-12 11:19:55  2017-12-14 09:52:34   \n",
       "\n",
       "  order_delivered_carrier_date order_delivered_customer_date  \\\n",
       "0          2018-05-02 15:20:00           2018-05-09 17:36:51   \n",
       "1          2018-06-28 14:18:00           2018-06-29 20:32:09   \n",
       "2          2017-12-15 20:13:22           2017-12-18 17:24:41   \n",
       "\n",
       "  order_estimated_delivery_date  payment_sequential payment_type  \\\n",
       "0           2018-05-22 00:00:00                   1  credit_card   \n",
       "1           2018-07-16 00:00:00                   1  credit_card   \n",
       "2           2018-01-04 00:00:00                   1  credit_card   \n",
       "\n",
       "   payment_installments  payment_value  \n",
       "0                     8          99.33  \n",
       "1                     1          24.39  \n",
       "2                     1          65.71  "
      ]
     },
     "execution_count": 13,
     "metadata": {},
     "output_type": "execute_result"
    }
   ],
   "source": [
    "df.drop([\"customer_id_x\", \"customer_unique_id\", \"customer_zip_code_prefix\", \"customer_city\", \"customer_state\"], axis=1, inplace=True)\n",
    "df.head(3)"
   ]
  },
  {
   "cell_type": "code",
   "execution_count": 14,
   "id": "272fb3cf",
   "metadata": {},
   "outputs": [],
   "source": [
    "df.rename(columns={\"customer_id_y\" : \"customer_id\"}, inplace=True)"
   ]
  },
  {
   "cell_type": "code",
   "execution_count": 15,
   "id": "4ee43945",
   "metadata": {},
   "outputs": [],
   "source": [
    "time = [\"order_purchase_timestamp\", \"order_approved_at\", \"order_delivered_carrier_date\", \"order_delivered_customer_date\", \"order_estimated_delivery_date\"]\n",
    "\n",
    "for cols in time:\n",
    "    df[cols] = pd.to_datetime(df[cols], format=\"%Y-%m-%d\", errors=\"ignore\")"
   ]
  },
  {
   "cell_type": "code",
   "execution_count": 16,
   "id": "7b7660f9",
   "metadata": {},
   "outputs": [],
   "source": [
    "snapshot_date = max(df.order_purchase_timestamp) + datetime.timedelta(days=1)"
   ]
  },
  {
   "cell_type": "code",
   "execution_count": 17,
   "id": "6c5128b8",
   "metadata": {},
   "outputs": [],
   "source": [
    "rfm_custom = df.groupby(\"customer_id\").agg({\n",
    "    \"order_purchase_timestamp\" : lambda x: (snapshot_date - x.max()).days,\n",
    "    \"order_id\" : 'count',\n",
    "    \"payment_value\" : \"mean\"\n",
    "})"
   ]
  },
  {
   "cell_type": "code",
   "execution_count": 18,
   "id": "6d524e76",
   "metadata": {},
   "outputs": [],
   "source": [
    "rfm_custom.columns = [\"Recency\", \"Frequency\", \"MonetaryValue\"]\n",
    "data = rfm_custom.copy()"
   ]
  },
  {
   "cell_type": "code",
   "execution_count": 19,
   "id": "cc2df0c2",
   "metadata": {
    "scrolled": true
   },
   "outputs": [
    {
     "data": {
      "text/html": [
       "<div>\n",
       "<style scoped>\n",
       "    .dataframe tbody tr th:only-of-type {\n",
       "        vertical-align: middle;\n",
       "    }\n",
       "\n",
       "    .dataframe tbody tr th {\n",
       "        vertical-align: top;\n",
       "    }\n",
       "\n",
       "    .dataframe thead th {\n",
       "        text-align: right;\n",
       "    }\n",
       "</style>\n",
       "<table border=\"1\" class=\"dataframe\">\n",
       "  <thead>\n",
       "    <tr style=\"text-align: right;\">\n",
       "      <th></th>\n",
       "      <th>Recency</th>\n",
       "      <th>Frequency</th>\n",
       "      <th>MonetaryValue</th>\n",
       "    </tr>\n",
       "    <tr>\n",
       "      <th>customer_id</th>\n",
       "      <th></th>\n",
       "      <th></th>\n",
       "      <th></th>\n",
       "    </tr>\n",
       "  </thead>\n",
       "  <tbody>\n",
       "    <tr>\n",
       "      <th>00012a2ce6f8dcda20d059ce98491703</th>\n",
       "      <td>338</td>\n",
       "      <td>1</td>\n",
       "      <td>114.74</td>\n",
       "    </tr>\n",
       "    <tr>\n",
       "      <th>000161a058600d5901f007fab4c27140</th>\n",
       "      <td>459</td>\n",
       "      <td>1</td>\n",
       "      <td>67.41</td>\n",
       "    </tr>\n",
       "    <tr>\n",
       "      <th>0001fd6190edaaf884bcaf3d49edf079</th>\n",
       "      <td>597</td>\n",
       "      <td>1</td>\n",
       "      <td>195.42</td>\n",
       "    </tr>\n",
       "    <tr>\n",
       "      <th>0002414f95344307404f0ace7a26f1d5</th>\n",
       "      <td>428</td>\n",
       "      <td>1</td>\n",
       "      <td>179.35</td>\n",
       "    </tr>\n",
       "    <tr>\n",
       "      <th>000379cdec625522490c315e70c7a9fb</th>\n",
       "      <td>199</td>\n",
       "      <td>1</td>\n",
       "      <td>107.01</td>\n",
       "    </tr>\n",
       "  </tbody>\n",
       "</table>\n",
       "</div>"
      ],
      "text/plain": [
       "                                  Recency  Frequency  MonetaryValue\n",
       "customer_id                                                        \n",
       "00012a2ce6f8dcda20d059ce98491703      338          1         114.74\n",
       "000161a058600d5901f007fab4c27140      459          1          67.41\n",
       "0001fd6190edaaf884bcaf3d49edf079      597          1         195.42\n",
       "0002414f95344307404f0ace7a26f1d5      428          1         179.35\n",
       "000379cdec625522490c315e70c7a9fb      199          1         107.01"
      ]
     },
     "execution_count": 19,
     "metadata": {},
     "output_type": "execute_result"
    }
   ],
   "source": [
    "data.head()"
   ]
  },
  {
   "cell_type": "code",
   "execution_count": 20,
   "id": "1bde1a4a",
   "metadata": {},
   "outputs": [
    {
     "data": {
      "text/html": [
       "<div>\n",
       "<style scoped>\n",
       "    .dataframe tbody tr th:only-of-type {\n",
       "        vertical-align: middle;\n",
       "    }\n",
       "\n",
       "    .dataframe tbody tr th {\n",
       "        vertical-align: top;\n",
       "    }\n",
       "\n",
       "    .dataframe thead th {\n",
       "        text-align: right;\n",
       "    }\n",
       "</style>\n",
       "<table border=\"1\" class=\"dataframe\">\n",
       "  <thead>\n",
       "    <tr style=\"text-align: right;\">\n",
       "      <th></th>\n",
       "      <th>Recency</th>\n",
       "      <th>Frequency</th>\n",
       "      <th>MonetaryValue</th>\n",
       "    </tr>\n",
       "  </thead>\n",
       "  <tbody>\n",
       "    <tr>\n",
       "      <th>count</th>\n",
       "      <td>99440.000000</td>\n",
       "      <td>99440.000000</td>\n",
       "      <td>99440.000000</td>\n",
       "    </tr>\n",
       "    <tr>\n",
       "      <th>mean</th>\n",
       "      <td>290.895444</td>\n",
       "      <td>1.044710</td>\n",
       "      <td>158.317915</td>\n",
       "    </tr>\n",
       "    <tr>\n",
       "      <th>std</th>\n",
       "      <td>153.660796</td>\n",
       "      <td>0.381166</td>\n",
       "      <td>219.194549</td>\n",
       "    </tr>\n",
       "    <tr>\n",
       "      <th>min</th>\n",
       "      <td>1.000000</td>\n",
       "      <td>1.000000</td>\n",
       "      <td>0.000000</td>\n",
       "    </tr>\n",
       "    <tr>\n",
       "      <th>25%</th>\n",
       "      <td>167.000000</td>\n",
       "      <td>1.000000</td>\n",
       "      <td>60.190000</td>\n",
       "    </tr>\n",
       "    <tr>\n",
       "      <th>50%</th>\n",
       "      <td>272.000000</td>\n",
       "      <td>1.000000</td>\n",
       "      <td>103.330000</td>\n",
       "    </tr>\n",
       "    <tr>\n",
       "      <th>75%</th>\n",
       "      <td>401.000000</td>\n",
       "      <td>1.000000</td>\n",
       "      <td>174.990000</td>\n",
       "    </tr>\n",
       "    <tr>\n",
       "      <th>max</th>\n",
       "      <td>773.000000</td>\n",
       "      <td>29.000000</td>\n",
       "      <td>13664.080000</td>\n",
       "    </tr>\n",
       "  </tbody>\n",
       "</table>\n",
       "</div>"
      ],
      "text/plain": [
       "            Recency     Frequency  MonetaryValue\n",
       "count  99440.000000  99440.000000   99440.000000\n",
       "mean     290.895444      1.044710     158.317915\n",
       "std      153.660796      0.381166     219.194549\n",
       "min        1.000000      1.000000       0.000000\n",
       "25%      167.000000      1.000000      60.190000\n",
       "50%      272.000000      1.000000     103.330000\n",
       "75%      401.000000      1.000000     174.990000\n",
       "max      773.000000     29.000000   13664.080000"
      ]
     },
     "execution_count": 20,
     "metadata": {},
     "output_type": "execute_result"
    }
   ],
   "source": [
    "data.describe()"
   ]
  },
  {
   "cell_type": "code",
   "execution_count": 21,
   "id": "41f59e7c",
   "metadata": {},
   "outputs": [
    {
     "data": {
      "image/png": "[encoded data removed]",
      "text/plain": [
       "<Figure size 1500x500 with 2 Axes>"
      ]
     },
     "metadata": {},
     "output_type": "display_data"
    }
   ],
   "source": [
    "fig, axes = plt.subplots(1, 2, figsize=(15, 5), sharex=True)\n",
    "fig.suptitle('Description des montants dépensés par les clients')\n",
    "\n",
    "sns.histplot(ax=axes[0],x=\"MonetaryValue\", data=data, kde=True)\n",
    "axes[0].set_title(\"Distribution des montants dépensés\")\n",
    "\n",
    "sns.boxplot(ax=axes[1], x=\"MonetaryValue\", data=data)\n",
    "axes[1].set_title(\"Boxplot des montants dépensés\")\n",
    "\n",
    "plt.show()"
   ]
  },
  {
   "cell_type": "code",
   "execution_count": 22,
   "id": "bfc2083f",
   "metadata": {},
   "outputs": [
    {
     "data": {
      "image/png": "[encoded data removed]",
      "text/plain": [
       "<Figure size 1500x500 with 2 Axes>"
      ]
     },
     "metadata": {},
     "output_type": "display_data"
    }
   ],
   "source": [
    "fig, axes = plt.subplots(1, 2, figsize=(15, 5), sharex=True)\n",
    "fig.suptitle('Description des jours passés depuis la dernière commande')\n",
    "\n",
    "sns.histplot(ax=axes[0],x=\"Recency\", data=data, kde=True)\n",
    "axes[0].set_title(\"Distribution des jours passés depuis la dernière commande\")\n",
    "\n",
    "sns.boxplot(ax=axes[1], x=\"Recency\", data=data)\n",
    "axes[1].set_title(\"Boxplot des jours passés depuis la dernière commande\")\n",
    "\n",
    "plt.show()"
   ]
  },
  {
   "cell_type": "code",
   "execution_count": 23,
   "id": "a5c8e049",
   "metadata": {},
   "outputs": [
    {
     "data": {
      "image/png": "[encoded data removed]",
      "text/plain": [
       "<Figure size 1500x500 with 2 Axes>"
      ]
     },
     "metadata": {},
     "output_type": "display_data"
    }
   ],
   "source": [
    "fig, axes = plt.subplots(1, 2, figsize=(15, 5), sharex=True)\n",
    "fig.suptitle('Description du nombre d\\'achats réalisés par chaque client')\n",
    "\n",
    "sns.histplot(ax=axes[0],x=\"Frequency\", data=data, kde=True)\n",
    "axes[0].set_title(\"Distribution du nombre d\\'achats réalisés par chaque client\")\n",
    "\n",
    "sns.boxplot(ax=axes[1], x=\"Frequency\", data=data)\n",
    "axes[1].set_title(\"Boxplot ddu nombre d\\'achats réalisés par chaque client\")\n",
    "\n",
    "plt.show()"
   ]
  },
  {
   "cell_type": "code",
   "execution_count": 24,
   "id": "08162b20",
   "metadata": {},
   "outputs": [],
   "source": [
    "data.to_csv(\"datasets/data_segmentation.csv\")"
   ]
  }
 ],
 "metadata": {
  "kernelspec": {
   "display_name": "Python 3",
   "language": "python",
   "name": "python3"
  },
  "language_info": {
   "codemirror_mode": {
    "name": "ipython",
    "version": 3
   },
   "file_extension": ".py",
   "mimetype": "text/x-python",
   "name": "python",
   "nbconvert_exporter": "python",
   "pygments_lexer": "ipython3",
   "version": "3.8.11"
  }
 },
 "nbformat": 4,
 "nbformat_minor": 5
}
