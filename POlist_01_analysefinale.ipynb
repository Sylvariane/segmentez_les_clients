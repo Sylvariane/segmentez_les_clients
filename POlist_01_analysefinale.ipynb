{
 "cells": [
  {
   "cell_type": "markdown",
   "id": "2b7f4cc8",
   "metadata": {},
   "source": [
    "# Analyse des clients du site d'e-commerce Olist"
   ]
  },
  {
   "cell_type": "code",
   "execution_count": 1,
   "id": "04990baa",
   "metadata": {},
   "outputs": [
    {
     "data": {
      "text/plain": [
       "'%load_ext pycodestyle_magic\\n%pycodestyle_on'"
      ]
     },
     "execution_count": 1,
     "metadata": {},
     "output_type": "execute_result"
    }
   ],
   "source": [
    "%load_ext pycodestyle_magic\n",
    "%pycodestyle_on"
   ]
  },
  {
   "cell_type": "code",
   "execution_count": 2,
   "id": "866e0ab3",
   "metadata": {},
   "outputs": [],
   "source": [
    "# Importation des librairies nécessaires\n",
    "import warnings\n",
    "warnings.filterwarnings(\"ignore\")\n",
    "\n",
    "import pandas as pd \n",
    "import numpy as np \n",
    "import matplotlib.pyplot as plt \n",
    "import seaborn as sns\n",
    "import gc\n",
    "import datetime\n",
    "from function_utils import haversine_vectorize"
   ]
  },
  {
   "cell_type": "code",
   "execution_count": 3,
   "id": "0fd3a0a0",
   "metadata": {},
   "outputs": [],
   "source": [
    "sns.set_palette(\"Pastel2\")"
   ]
  },
  {
   "cell_type": "markdown",
   "id": "815b9dd0",
   "metadata": {},
   "source": [
    "## 1) Création d'une segmentation RFM"
   ]
  },
  {
   "cell_type": "markdown",
   "id": "5ad92a2d",
   "metadata": {},
   "source": [
    "### Information clients"
   ]
  },
  {
   "cell_type": "code",
   "execution_count": 4,
   "id": "3fc81622",
   "metadata": {},
   "outputs": [],
   "source": [
    "# Importation des données clients\n",
    "df_customers = pd.read_csv(\"datasets/olist_customers_dataset.csv\")\n",
    "df_geo = pd.read_csv(\"datasets/olist_geolocation_dataset.csv\")"
   ]
  },
  {
   "cell_type": "code",
   "execution_count": 5,
   "id": "c27300c5",
   "metadata": {},
   "outputs": [
    {
     "data": {
      "text/html": [
       "<div>\n",
       "<style scoped>\n",
       "    .dataframe tbody tr th:only-of-type {\n",
       "        vertical-align: middle;\n",
       "    }\n",
       "\n",
       "    .dataframe tbody tr th {\n",
       "        vertical-align: top;\n",
       "    }\n",
       "\n",
       "    .dataframe thead th {\n",
       "        text-align: right;\n",
       "    }\n",
       "</style>\n",
       "<table border=\"1\" class=\"dataframe\">\n",
       "  <thead>\n",
       "    <tr style=\"text-align: right;\">\n",
       "      <th></th>\n",
       "      <th>customer_id</th>\n",
       "      <th>customer_unique_id</th>\n",
       "      <th>customer_city</th>\n",
       "      <th>customer_latitude</th>\n",
       "      <th>customer_longitude</th>\n",
       "    </tr>\n",
       "  </thead>\n",
       "  <tbody>\n",
       "    <tr>\n",
       "      <th>0</th>\n",
       "      <td>06b8999e2fba1a1fbc88172c00ba8bc7</td>\n",
       "      <td>861eff4711a542e4b93843c6dd7febb0</td>\n",
       "      <td>franca</td>\n",
       "      <td>-20.509897</td>\n",
       "      <td>-47.397866</td>\n",
       "    </tr>\n",
       "    <tr>\n",
       "      <th>1</th>\n",
       "      <td>06b8999e2fba1a1fbc88172c00ba8bc7</td>\n",
       "      <td>861eff4711a542e4b93843c6dd7febb0</td>\n",
       "      <td>franca</td>\n",
       "      <td>-20.497396</td>\n",
       "      <td>-47.399241</td>\n",
       "    </tr>\n",
       "    <tr>\n",
       "      <th>2</th>\n",
       "      <td>06b8999e2fba1a1fbc88172c00ba8bc7</td>\n",
       "      <td>861eff4711a542e4b93843c6dd7febb0</td>\n",
       "      <td>franca</td>\n",
       "      <td>-20.510459</td>\n",
       "      <td>-47.399553</td>\n",
       "    </tr>\n",
       "    <tr>\n",
       "      <th>3</th>\n",
       "      <td>06b8999e2fba1a1fbc88172c00ba8bc7</td>\n",
       "      <td>861eff4711a542e4b93843c6dd7febb0</td>\n",
       "      <td>franca</td>\n",
       "      <td>-20.480940</td>\n",
       "      <td>-47.394161</td>\n",
       "    </tr>\n",
       "    <tr>\n",
       "      <th>4</th>\n",
       "      <td>06b8999e2fba1a1fbc88172c00ba8bc7</td>\n",
       "      <td>861eff4711a542e4b93843c6dd7febb0</td>\n",
       "      <td>franca</td>\n",
       "      <td>-20.515413</td>\n",
       "      <td>-47.398194</td>\n",
       "    </tr>\n",
       "  </tbody>\n",
       "</table>\n",
       "</div>"
      ],
      "text/plain": [
       "                        customer_id                customer_unique_id  \\\n",
       "0  06b8999e2fba1a1fbc88172c00ba8bc7  861eff4711a542e4b93843c6dd7febb0   \n",
       "1  06b8999e2fba1a1fbc88172c00ba8bc7  861eff4711a542e4b93843c6dd7febb0   \n",
       "2  06b8999e2fba1a1fbc88172c00ba8bc7  861eff4711a542e4b93843c6dd7febb0   \n",
       "3  06b8999e2fba1a1fbc88172c00ba8bc7  861eff4711a542e4b93843c6dd7febb0   \n",
       "4  06b8999e2fba1a1fbc88172c00ba8bc7  861eff4711a542e4b93843c6dd7febb0   \n",
       "\n",
       "  customer_city  customer_latitude  customer_longitude  \n",
       "0        franca         -20.509897          -47.397866  \n",
       "1        franca         -20.497396          -47.399241  \n",
       "2        franca         -20.510459          -47.399553  \n",
       "3        franca         -20.480940          -47.394161  \n",
       "4        franca         -20.515413          -47.398194  "
      ]
     },
     "execution_count": 5,
     "metadata": {},
     "output_type": "execute_result"
    }
   ],
   "source": [
    "# Ajout des données de géolocalisation pour chaque client\n",
    "df_customers = pd.merge(df_geo, df_customers,\n",
    "                        right_on=[\"customer_zip_code_prefix\", \"customer_city\", \"customer_state\"], \n",
    "                        left_on=[\"geolocation_zip_code_prefix\", \"geolocation_city\", \"geolocation_state\"], how=\"right\")\n",
    "df_customers.drop([\"geolocation_zip_code_prefix\", \"geolocation_city\",\n",
    "                   \"geolocation_state\"], axis=1, inplace=True)\n",
    "df_customers = df_customers[['customer_id', \"customer_unique_id\", \n",
    "                             \"customer_city\", \"geolocation_lat\", \"geolocation_lng\"]]\n",
    "df_customers.columns = [\"customer_id\", \"customer_unique_id\", \n",
    "                        \"customer_city\", \"customer_latitude\", \"customer_longitude\"]\n",
    "df_customers.head()"
   ]
  },
  {
   "cell_type": "code",
   "execution_count": 6,
   "id": "0df80cd7",
   "metadata": {},
   "outputs": [
    {
     "name": "stdout",
     "output_type": "stream",
     "text": [
      "Nombre d'id unique: 96096\n"
     ]
    }
   ],
   "source": [
    "print(\"Nombre d'id unique:\", df_customers[\"customer_unique_id\"].nunique())"
   ]
  },
  {
   "cell_type": "code",
   "execution_count": 7,
   "id": "3d2a334a",
   "metadata": {},
   "outputs": [
    {
     "name": "stdout",
     "output_type": "stream",
     "text": [
      "Nombre d'id clients: 99441\n"
     ]
    }
   ],
   "source": [
    "print(\"Nombre d'id clients:\", df_customers[\"customer_id\"].nunique())"
   ]
  },
  {
   "cell_type": "markdown",
   "id": "d96c502c",
   "metadata": {},
   "source": [
    "On remarque un écart important entre les identifiants clients et les identifiants uniques. On va donc supprimer les doublons sur ces deux colonnes."
   ]
  },
  {
   "cell_type": "code",
   "execution_count": 8,
   "id": "7b33f7fc",
   "metadata": {},
   "outputs": [],
   "source": [
    "# Suppression des doublons d'identifiant clients\n",
    "df_customers.drop_duplicates(subset=\"customer_id\", inplace=True)"
   ]
  },
  {
   "cell_type": "code",
   "execution_count": 9,
   "id": "55a0e30c",
   "metadata": {},
   "outputs": [
    {
     "data": {
      "text/plain": [
       "(99441, 5)"
      ]
     },
     "execution_count": 9,
     "metadata": {},
     "output_type": "execute_result"
    }
   ],
   "source": [
    "df_customers.shape"
   ]
  },
  {
   "cell_type": "markdown",
   "id": "a7530c8d",
   "metadata": {},
   "source": [
    "### Information sur les commandes"
   ]
  },
  {
   "cell_type": "code",
   "execution_count": 10,
   "id": "368aa53d",
   "metadata": {},
   "outputs": [
    {
     "data": {
      "text/plain": [
       "(99441, 8)"
      ]
     },
     "execution_count": 10,
     "metadata": {},
     "output_type": "execute_result"
    }
   ],
   "source": [
    "# Importation des informations sur les commandes\n",
    "df_orders = pd.read_csv(\"datasets/olist_orders_dataset.csv\")\n",
    "df_orders.shape"
   ]
  },
  {
   "cell_type": "code",
   "execution_count": 11,
   "id": "b8fa3e50",
   "metadata": {},
   "outputs": [
    {
     "data": {
      "text/plain": [
       "(99441, 12)"
      ]
     },
     "execution_count": 11,
     "metadata": {},
     "output_type": "execute_result"
    }
   ],
   "source": [
    "# Association entre commande et clients pour calculer la récence et la fréquence d'achat\n",
    "df = pd.merge(df_customers, df_orders, \n",
    "              left_on=\"customer_id\", right_on=\"customer_id\", how=\"right\")\n",
    "df.drop_duplicates(subset=\"customer_id\", \n",
    "                   inplace=True)\n",
    "df.shape"
   ]
  },
  {
   "cell_type": "code",
   "execution_count": 12,
   "id": "b2aef422",
   "metadata": {},
   "outputs": [
    {
     "data": {
      "text/plain": [
       "(103886, 5)"
      ]
     },
     "execution_count": 12,
     "metadata": {},
     "output_type": "execute_result"
    }
   ],
   "source": [
    "# Importation des informations sur le paiement des commandes\n",
    "df_orders_payments = pd.read_csv(\"datasets/olist_order_payments_dataset.csv\")\n",
    "df_orders_payments.shape"
   ]
  },
  {
   "cell_type": "code",
   "execution_count": 13,
   "id": "e3ae77fd",
   "metadata": {},
   "outputs": [
    {
     "data": {
      "text/plain": [
       "(103886, 16)"
      ]
     },
     "execution_count": 13,
     "metadata": {},
     "output_type": "execute_result"
    }
   ],
   "source": [
    "# Association entre commande et paiements \n",
    "# pour calculer la valeur monnaitaire d'un client\n",
    "df = pd.merge(df, df_orders_payments, left_on=\"order_id\", \n",
    "              right_on=\"order_id\", how=\"right\")\n",
    "df.shape"
   ]
  },
  {
   "cell_type": "code",
   "execution_count": 14,
   "id": "27cdda5e",
   "metadata": {},
   "outputs": [
    {
     "data": {
      "text/html": [
       "<div>\n",
       "<style scoped>\n",
       "    .dataframe tbody tr th:only-of-type {\n",
       "        vertical-align: middle;\n",
       "    }\n",
       "\n",
       "    .dataframe tbody tr th {\n",
       "        vertical-align: top;\n",
       "    }\n",
       "\n",
       "    .dataframe thead th {\n",
       "        text-align: right;\n",
       "    }\n",
       "</style>\n",
       "<table border=\"1\" class=\"dataframe\">\n",
       "  <thead>\n",
       "    <tr style=\"text-align: right;\">\n",
       "      <th></th>\n",
       "      <th>customer_id</th>\n",
       "      <th>customer_unique_id</th>\n",
       "      <th>customer_city</th>\n",
       "      <th>customer_latitude</th>\n",
       "      <th>customer_longitude</th>\n",
       "      <th>order_id</th>\n",
       "      <th>order_status</th>\n",
       "      <th>order_purchase_timestamp</th>\n",
       "      <th>order_approved_at</th>\n",
       "      <th>order_delivered_carrier_date</th>\n",
       "      <th>order_delivered_customer_date</th>\n",
       "      <th>order_estimated_delivery_date</th>\n",
       "      <th>payment_sequential</th>\n",
       "      <th>payment_type</th>\n",
       "      <th>payment_installments</th>\n",
       "      <th>payment_value</th>\n",
       "    </tr>\n",
       "  </thead>\n",
       "  <tbody>\n",
       "    <tr>\n",
       "      <th>0</th>\n",
       "      <td>0a8556ac6be836b46b3e89920d59291c</td>\n",
       "      <td>708ab75d2a007f0564aedd11139c7708</td>\n",
       "      <td>teofilo otoni</td>\n",
       "      <td>-17.851690</td>\n",
       "      <td>-41.493610</td>\n",
       "      <td>b81ef226f3fe1789b1e8b2acac839d17</td>\n",
       "      <td>delivered</td>\n",
       "      <td>2018-04-25 22:01:49</td>\n",
       "      <td>2018-04-25 22:15:09</td>\n",
       "      <td>2018-05-02 15:20:00</td>\n",
       "      <td>2018-05-09 17:36:51</td>\n",
       "      <td>2018-05-22 00:00:00</td>\n",
       "      <td>1</td>\n",
       "      <td>credit_card</td>\n",
       "      <td>8</td>\n",
       "      <td>99.33</td>\n",
       "    </tr>\n",
       "    <tr>\n",
       "      <th>1</th>\n",
       "      <td>f2c7fc58a9de810828715166c672f10a</td>\n",
       "      <td>a8b9d3a27068454b1c98cc67d4e31e6f</td>\n",
       "      <td>sao paulo</td>\n",
       "      <td>-23.470015</td>\n",
       "      <td>-46.634846</td>\n",
       "      <td>a9810da82917af2d9aefd1278f1dcfa0</td>\n",
       "      <td>delivered</td>\n",
       "      <td>2018-06-26 11:01:38</td>\n",
       "      <td>2018-06-26 11:18:58</td>\n",
       "      <td>2018-06-28 14:18:00</td>\n",
       "      <td>2018-06-29 20:32:09</td>\n",
       "      <td>2018-07-16 00:00:00</td>\n",
       "      <td>1</td>\n",
       "      <td>credit_card</td>\n",
       "      <td>1</td>\n",
       "      <td>24.39</td>\n",
       "    </tr>\n",
       "    <tr>\n",
       "      <th>2</th>\n",
       "      <td>25b14b69de0b6e184ae6fe2755e478f9</td>\n",
       "      <td>6f70c0b2f7552832ba46eb57b1c5651e</td>\n",
       "      <td>sao paulo</td>\n",
       "      <td>-23.454897</td>\n",
       "      <td>-46.656832</td>\n",
       "      <td>25e8ea4e93396b6fa0d3dd708e76c1bd</td>\n",
       "      <td>delivered</td>\n",
       "      <td>2017-12-12 11:19:55</td>\n",
       "      <td>2017-12-14 09:52:34</td>\n",
       "      <td>2017-12-15 20:13:22</td>\n",
       "      <td>2017-12-18 17:24:41</td>\n",
       "      <td>2018-01-04 00:00:00</td>\n",
       "      <td>1</td>\n",
       "      <td>credit_card</td>\n",
       "      <td>1</td>\n",
       "      <td>65.71</td>\n",
       "    </tr>\n",
       "    <tr>\n",
       "      <th>3</th>\n",
       "      <td>7a5d8efaaa1081f800628c30d2b0728f</td>\n",
       "      <td>87695ed086ebd36f20404c82d20fca87</td>\n",
       "      <td>juiz de fora</td>\n",
       "      <td>-21.750376</td>\n",
       "      <td>-43.342449</td>\n",
       "      <td>ba78997921bbcdc1373bb41e913ab953</td>\n",
       "      <td>delivered</td>\n",
       "      <td>2017-12-06 12:04:06</td>\n",
       "      <td>2017-12-06 12:13:20</td>\n",
       "      <td>2017-12-07 20:28:28</td>\n",
       "      <td>2017-12-21 01:35:51</td>\n",
       "      <td>2018-01-04 00:00:00</td>\n",
       "      <td>1</td>\n",
       "      <td>credit_card</td>\n",
       "      <td>8</td>\n",
       "      <td>107.78</td>\n",
       "    </tr>\n",
       "    <tr>\n",
       "      <th>4</th>\n",
       "      <td>15fd6fb8f8312dbb4674e4518d6fa3b3</td>\n",
       "      <td>4291db0da71914754618cd789aebcd56</td>\n",
       "      <td>conchas</td>\n",
       "      <td>-23.015379</td>\n",
       "      <td>-48.008990</td>\n",
       "      <td>42fdf880ba16b47b59251dd489d4441a</td>\n",
       "      <td>delivered</td>\n",
       "      <td>2018-05-21 13:59:17</td>\n",
       "      <td>2018-05-21 16:14:41</td>\n",
       "      <td>2018-05-22 11:46:00</td>\n",
       "      <td>2018-06-01 21:44:53</td>\n",
       "      <td>2018-06-13 00:00:00</td>\n",
       "      <td>1</td>\n",
       "      <td>credit_card</td>\n",
       "      <td>2</td>\n",
       "      <td>128.45</td>\n",
       "    </tr>\n",
       "  </tbody>\n",
       "</table>\n",
       "</div>"
      ],
      "text/plain": [
       "                        customer_id                customer_unique_id  \\\n",
       "0  0a8556ac6be836b46b3e89920d59291c  708ab75d2a007f0564aedd11139c7708   \n",
       "1  f2c7fc58a9de810828715166c672f10a  a8b9d3a27068454b1c98cc67d4e31e6f   \n",
       "2  25b14b69de0b6e184ae6fe2755e478f9  6f70c0b2f7552832ba46eb57b1c5651e   \n",
       "3  7a5d8efaaa1081f800628c30d2b0728f  87695ed086ebd36f20404c82d20fca87   \n",
       "4  15fd6fb8f8312dbb4674e4518d6fa3b3  4291db0da71914754618cd789aebcd56   \n",
       "\n",
       "   customer_city  customer_latitude  customer_longitude  \\\n",
       "0  teofilo otoni         -17.851690          -41.493610   \n",
       "1      sao paulo         -23.470015          -46.634846   \n",
       "2      sao paulo         -23.454897          -46.656832   \n",
       "3   juiz de fora         -21.750376          -43.342449   \n",
       "4        conchas         -23.015379          -48.008990   \n",
       "\n",
       "                           order_id order_status order_purchase_timestamp  \\\n",
       "0  b81ef226f3fe1789b1e8b2acac839d17    delivered      2018-04-25 22:01:49   \n",
       "1  a9810da82917af2d9aefd1278f1dcfa0    delivered      2018-06-26 11:01:38   \n",
       "2  25e8ea4e93396b6fa0d3dd708e76c1bd    delivered      2017-12-12 11:19:55   \n",
       "3  ba78997921bbcdc1373bb41e913ab953    delivered      2017-12-06 12:04:06   \n",
       "4  42fdf880ba16b47b59251dd489d4441a    delivered      2018-05-21 13:59:17   \n",
       "\n",
       "     order_approved_at order_delivered_carrier_date  \\\n",
       "0  2018-04-25 22:15:09          2018-05-02 15:20:00   \n",
       "1  2018-06-26 11:18:58          2018-06-28 14:18:00   \n",
       "2  2017-12-14 09:52:34          2017-12-15 20:13:22   \n",
       "3  2017-12-06 12:13:20          2017-12-07 20:28:28   \n",
       "4  2018-05-21 16:14:41          2018-05-22 11:46:00   \n",
       "\n",
       "  order_delivered_customer_date order_estimated_delivery_date  \\\n",
       "0           2018-05-09 17:36:51           2018-05-22 00:00:00   \n",
       "1           2018-06-29 20:32:09           2018-07-16 00:00:00   \n",
       "2           2017-12-18 17:24:41           2018-01-04 00:00:00   \n",
       "3           2017-12-21 01:35:51           2018-01-04 00:00:00   \n",
       "4           2018-06-01 21:44:53           2018-06-13 00:00:00   \n",
       "\n",
       "   payment_sequential payment_type  payment_installments  payment_value  \n",
       "0                   1  credit_card                     8          99.33  \n",
       "1                   1  credit_card                     1          24.39  \n",
       "2                   1  credit_card                     1          65.71  \n",
       "3                   1  credit_card                     8         107.78  \n",
       "4                   1  credit_card                     2         128.45  "
      ]
     },
     "execution_count": 14,
     "metadata": {},
     "output_type": "execute_result"
    }
   ],
   "source": [
    "df.head()"
   ]
  },
  {
   "cell_type": "markdown",
   "id": "dabf44b4",
   "metadata": {},
   "source": [
    "Pour calculer la récence, on va transformer les éléments en lien avec les dates en format datetime. Ensuite, on va calculer le nombre de jours entre le dernier client à avoir acheté +1 que l'on va soustraire à la dernière date d'achat de chaque client."
   ]
  },
  {
   "cell_type": "code",
   "execution_count": 15,
   "id": "e3fd4766",
   "metadata": {},
   "outputs": [],
   "source": [
    "# Transformation des timestamps en format datetime\n",
    "time = [\"order_purchase_timestamp\", \"order_approved_at\", \"order_delivered_carrier_date\", \"order_delivered_customer_date\", \"order_estimated_delivery_date\"]\n",
    "\n",
    "for cols in time:\n",
    "    df[cols] = pd.to_datetime(df[cols], format=\"%Y-%m-%d\", errors=\"ignore\")"
   ]
  },
  {
   "cell_type": "code",
   "execution_count": 16,
   "id": "cea3cd37",
   "metadata": {},
   "outputs": [],
   "source": [
    "snapshot_date = max(df.order_purchase_timestamp) + datetime.timedelta(days=1)"
   ]
  },
  {
   "cell_type": "code",
   "execution_count": 17,
   "id": "9e25a655",
   "metadata": {},
   "outputs": [],
   "source": [
    "rfm_custom = df.groupby(\"customer_unique_id\").agg({\n",
    "    \"order_purchase_timestamp\" : lambda x: (snapshot_date - x.max()).days,\n",
    "    \"order_id\" : 'count',\n",
    "    \"payment_value\" : \"mean\"\n",
    "})"
   ]
  },
  {
   "cell_type": "code",
   "execution_count": 18,
   "id": "590f127a",
   "metadata": {},
   "outputs": [],
   "source": [
    "rfm_custom.columns = [\"Recency\", \"Frequency\", \"MonetaryValue\"]\n",
    "data = rfm_custom.copy().reset_index()"
   ]
  },
  {
   "cell_type": "code",
   "execution_count": 19,
   "id": "14c46e57",
   "metadata": {
    "scrolled": true
   },
   "outputs": [
    {
     "data": {
      "text/html": [
       "<div>\n",
       "<style scoped>\n",
       "    .dataframe tbody tr th:only-of-type {\n",
       "        vertical-align: middle;\n",
       "    }\n",
       "\n",
       "    .dataframe tbody tr th {\n",
       "        vertical-align: top;\n",
       "    }\n",
       "\n",
       "    .dataframe thead th {\n",
       "        text-align: right;\n",
       "    }\n",
       "</style>\n",
       "<table border=\"1\" class=\"dataframe\">\n",
       "  <thead>\n",
       "    <tr style=\"text-align: right;\">\n",
       "      <th></th>\n",
       "      <th>customer_unique_id</th>\n",
       "      <th>Recency</th>\n",
       "      <th>Frequency</th>\n",
       "      <th>MonetaryValue</th>\n",
       "    </tr>\n",
       "  </thead>\n",
       "  <tbody>\n",
       "    <tr>\n",
       "      <th>0</th>\n",
       "      <td>0000366f3b9a7992bf8c76cfdf3221e2</td>\n",
       "      <td>161</td>\n",
       "      <td>1</td>\n",
       "      <td>141.90</td>\n",
       "    </tr>\n",
       "    <tr>\n",
       "      <th>1</th>\n",
       "      <td>0000b849f77a49e4a4ce2b2a4ca5be3f</td>\n",
       "      <td>164</td>\n",
       "      <td>1</td>\n",
       "      <td>27.19</td>\n",
       "    </tr>\n",
       "    <tr>\n",
       "      <th>2</th>\n",
       "      <td>0000f46a3911fa3c0805444483337064</td>\n",
       "      <td>586</td>\n",
       "      <td>1</td>\n",
       "      <td>86.22</td>\n",
       "    </tr>\n",
       "    <tr>\n",
       "      <th>3</th>\n",
       "      <td>0000f6ccb0745a6a4b88665a16c9f078</td>\n",
       "      <td>370</td>\n",
       "      <td>1</td>\n",
       "      <td>43.62</td>\n",
       "    </tr>\n",
       "    <tr>\n",
       "      <th>4</th>\n",
       "      <td>0004aac84e0df4da2b147fca70cf8255</td>\n",
       "      <td>337</td>\n",
       "      <td>1</td>\n",
       "      <td>196.89</td>\n",
       "    </tr>\n",
       "  </tbody>\n",
       "</table>\n",
       "</div>"
      ],
      "text/plain": [
       "                 customer_unique_id  Recency  Frequency  MonetaryValue\n",
       "0  0000366f3b9a7992bf8c76cfdf3221e2      161          1         141.90\n",
       "1  0000b849f77a49e4a4ce2b2a4ca5be3f      164          1          27.19\n",
       "2  0000f46a3911fa3c0805444483337064      586          1          86.22\n",
       "3  0000f6ccb0745a6a4b88665a16c9f078      370          1          43.62\n",
       "4  0004aac84e0df4da2b147fca70cf8255      337          1         196.89"
      ]
     },
     "execution_count": 19,
     "metadata": {},
     "output_type": "execute_result"
    }
   ],
   "source": [
    "data.head()"
   ]
  },
  {
   "cell_type": "code",
   "execution_count": 20,
   "id": "dd0c963f",
   "metadata": {},
   "outputs": [],
   "source": [
    "data['r_quartile'] = pd.qcut(data['Recency'], 4, ['1','2','3','4'])\n",
    "data['f_bins'] = pd.cut(data['Frequency'], 2, labels=['2','1'])\n",
    "data['m_quartile'] = pd.qcut(data['MonetaryValue'], 4, ['4','3','2','1'])"
   ]
  },
  {
   "cell_type": "code",
   "execution_count": 21,
   "id": "4e8d8cfc",
   "metadata": {},
   "outputs": [
    {
     "data": {
      "text/html": [
       "<div>\n",
       "<style scoped>\n",
       "    .dataframe tbody tr th:only-of-type {\n",
       "        vertical-align: middle;\n",
       "    }\n",
       "\n",
       "    .dataframe tbody tr th {\n",
       "        vertical-align: top;\n",
       "    }\n",
       "\n",
       "    .dataframe thead th {\n",
       "        text-align: right;\n",
       "    }\n",
       "</style>\n",
       "<table border=\"1\" class=\"dataframe\">\n",
       "  <thead>\n",
       "    <tr style=\"text-align: right;\">\n",
       "      <th></th>\n",
       "      <th>customer_unique_id</th>\n",
       "      <th>Recency</th>\n",
       "      <th>Frequency</th>\n",
       "      <th>MonetaryValue</th>\n",
       "      <th>r_quartile</th>\n",
       "      <th>f_bins</th>\n",
       "      <th>m_quartile</th>\n",
       "      <th>RFM_Score</th>\n",
       "    </tr>\n",
       "  </thead>\n",
       "  <tbody>\n",
       "    <tr>\n",
       "      <th>0</th>\n",
       "      <td>0000366f3b9a7992bf8c76cfdf3221e2</td>\n",
       "      <td>161</td>\n",
       "      <td>1</td>\n",
       "      <td>141.90</td>\n",
       "      <td>1</td>\n",
       "      <td>2</td>\n",
       "      <td>2</td>\n",
       "      <td>122</td>\n",
       "    </tr>\n",
       "    <tr>\n",
       "      <th>1</th>\n",
       "      <td>0000b849f77a49e4a4ce2b2a4ca5be3f</td>\n",
       "      <td>164</td>\n",
       "      <td>1</td>\n",
       "      <td>27.19</td>\n",
       "      <td>1</td>\n",
       "      <td>2</td>\n",
       "      <td>4</td>\n",
       "      <td>124</td>\n",
       "    </tr>\n",
       "    <tr>\n",
       "      <th>2</th>\n",
       "      <td>0000f46a3911fa3c0805444483337064</td>\n",
       "      <td>586</td>\n",
       "      <td>1</td>\n",
       "      <td>86.22</td>\n",
       "      <td>4</td>\n",
       "      <td>2</td>\n",
       "      <td>3</td>\n",
       "      <td>423</td>\n",
       "    </tr>\n",
       "  </tbody>\n",
       "</table>\n",
       "</div>"
      ],
      "text/plain": [
       "                 customer_unique_id  Recency  Frequency  MonetaryValue  \\\n",
       "0  0000366f3b9a7992bf8c76cfdf3221e2      161          1         141.90   \n",
       "1  0000b849f77a49e4a4ce2b2a4ca5be3f      164          1          27.19   \n",
       "2  0000f46a3911fa3c0805444483337064      586          1          86.22   \n",
       "\n",
       "  r_quartile f_bins m_quartile RFM_Score  \n",
       "0          1      2          2       122  \n",
       "1          1      2          4       124  \n",
       "2          4      2          3       423  "
      ]
     },
     "execution_count": 21,
     "metadata": {},
     "output_type": "execute_result"
    }
   ],
   "source": [
    "data['RFM_Score'] = data[\"r_quartile\"].astype(str)+ data[\"f_bins\"].astype(str) + data[\"m_quartile\"].astype(str)\n",
    "data.head(3)"
   ]
  },
  {
   "cell_type": "code",
   "execution_count": 22,
   "id": "a4d4fa2f",
   "metadata": {},
   "outputs": [
    {
     "data": {
      "text/html": [
       "<div>\n",
       "<style scoped>\n",
       "    .dataframe tbody tr th:only-of-type {\n",
       "        vertical-align: middle;\n",
       "    }\n",
       "\n",
       "    .dataframe tbody tr th {\n",
       "        vertical-align: top;\n",
       "    }\n",
       "\n",
       "    .dataframe thead th {\n",
       "        text-align: right;\n",
       "    }\n",
       "</style>\n",
       "<table border=\"1\" class=\"dataframe\">\n",
       "  <thead>\n",
       "    <tr style=\"text-align: right;\">\n",
       "      <th></th>\n",
       "      <th>customer_unique_id</th>\n",
       "      <th>Recency</th>\n",
       "      <th>Frequency</th>\n",
       "      <th>MonetaryValue</th>\n",
       "      <th>r_quartile</th>\n",
       "      <th>f_bins</th>\n",
       "      <th>m_quartile</th>\n",
       "      <th>RFM_Score</th>\n",
       "    </tr>\n",
       "  </thead>\n",
       "  <tbody>\n",
       "    <tr>\n",
       "      <th>83062</th>\n",
       "      <td>dcf94500cedf7c5c153937b663a6cd4f</td>\n",
       "      <td>96</td>\n",
       "      <td>1</td>\n",
       "      <td>918.16</td>\n",
       "      <td>1</td>\n",
       "      <td>2</td>\n",
       "      <td>1</td>\n",
       "      <td>121</td>\n",
       "    </tr>\n",
       "    <tr>\n",
       "      <th>38118</th>\n",
       "      <td>654115cd862a4c18f7a3cfbeec04203c</td>\n",
       "      <td>63</td>\n",
       "      <td>1</td>\n",
       "      <td>273.46</td>\n",
       "      <td>1</td>\n",
       "      <td>2</td>\n",
       "      <td>1</td>\n",
       "      <td>121</td>\n",
       "    </tr>\n",
       "    <tr>\n",
       "      <th>38141</th>\n",
       "      <td>6551775fe8fc9bd339483cdcf4ae51c0</td>\n",
       "      <td>121</td>\n",
       "      <td>1</td>\n",
       "      <td>927.28</td>\n",
       "      <td>1</td>\n",
       "      <td>2</td>\n",
       "      <td>1</td>\n",
       "      <td>121</td>\n",
       "    </tr>\n",
       "    <tr>\n",
       "      <th>38146</th>\n",
       "      <td>6553076c837d75296c3b99d7c2019478</td>\n",
       "      <td>127</td>\n",
       "      <td>1</td>\n",
       "      <td>230.66</td>\n",
       "      <td>1</td>\n",
       "      <td>2</td>\n",
       "      <td>1</td>\n",
       "      <td>121</td>\n",
       "    </tr>\n",
       "    <tr>\n",
       "      <th>38149</th>\n",
       "      <td>65533d9769cfc03da1adc057f4ef2afa</td>\n",
       "      <td>58</td>\n",
       "      <td>1</td>\n",
       "      <td>204.10</td>\n",
       "      <td>1</td>\n",
       "      <td>2</td>\n",
       "      <td>1</td>\n",
       "      <td>121</td>\n",
       "    </tr>\n",
       "    <tr>\n",
       "      <th>...</th>\n",
       "      <td>...</td>\n",
       "      <td>...</td>\n",
       "      <td>...</td>\n",
       "      <td>...</td>\n",
       "      <td>...</td>\n",
       "      <td>...</td>\n",
       "      <td>...</td>\n",
       "      <td>...</td>\n",
       "    </tr>\n",
       "    <tr>\n",
       "      <th>18469</th>\n",
       "      <td>30face031972f728f9c0f3426723c626</td>\n",
       "      <td>403</td>\n",
       "      <td>1</td>\n",
       "      <td>56.85</td>\n",
       "      <td>4</td>\n",
       "      <td>2</td>\n",
       "      <td>4</td>\n",
       "      <td>424</td>\n",
       "    </tr>\n",
       "    <tr>\n",
       "      <th>90337</th>\n",
       "      <td>f090f629be1b7882aaac379b456185b5</td>\n",
       "      <td>605</td>\n",
       "      <td>1</td>\n",
       "      <td>24.96</td>\n",
       "      <td>4</td>\n",
       "      <td>2</td>\n",
       "      <td>4</td>\n",
       "      <td>424</td>\n",
       "    </tr>\n",
       "    <tr>\n",
       "      <th>81176</th>\n",
       "      <td>d7f8e86b4432d80cb7133994497a0999</td>\n",
       "      <td>539</td>\n",
       "      <td>1</td>\n",
       "      <td>55.04</td>\n",
       "      <td>4</td>\n",
       "      <td>2</td>\n",
       "      <td>4</td>\n",
       "      <td>424</td>\n",
       "    </tr>\n",
       "    <tr>\n",
       "      <th>90358</th>\n",
       "      <td>f0a1a51727e953540b3edfa8e9a9459d</td>\n",
       "      <td>511</td>\n",
       "      <td>1</td>\n",
       "      <td>34.09</td>\n",
       "      <td>4</td>\n",
       "      <td>2</td>\n",
       "      <td>4</td>\n",
       "      <td>424</td>\n",
       "    </tr>\n",
       "    <tr>\n",
       "      <th>73520</th>\n",
       "      <td>c39cc6b8f0a5d40e41b1de582816199d</td>\n",
       "      <td>446</td>\n",
       "      <td>1</td>\n",
       "      <td>58.17</td>\n",
       "      <td>4</td>\n",
       "      <td>2</td>\n",
       "      <td>4</td>\n",
       "      <td>424</td>\n",
       "    </tr>\n",
       "  </tbody>\n",
       "</table>\n",
       "<p>96095 rows × 8 columns</p>\n",
       "</div>"
      ],
      "text/plain": [
       "                     customer_unique_id  Recency  Frequency  MonetaryValue  \\\n",
       "83062  dcf94500cedf7c5c153937b663a6cd4f       96          1         918.16   \n",
       "38118  654115cd862a4c18f7a3cfbeec04203c       63          1         273.46   \n",
       "38141  6551775fe8fc9bd339483cdcf4ae51c0      121          1         927.28   \n",
       "38146  6553076c837d75296c3b99d7c2019478      127          1         230.66   \n",
       "38149  65533d9769cfc03da1adc057f4ef2afa       58          1         204.10   \n",
       "...                                 ...      ...        ...            ...   \n",
       "18469  30face031972f728f9c0f3426723c626      403          1          56.85   \n",
       "90337  f090f629be1b7882aaac379b456185b5      605          1          24.96   \n",
       "81176  d7f8e86b4432d80cb7133994497a0999      539          1          55.04   \n",
       "90358  f0a1a51727e953540b3edfa8e9a9459d      511          1          34.09   \n",
       "73520  c39cc6b8f0a5d40e41b1de582816199d      446          1          58.17   \n",
       "\n",
       "      r_quartile f_bins m_quartile RFM_Score  \n",
       "83062          1      2          1       121  \n",
       "38118          1      2          1       121  \n",
       "38141          1      2          1       121  \n",
       "38146          1      2          1       121  \n",
       "38149          1      2          1       121  \n",
       "...          ...    ...        ...       ...  \n",
       "18469          4      2          4       424  \n",
       "90337          4      2          4       424  \n",
       "81176          4      2          4       424  \n",
       "90358          4      2          4       424  \n",
       "73520          4      2          4       424  \n",
       "\n",
       "[96095 rows x 8 columns]"
      ]
     },
     "execution_count": 22,
     "metadata": {},
     "output_type": "execute_result"
    }
   ],
   "source": [
    "data.sort_values(\"RFM_Score\", ascending=True)"
   ]
  },
  {
   "cell_type": "markdown",
   "id": "2dfa98fa",
   "metadata": {},
   "source": [
    "### Analyse de la segmentation RFM"
   ]
  },
  {
   "cell_type": "code",
   "execution_count": 23,
   "id": "313625ea",
   "metadata": {},
   "outputs": [
    {
     "data": {
      "text/html": [
       "<div>\n",
       "<style scoped>\n",
       "    .dataframe tbody tr th:only-of-type {\n",
       "        vertical-align: middle;\n",
       "    }\n",
       "\n",
       "    .dataframe tbody tr th {\n",
       "        vertical-align: top;\n",
       "    }\n",
       "\n",
       "    .dataframe thead th {\n",
       "        text-align: right;\n",
       "    }\n",
       "</style>\n",
       "<table border=\"1\" class=\"dataframe\">\n",
       "  <thead>\n",
       "    <tr style=\"text-align: right;\">\n",
       "      <th></th>\n",
       "      <th>Recency</th>\n",
       "      <th>Frequency</th>\n",
       "      <th>MonetaryValue</th>\n",
       "    </tr>\n",
       "  </thead>\n",
       "  <tbody>\n",
       "    <tr>\n",
       "      <th>count</th>\n",
       "      <td>96095.000000</td>\n",
       "      <td>96095.000000</td>\n",
       "      <td>96095.000000</td>\n",
       "    </tr>\n",
       "    <tr>\n",
       "      <th>mean</th>\n",
       "      <td>288.730756</td>\n",
       "      <td>1.081076</td>\n",
       "      <td>158.708787</td>\n",
       "    </tr>\n",
       "    <tr>\n",
       "      <th>std</th>\n",
       "      <td>153.407846</td>\n",
       "      <td>0.462548</td>\n",
       "      <td>219.491200</td>\n",
       "    </tr>\n",
       "    <tr>\n",
       "      <th>min</th>\n",
       "      <td>1.000000</td>\n",
       "      <td>1.000000</td>\n",
       "      <td>0.000000</td>\n",
       "    </tr>\n",
       "    <tr>\n",
       "      <th>25%</th>\n",
       "      <td>164.000000</td>\n",
       "      <td>1.000000</td>\n",
       "      <td>60.850000</td>\n",
       "    </tr>\n",
       "    <tr>\n",
       "      <th>50%</th>\n",
       "      <td>269.000000</td>\n",
       "      <td>1.000000</td>\n",
       "      <td>103.750000</td>\n",
       "    </tr>\n",
       "    <tr>\n",
       "      <th>75%</th>\n",
       "      <td>398.000000</td>\n",
       "      <td>1.000000</td>\n",
       "      <td>175.080000</td>\n",
       "    </tr>\n",
       "    <tr>\n",
       "      <th>max</th>\n",
       "      <td>773.000000</td>\n",
       "      <td>33.000000</td>\n",
       "      <td>13664.080000</td>\n",
       "    </tr>\n",
       "  </tbody>\n",
       "</table>\n",
       "</div>"
      ],
      "text/plain": [
       "            Recency     Frequency  MonetaryValue\n",
       "count  96095.000000  96095.000000   96095.000000\n",
       "mean     288.730756      1.081076     158.708787\n",
       "std      153.407846      0.462548     219.491200\n",
       "min        1.000000      1.000000       0.000000\n",
       "25%      164.000000      1.000000      60.850000\n",
       "50%      269.000000      1.000000     103.750000\n",
       "75%      398.000000      1.000000     175.080000\n",
       "max      773.000000     33.000000   13664.080000"
      ]
     },
     "execution_count": 23,
     "metadata": {},
     "output_type": "execute_result"
    }
   ],
   "source": [
    "# Statistiques descriptives\n",
    "data.describe()"
   ]
  },
  {
   "cell_type": "code",
   "execution_count": 24,
   "id": "731f26c1",
   "metadata": {},
   "outputs": [
    {
     "data": {
      "image/png": "[encoded data removed]",
      "text/plain": [
       "<Figure size 1500x500 with 2 Axes>"
      ]
     },
     "metadata": {},
     "output_type": "display_data"
    }
   ],
   "source": [
    "fig, axes = plt.subplots(1, 2, figsize=(15, 5), sharex=True)\n",
    "fig.suptitle('Description des montants dépensés par les clients')\n",
    "\n",
    "sns.histplot(ax=axes[0],x=\"MonetaryValue\", data=data, kde=True)\n",
    "axes[0].set_title(\"Distribution des montants dépensés\")\n",
    "\n",
    "sns.boxplot(ax=axes[1], x=\"MonetaryValue\", data=data)\n",
    "axes[1].set_title(\"Boxplot des montants dépensés\")\n",
    "\n",
    "plt.show()"
   ]
  },
  {
   "cell_type": "code",
   "execution_count": 25,
   "id": "70109938",
   "metadata": {},
   "outputs": [
    {
     "data": {
      "image/png": "[encoded data removed]",
      "text/plain": [
       "<Figure size 1500x500 with 2 Axes>"
      ]
     },
     "metadata": {},
     "output_type": "display_data"
    }
   ],
   "source": [
    "fig, axes = plt.subplots(1, 2, figsize=(15, 5), sharex=True)\n",
    "fig.suptitle('Description des jours passés depuis la dernière commande')\n",
    "\n",
    "sns.histplot(ax=axes[0],x=\"Recency\", data=data, kde=True)\n",
    "axes[0].set_title(\"Distribution des jours passés depuis la dernière commande\")\n",
    "\n",
    "sns.boxplot(ax=axes[1], x=\"Recency\", data=data)\n",
    "axes[1].set_title(\"Boxplot des jours passés depuis la dernière commande\")\n",
    "\n",
    "plt.show()"
   ]
  },
  {
   "cell_type": "code",
   "execution_count": 26,
   "id": "32d42ae3",
   "metadata": {},
   "outputs": [
    {
     "data": {
      "image/png": "[encoded data removed]",
      "text/plain": [
       "<Figure size 640x480 with 1 Axes>"
      ]
     },
     "metadata": {},
     "output_type": "display_data"
    }
   ],
   "source": [
    "sns.countplot(y=\"Frequency\", data=data)\n",
    "plt.ylim(23)\n",
    "plt.title(\"Répartition de la fréquence d'achat\")\n",
    "\n",
    "plt.show()"
   ]
  },
  {
   "cell_type": "markdown",
   "id": "2f911714",
   "metadata": {},
   "source": [
    "La fréquence et la récence ne semblent pas être très discriminants. En effet, la plupart des clients réalise un seul achat. De même, il est difficile de savoir s'ils reviennent régulièrement acheter donc la récence est très variable. \n",
    "\n",
    "En inspectant le fonctionnement du site, il s'avère que l'on peut commander sans avoir besoin de créer un compte. On ne peut donc pas savoir si une personne commande plusieurs fois et obtenir les informations nécessaires. "
   ]
  },
  {
   "cell_type": "code",
   "execution_count": 27,
   "id": "effe6fd8",
   "metadata": {},
   "outputs": [],
   "source": [
    "del df_orders_payments\n",
    "del rfm_custom"
   ]
  },
  {
   "cell_type": "code",
   "execution_count": 28,
   "id": "1c1eafe1",
   "metadata": {},
   "outputs": [
    {
     "data": {
      "text/plain": [
       "170606"
      ]
     },
     "execution_count": 28,
     "metadata": {},
     "output_type": "execute_result"
    }
   ],
   "source": [
    "gc.collect()"
   ]
  },
  {
   "cell_type": "code",
   "execution_count": 29,
   "id": "f17c0833",
   "metadata": {},
   "outputs": [],
   "source": [
    "data.set_index(\"customer_unique_id\", inplace=True)"
   ]
  },
  {
   "cell_type": "code",
   "execution_count": 30,
   "id": "67fc76c0",
   "metadata": {},
   "outputs": [],
   "source": [
    "# Enregistrement des données de la segmentation\n",
    "data.to_csv(\"datasets/data_segmentation_rfm.csv\")"
   ]
  },
  {
   "cell_type": "markdown",
   "id": "c41f05c0",
   "metadata": {},
   "source": [
    "## 2) Ajout de variables supplémentaires"
   ]
  },
  {
   "cell_type": "markdown",
   "id": "b2562332",
   "metadata": {},
   "source": [
    "On va créer de nouvelles variables que l'on va ajouter pour pouvoir obtenir une segmentation plus fine."
   ]
  },
  {
   "cell_type": "code",
   "execution_count": 31,
   "id": "ceb5dc25",
   "metadata": {},
   "outputs": [],
   "source": [
    "data.reset_index(inplace=True)"
   ]
  },
  {
   "cell_type": "markdown",
   "id": "26d32696",
   "metadata": {},
   "source": [
    "### Calcul des distances entre vendeurs et acheteurs"
   ]
  },
  {
   "cell_type": "code",
   "execution_count": 32,
   "id": "1d8f3791",
   "metadata": {},
   "outputs": [
    {
     "data": {
      "text/html": [
       "<div>\n",
       "<style scoped>\n",
       "    .dataframe tbody tr th:only-of-type {\n",
       "        vertical-align: middle;\n",
       "    }\n",
       "\n",
       "    .dataframe tbody tr th {\n",
       "        vertical-align: top;\n",
       "    }\n",
       "\n",
       "    .dataframe thead th {\n",
       "        text-align: right;\n",
       "    }\n",
       "</style>\n",
       "<table border=\"1\" class=\"dataframe\">\n",
       "  <thead>\n",
       "    <tr style=\"text-align: right;\">\n",
       "      <th></th>\n",
       "      <th>seller_id</th>\n",
       "      <th>seller_zip_code_prefix</th>\n",
       "      <th>seller_city</th>\n",
       "      <th>seller_state</th>\n",
       "    </tr>\n",
       "  </thead>\n",
       "  <tbody>\n",
       "    <tr>\n",
       "      <th>0</th>\n",
       "      <td>3442f8959a84dea7ee197c632cb2df15</td>\n",
       "      <td>13023</td>\n",
       "      <td>campinas</td>\n",
       "      <td>SP</td>\n",
       "    </tr>\n",
       "    <tr>\n",
       "      <th>1</th>\n",
       "      <td>d1b65fc7debc3361ea86b5f14c68d2e2</td>\n",
       "      <td>13844</td>\n",
       "      <td>mogi guacu</td>\n",
       "      <td>SP</td>\n",
       "    </tr>\n",
       "    <tr>\n",
       "      <th>2</th>\n",
       "      <td>ce3ad9de960102d0677a81f5d0bb7b2d</td>\n",
       "      <td>20031</td>\n",
       "      <td>rio de janeiro</td>\n",
       "      <td>RJ</td>\n",
       "    </tr>\n",
       "  </tbody>\n",
       "</table>\n",
       "</div>"
      ],
      "text/plain": [
       "                          seller_id  seller_zip_code_prefix     seller_city  \\\n",
       "0  3442f8959a84dea7ee197c632cb2df15                   13023        campinas   \n",
       "1  d1b65fc7debc3361ea86b5f14c68d2e2                   13844      mogi guacu   \n",
       "2  ce3ad9de960102d0677a81f5d0bb7b2d                   20031  rio de janeiro   \n",
       "\n",
       "  seller_state  \n",
       "0           SP  \n",
       "1           SP  \n",
       "2           RJ  "
      ]
     },
     "execution_count": 32,
     "metadata": {},
     "output_type": "execute_result"
    }
   ],
   "source": [
    "# Importation des informations vendeurs\n",
    "\n",
    "df_sellers = pd.read_csv(\"datasets/olist_sellers_dataset.csv\")\n",
    "df_sellers.head(3)"
   ]
  },
  {
   "cell_type": "code",
   "execution_count": 33,
   "id": "e9a4b6c6",
   "metadata": {},
   "outputs": [
    {
     "data": {
      "text/html": [
       "<div>\n",
       "<style scoped>\n",
       "    .dataframe tbody tr th:only-of-type {\n",
       "        vertical-align: middle;\n",
       "    }\n",
       "\n",
       "    .dataframe tbody tr th {\n",
       "        vertical-align: top;\n",
       "    }\n",
       "\n",
       "    .dataframe thead th {\n",
       "        text-align: right;\n",
       "    }\n",
       "</style>\n",
       "<table border=\"1\" class=\"dataframe\">\n",
       "  <thead>\n",
       "    <tr style=\"text-align: right;\">\n",
       "      <th></th>\n",
       "      <th>seller_id</th>\n",
       "      <th>seller_latitude</th>\n",
       "      <th>seller_longitude</th>\n",
       "    </tr>\n",
       "  </thead>\n",
       "  <tbody>\n",
       "    <tr>\n",
       "      <th>0</th>\n",
       "      <td>3442f8959a84dea7ee197c632cb2df15</td>\n",
       "      <td>-22.898536</td>\n",
       "      <td>-47.063125</td>\n",
       "    </tr>\n",
       "    <tr>\n",
       "      <th>1</th>\n",
       "      <td>3442f8959a84dea7ee197c632cb2df15</td>\n",
       "      <td>-22.895499</td>\n",
       "      <td>-47.061944</td>\n",
       "    </tr>\n",
       "    <tr>\n",
       "      <th>2</th>\n",
       "      <td>3442f8959a84dea7ee197c632cb2df15</td>\n",
       "      <td>-22.891740</td>\n",
       "      <td>-47.060820</td>\n",
       "    </tr>\n",
       "    <tr>\n",
       "      <th>3</th>\n",
       "      <td>3442f8959a84dea7ee197c632cb2df15</td>\n",
       "      <td>-22.895762</td>\n",
       "      <td>-47.066144</td>\n",
       "    </tr>\n",
       "    <tr>\n",
       "      <th>4</th>\n",
       "      <td>3442f8959a84dea7ee197c632cb2df15</td>\n",
       "      <td>-22.896154</td>\n",
       "      <td>-47.062431</td>\n",
       "    </tr>\n",
       "  </tbody>\n",
       "</table>\n",
       "</div>"
      ],
      "text/plain": [
       "                          seller_id  seller_latitude  seller_longitude\n",
       "0  3442f8959a84dea7ee197c632cb2df15       -22.898536        -47.063125\n",
       "1  3442f8959a84dea7ee197c632cb2df15       -22.895499        -47.061944\n",
       "2  3442f8959a84dea7ee197c632cb2df15       -22.891740        -47.060820\n",
       "3  3442f8959a84dea7ee197c632cb2df15       -22.895762        -47.066144\n",
       "4  3442f8959a84dea7ee197c632cb2df15       -22.896154        -47.062431"
      ]
     },
     "execution_count": 33,
     "metadata": {},
     "output_type": "execute_result"
    }
   ],
   "source": [
    "df_sellers = pd.merge(df_geo, df_sellers,\n",
    "                        right_on=[\"seller_zip_code_prefix\", \"seller_city\", \"seller_state\"], \n",
    "                        left_on=[\"geolocation_zip_code_prefix\", \"geolocation_city\", \"geolocation_state\"], how=\"right\")\n",
    "df_sellers.drop([\"geolocation_zip_code_prefix\", \"geolocation_city\", \"geolocation_state\"], axis=1, inplace=True)\n",
    "df_sellers = df_sellers[['seller_id', \"geolocation_lat\", \"geolocation_lng\"]]\n",
    "df_sellers.columns = [\"seller_id\", \"seller_latitude\", \"seller_longitude\"]\n",
    "df_sellers.head()"
   ]
  },
  {
   "cell_type": "code",
   "execution_count": 34,
   "id": "99ced25c",
   "metadata": {},
   "outputs": [],
   "source": [
    "df_sellers.drop_duplicates(subset=\"seller_id\", inplace=True)"
   ]
  },
  {
   "cell_type": "code",
   "execution_count": 35,
   "id": "a59314e1",
   "metadata": {},
   "outputs": [
    {
     "data": {
      "text/html": [
       "<div>\n",
       "<style scoped>\n",
       "    .dataframe tbody tr th:only-of-type {\n",
       "        vertical-align: middle;\n",
       "    }\n",
       "\n",
       "    .dataframe tbody tr th {\n",
       "        vertical-align: top;\n",
       "    }\n",
       "\n",
       "    .dataframe thead th {\n",
       "        text-align: right;\n",
       "    }\n",
       "</style>\n",
       "<table border=\"1\" class=\"dataframe\">\n",
       "  <thead>\n",
       "    <tr style=\"text-align: right;\">\n",
       "      <th></th>\n",
       "      <th>order_id</th>\n",
       "      <th>order_item_id</th>\n",
       "      <th>product_id</th>\n",
       "      <th>seller_id</th>\n",
       "      <th>shipping_limit_date</th>\n",
       "      <th>price</th>\n",
       "      <th>freight_value</th>\n",
       "    </tr>\n",
       "  </thead>\n",
       "  <tbody>\n",
       "    <tr>\n",
       "      <th>0</th>\n",
       "      <td>00010242fe8c5a6d1ba2dd792cb16214</td>\n",
       "      <td>1</td>\n",
       "      <td>4244733e06e7ecb4970a6e2683c13e61</td>\n",
       "      <td>48436dade18ac8b2bce089ec2a041202</td>\n",
       "      <td>2017-09-19 09:45:35</td>\n",
       "      <td>58.9</td>\n",
       "      <td>13.29</td>\n",
       "    </tr>\n",
       "    <tr>\n",
       "      <th>1</th>\n",
       "      <td>00018f77f2f0320c557190d7a144bdd3</td>\n",
       "      <td>1</td>\n",
       "      <td>e5f2d52b802189ee658865ca93d83a8f</td>\n",
       "      <td>dd7ddc04e1b6c2c614352b383efe2d36</td>\n",
       "      <td>2017-05-03 11:05:13</td>\n",
       "      <td>239.9</td>\n",
       "      <td>19.93</td>\n",
       "    </tr>\n",
       "    <tr>\n",
       "      <th>2</th>\n",
       "      <td>000229ec398224ef6ca0657da4fc703e</td>\n",
       "      <td>1</td>\n",
       "      <td>c777355d18b72b67abbeef9df44fd0fd</td>\n",
       "      <td>5b51032eddd242adc84c38acab88f23d</td>\n",
       "      <td>2018-01-18 14:48:30</td>\n",
       "      <td>199.0</td>\n",
       "      <td>17.87</td>\n",
       "    </tr>\n",
       "  </tbody>\n",
       "</table>\n",
       "</div>"
      ],
      "text/plain": [
       "                           order_id  order_item_id  \\\n",
       "0  00010242fe8c5a6d1ba2dd792cb16214              1   \n",
       "1  00018f77f2f0320c557190d7a144bdd3              1   \n",
       "2  000229ec398224ef6ca0657da4fc703e              1   \n",
       "\n",
       "                         product_id                         seller_id  \\\n",
       "0  4244733e06e7ecb4970a6e2683c13e61  48436dade18ac8b2bce089ec2a041202   \n",
       "1  e5f2d52b802189ee658865ca93d83a8f  dd7ddc04e1b6c2c614352b383efe2d36   \n",
       "2  c777355d18b72b67abbeef9df44fd0fd  5b51032eddd242adc84c38acab88f23d   \n",
       "\n",
       "   shipping_limit_date  price  freight_value  \n",
       "0  2017-09-19 09:45:35   58.9          13.29  \n",
       "1  2017-05-03 11:05:13  239.9          19.93  \n",
       "2  2018-01-18 14:48:30  199.0          17.87  "
      ]
     },
     "execution_count": 35,
     "metadata": {},
     "output_type": "execute_result"
    }
   ],
   "source": [
    "# Importation des informations sur les commandes\n",
    "\n",
    "df_items = pd.read_csv(\"datasets/olist_order_items_dataset.csv\")\n",
    "df_items.head(3)"
   ]
  },
  {
   "cell_type": "code",
   "execution_count": 36,
   "id": "87fe8794",
   "metadata": {},
   "outputs": [],
   "source": [
    "df_items = pd.merge(df_orders, df_items, on=\"order_id\", how=\"left\")"
   ]
  },
  {
   "cell_type": "code",
   "execution_count": 37,
   "id": "00c03684",
   "metadata": {},
   "outputs": [],
   "source": [
    "df_items = pd.merge(df_items, df_customers, on=\"customer_id\", how=\"left\")"
   ]
  },
  {
   "cell_type": "code",
   "execution_count": 38,
   "id": "d1544abe",
   "metadata": {},
   "outputs": [],
   "source": [
    "df_items = pd.merge(df_sellers, df_items, on=\"seller_id\", how=\"left\")"
   ]
  },
  {
   "cell_type": "code",
   "execution_count": 39,
   "id": "d8cf3c1f",
   "metadata": {},
   "outputs": [],
   "source": [
    "df_items.dropna(subset=[\"customer_city\"], inplace=True)"
   ]
  },
  {
   "cell_type": "code",
   "execution_count": 40,
   "id": "e8bcf6e6",
   "metadata": {},
   "outputs": [],
   "source": [
    "df_items[\"distance_customer_seller\"] = haversine_vectorize(df_items[\"customer_longitude\"], df_items[\"customer_latitude\"], df_items[\"seller_longitude\"], df_items[\"seller_latitude\"])"
   ]
  },
  {
   "cell_type": "code",
   "execution_count": 41,
   "id": "7dca043a",
   "metadata": {},
   "outputs": [],
   "source": [
    "df_items = df_items[[\"customer_unique_id\", \"product_id\", \"distance_customer_seller\"]]\n",
    "data = pd.merge(data, df_items, on=\"customer_unique_id\", how=\"left\")"
   ]
  },
  {
   "cell_type": "markdown",
   "id": "3c443dea",
   "metadata": {},
   "source": [
    "### Informations sur le type de produits commandés"
   ]
  },
  {
   "cell_type": "code",
   "execution_count": 42,
   "id": "cfdadc0f",
   "metadata": {},
   "outputs": [
    {
     "data": {
      "text/html": [
       "<div>\n",
       "<style scoped>\n",
       "    .dataframe tbody tr th:only-of-type {\n",
       "        vertical-align: middle;\n",
       "    }\n",
       "\n",
       "    .dataframe tbody tr th {\n",
       "        vertical-align: top;\n",
       "    }\n",
       "\n",
       "    .dataframe thead th {\n",
       "        text-align: right;\n",
       "    }\n",
       "</style>\n",
       "<table border=\"1\" class=\"dataframe\">\n",
       "  <thead>\n",
       "    <tr style=\"text-align: right;\">\n",
       "      <th></th>\n",
       "      <th>product_id</th>\n",
       "      <th>product_category_name</th>\n",
       "    </tr>\n",
       "  </thead>\n",
       "  <tbody>\n",
       "    <tr>\n",
       "      <th>0</th>\n",
       "      <td>1e9e8ef04dbcff4541ed26657ea517e5</td>\n",
       "      <td>perfumery</td>\n",
       "    </tr>\n",
       "    <tr>\n",
       "      <th>1</th>\n",
       "      <td>6a2fb4dd53d2cdb88e0432f1284a004c</td>\n",
       "      <td>perfumery</td>\n",
       "    </tr>\n",
       "    <tr>\n",
       "      <th>2</th>\n",
       "      <td>0d009643171aee696f4733340bc2fdd0</td>\n",
       "      <td>perfumery</td>\n",
       "    </tr>\n",
       "    <tr>\n",
       "      <th>3</th>\n",
       "      <td>b1eae565a61935e0011ee7682fef9dc9</td>\n",
       "      <td>perfumery</td>\n",
       "    </tr>\n",
       "    <tr>\n",
       "      <th>4</th>\n",
       "      <td>8da90b37f0fb171b4877c124f965b1f6</td>\n",
       "      <td>perfumery</td>\n",
       "    </tr>\n",
       "  </tbody>\n",
       "</table>\n",
       "</div>"
      ],
      "text/plain": [
       "                         product_id product_category_name\n",
       "0  1e9e8ef04dbcff4541ed26657ea517e5             perfumery\n",
       "1  6a2fb4dd53d2cdb88e0432f1284a004c             perfumery\n",
       "2  0d009643171aee696f4733340bc2fdd0             perfumery\n",
       "3  b1eae565a61935e0011ee7682fef9dc9             perfumery\n",
       "4  8da90b37f0fb171b4877c124f965b1f6             perfumery"
      ]
     },
     "execution_count": 42,
     "metadata": {},
     "output_type": "execute_result"
    }
   ],
   "source": [
    "df_products = pd.read_csv(\"datasets/olist_products_dataset.csv\")\n",
    "df_translation = pd.read_csv(\"datasets/product_category_name_translation.csv\")\n",
    "df_products = pd.merge(df_products, df_translation, on=\"product_category_name\")\n",
    "df_products = df_products[[\"product_id\", \"product_category_name_english\"]]\n",
    "df_products.rename(columns={\"product_category_name_english\" : \"product_category_name\"}, inplace=True)\n",
    "df_products.head()"
   ]
  },
  {
   "cell_type": "code",
   "execution_count": 43,
   "id": "357bad9f",
   "metadata": {},
   "outputs": [],
   "source": [
    "data = pd.merge(data, df_products, on=\"product_id\", how=\"left\")\n",
    "data.drop(\"product_id\", axis=1, inplace=True)"
   ]
  },
  {
   "cell_type": "markdown",
   "id": "4bfcf659",
   "metadata": {},
   "source": [
    "### Informations sur les avis clients"
   ]
  },
  {
   "cell_type": "code",
   "execution_count": 44,
   "id": "2ec735b6",
   "metadata": {},
   "outputs": [
    {
     "data": {
      "text/html": [
       "<div>\n",
       "<style scoped>\n",
       "    .dataframe tbody tr th:only-of-type {\n",
       "        vertical-align: middle;\n",
       "    }\n",
       "\n",
       "    .dataframe tbody tr th {\n",
       "        vertical-align: top;\n",
       "    }\n",
       "\n",
       "    .dataframe thead th {\n",
       "        text-align: right;\n",
       "    }\n",
       "</style>\n",
       "<table border=\"1\" class=\"dataframe\">\n",
       "  <thead>\n",
       "    <tr style=\"text-align: right;\">\n",
       "      <th></th>\n",
       "      <th>review_id</th>\n",
       "      <th>order_id</th>\n",
       "      <th>review_score</th>\n",
       "      <th>review_comment_title</th>\n",
       "      <th>review_comment_message</th>\n",
       "      <th>review_creation_date</th>\n",
       "      <th>review_answer_timestamp</th>\n",
       "    </tr>\n",
       "  </thead>\n",
       "  <tbody>\n",
       "    <tr>\n",
       "      <th>0</th>\n",
       "      <td>7bc2406110b926393aa56f80a40eba40</td>\n",
       "      <td>73fc7af87114b39712e6da79b0a377eb</td>\n",
       "      <td>4</td>\n",
       "      <td>NaN</td>\n",
       "      <td>NaN</td>\n",
       "      <td>2018-01-18 00:00:00</td>\n",
       "      <td>2018-01-18 21:46:59</td>\n",
       "    </tr>\n",
       "    <tr>\n",
       "      <th>1</th>\n",
       "      <td>80e641a11e56f04c1ad469d5645fdfde</td>\n",
       "      <td>a548910a1c6147796b98fdf73dbeba33</td>\n",
       "      <td>5</td>\n",
       "      <td>NaN</td>\n",
       "      <td>NaN</td>\n",
       "      <td>2018-03-10 00:00:00</td>\n",
       "      <td>2018-03-11 03:05:13</td>\n",
       "    </tr>\n",
       "    <tr>\n",
       "      <th>2</th>\n",
       "      <td>228ce5500dc1d8e020d8d1322874b6f0</td>\n",
       "      <td>f9e4b658b201a9f2ecdecbb34bed034b</td>\n",
       "      <td>5</td>\n",
       "      <td>NaN</td>\n",
       "      <td>NaN</td>\n",
       "      <td>2018-02-17 00:00:00</td>\n",
       "      <td>2018-02-18 14:36:24</td>\n",
       "    </tr>\n",
       "  </tbody>\n",
       "</table>\n",
       "</div>"
      ],
      "text/plain": [
       "                          review_id                          order_id  \\\n",
       "0  7bc2406110b926393aa56f80a40eba40  73fc7af87114b39712e6da79b0a377eb   \n",
       "1  80e641a11e56f04c1ad469d5645fdfde  a548910a1c6147796b98fdf73dbeba33   \n",
       "2  228ce5500dc1d8e020d8d1322874b6f0  f9e4b658b201a9f2ecdecbb34bed034b   \n",
       "\n",
       "   review_score review_comment_title review_comment_message  \\\n",
       "0             4                  NaN                    NaN   \n",
       "1             5                  NaN                    NaN   \n",
       "2             5                  NaN                    NaN   \n",
       "\n",
       "  review_creation_date review_answer_timestamp  \n",
       "0  2018-01-18 00:00:00     2018-01-18 21:46:59  \n",
       "1  2018-03-10 00:00:00     2018-03-11 03:05:13  \n",
       "2  2018-02-17 00:00:00     2018-02-18 14:36:24  "
      ]
     },
     "execution_count": 44,
     "metadata": {},
     "output_type": "execute_result"
    }
   ],
   "source": [
    "df_reviews = pd.read_csv(\"datasets/olist_order_reviews_dataset.csv\")\n",
    "df_reviews.head(3)"
   ]
  },
  {
   "cell_type": "code",
   "execution_count": 45,
   "id": "32f5a951",
   "metadata": {},
   "outputs": [],
   "source": [
    "df_reviews.drop([\"review_id\", \"review_creation_date\", \"review_answer_timestamp\"], axis=1, inplace=True)"
   ]
  },
  {
   "cell_type": "code",
   "execution_count": 46,
   "id": "12f68288",
   "metadata": {},
   "outputs": [],
   "source": [
    "df_reviews[\"review_score\"] = df_reviews[\"review_score\"].astype(\"int32\")"
   ]
  },
  {
   "cell_type": "code",
   "execution_count": 47,
   "id": "53a2215a",
   "metadata": {},
   "outputs": [
    {
     "data": {
      "text/html": [
       "<div>\n",
       "<style scoped>\n",
       "    .dataframe tbody tr th:only-of-type {\n",
       "        vertical-align: middle;\n",
       "    }\n",
       "\n",
       "    .dataframe tbody tr th {\n",
       "        vertical-align: top;\n",
       "    }\n",
       "\n",
       "    .dataframe thead th {\n",
       "        text-align: right;\n",
       "    }\n",
       "</style>\n",
       "<table border=\"1\" class=\"dataframe\">\n",
       "  <thead>\n",
       "    <tr style=\"text-align: right;\">\n",
       "      <th></th>\n",
       "      <th>order_id</th>\n",
       "      <th>customer_id</th>\n",
       "      <th>order_status</th>\n",
       "      <th>order_purchase_timestamp</th>\n",
       "      <th>order_approved_at</th>\n",
       "      <th>order_delivered_carrier_date</th>\n",
       "      <th>order_delivered_customer_date</th>\n",
       "      <th>order_estimated_delivery_date</th>\n",
       "    </tr>\n",
       "  </thead>\n",
       "  <tbody>\n",
       "    <tr>\n",
       "      <th>0</th>\n",
       "      <td>e481f51cbdc54678b7cc49136f2d6af7</td>\n",
       "      <td>9ef432eb6251297304e76186b10a928d</td>\n",
       "      <td>delivered</td>\n",
       "      <td>2017-10-02 10:56:33</td>\n",
       "      <td>2017-10-02 11:07:15</td>\n",
       "      <td>2017-10-04 19:55:00</td>\n",
       "      <td>2017-10-10 21:25:13</td>\n",
       "      <td>2017-10-18 00:00:00</td>\n",
       "    </tr>\n",
       "    <tr>\n",
       "      <th>1</th>\n",
       "      <td>53cdb2fc8bc7dce0b6741e2150273451</td>\n",
       "      <td>b0830fb4747a6c6d20dea0b8c802d7ef</td>\n",
       "      <td>delivered</td>\n",
       "      <td>2018-07-24 20:41:37</td>\n",
       "      <td>2018-07-26 03:24:27</td>\n",
       "      <td>2018-07-26 14:31:00</td>\n",
       "      <td>2018-08-07 15:27:45</td>\n",
       "      <td>2018-08-13 00:00:00</td>\n",
       "    </tr>\n",
       "    <tr>\n",
       "      <th>2</th>\n",
       "      <td>47770eb9100c2d0c44946d9cf07ec65d</td>\n",
       "      <td>41ce2a54c0b03bf3443c3d931a367089</td>\n",
       "      <td>delivered</td>\n",
       "      <td>2018-08-08 08:38:49</td>\n",
       "      <td>2018-08-08 08:55:23</td>\n",
       "      <td>2018-08-08 13:50:00</td>\n",
       "      <td>2018-08-17 18:06:29</td>\n",
       "      <td>2018-09-04 00:00:00</td>\n",
       "    </tr>\n",
       "  </tbody>\n",
       "</table>\n",
       "</div>"
      ],
      "text/plain": [
       "                           order_id                       customer_id  \\\n",
       "0  e481f51cbdc54678b7cc49136f2d6af7  9ef432eb6251297304e76186b10a928d   \n",
       "1  53cdb2fc8bc7dce0b6741e2150273451  b0830fb4747a6c6d20dea0b8c802d7ef   \n",
       "2  47770eb9100c2d0c44946d9cf07ec65d  41ce2a54c0b03bf3443c3d931a367089   \n",
       "\n",
       "  order_status order_purchase_timestamp    order_approved_at  \\\n",
       "0    delivered      2017-10-02 10:56:33  2017-10-02 11:07:15   \n",
       "1    delivered      2018-07-24 20:41:37  2018-07-26 03:24:27   \n",
       "2    delivered      2018-08-08 08:38:49  2018-08-08 08:55:23   \n",
       "\n",
       "  order_delivered_carrier_date order_delivered_customer_date  \\\n",
       "0          2017-10-04 19:55:00           2017-10-10 21:25:13   \n",
       "1          2018-07-26 14:31:00           2018-08-07 15:27:45   \n",
       "2          2018-08-08 13:50:00           2018-08-17 18:06:29   \n",
       "\n",
       "  order_estimated_delivery_date  \n",
       "0           2017-10-18 00:00:00  \n",
       "1           2018-08-13 00:00:00  \n",
       "2           2018-09-04 00:00:00  "
      ]
     },
     "execution_count": 47,
     "metadata": {},
     "output_type": "execute_result"
    }
   ],
   "source": [
    "df_orders = pd.read_csv(\"datasets/olist_orders_dataset.csv\")\n",
    "df_orders.head(3)"
   ]
  },
  {
   "cell_type": "code",
   "execution_count": 48,
   "id": "6625c67b",
   "metadata": {},
   "outputs": [],
   "source": [
    "df_orders.drop([\"order_purchase_timestamp\", \"order_delivered_carrier_date\"], axis=1, inplace=True)\n",
    "cols_time = [\"order_approved_at\", \"order_delivered_customer_date\", \"order_estimated_delivery_date\"]\n",
    "\n",
    "for cols in cols_time:\n",
    "    df_orders[cols] = pd.to_datetime(df_orders[cols], format=\"%Y-%m-%d\", errors=\"ignore\")"
   ]
  },
  {
   "cell_type": "code",
   "execution_count": 49,
   "id": "e23c8327",
   "metadata": {},
   "outputs": [
    {
     "name": "stdout",
     "output_type": "stream",
     "text": [
      "<class 'pandas.core.frame.DataFrame'>\n",
      "RangeIndex: 99441 entries, 0 to 99440\n",
      "Data columns (total 6 columns):\n",
      " #   Column                         Non-Null Count  Dtype         \n",
      "---  ------                         --------------  -----         \n",
      " 0   order_id                       99441 non-null  object        \n",
      " 1   customer_id                    99441 non-null  object        \n",
      " 2   order_status                   99441 non-null  object        \n",
      " 3   order_approved_at              99281 non-null  datetime64[ns]\n",
      " 4   order_delivered_customer_date  96476 non-null  datetime64[ns]\n",
      " 5   order_estimated_delivery_date  99441 non-null  datetime64[ns]\n",
      "dtypes: datetime64[ns](3), object(3)\n",
      "memory usage: 4.6+ MB\n"
     ]
    }
   ],
   "source": [
    "df_orders.info()"
   ]
  },
  {
   "cell_type": "markdown",
   "id": "46d7a525",
   "metadata": {},
   "source": [
    "### Calcul entre du nombre de jours entre la commande et la réception réel et estimé"
   ]
  },
  {
   "cell_type": "code",
   "execution_count": 50,
   "id": "3ad4839e",
   "metadata": {},
   "outputs": [],
   "source": [
    "df_orders[\"nb_days_before_delivered\"] = df_orders[\"order_delivered_customer_date\"] - df_orders[\"order_approved_at\"]\n",
    "df_orders[\"nb_days_before_delivered_estimation\"] = df_orders[\"order_estimated_delivery_date\"] - df_orders[\"order_approved_at\"]\n",
    "\n",
    "cols_var = [\"nb_days_before_delivered\", \"nb_days_before_delivered_estimation\"]\n",
    "\n",
    "for cols in cols_var:\n",
    "    df_orders[cols] = df_orders[cols].dt.days\n",
    "\n",
    "df_orders.drop([\"order_approved_at\", \"order_delivered_customer_date\", \"order_estimated_delivery_date\"], axis=1, inplace=True)"
   ]
  },
  {
   "cell_type": "code",
   "execution_count": 51,
   "id": "d5bde9f2",
   "metadata": {},
   "outputs": [
    {
     "data": {
      "text/html": [
       "<div>\n",
       "<style scoped>\n",
       "    .dataframe tbody tr th:only-of-type {\n",
       "        vertical-align: middle;\n",
       "    }\n",
       "\n",
       "    .dataframe tbody tr th {\n",
       "        vertical-align: top;\n",
       "    }\n",
       "\n",
       "    .dataframe thead th {\n",
       "        text-align: right;\n",
       "    }\n",
       "</style>\n",
       "<table border=\"1\" class=\"dataframe\">\n",
       "  <thead>\n",
       "    <tr style=\"text-align: right;\">\n",
       "      <th></th>\n",
       "      <th>order_id</th>\n",
       "      <th>customer_id</th>\n",
       "      <th>order_status</th>\n",
       "      <th>nb_days_before_delivered</th>\n",
       "      <th>nb_days_before_delivered_estimation</th>\n",
       "    </tr>\n",
       "  </thead>\n",
       "  <tbody>\n",
       "    <tr>\n",
       "      <th>0</th>\n",
       "      <td>e481f51cbdc54678b7cc49136f2d6af7</td>\n",
       "      <td>9ef432eb6251297304e76186b10a928d</td>\n",
       "      <td>delivered</td>\n",
       "      <td>8.0</td>\n",
       "      <td>15.0</td>\n",
       "    </tr>\n",
       "    <tr>\n",
       "      <th>1</th>\n",
       "      <td>53cdb2fc8bc7dce0b6741e2150273451</td>\n",
       "      <td>b0830fb4747a6c6d20dea0b8c802d7ef</td>\n",
       "      <td>delivered</td>\n",
       "      <td>12.0</td>\n",
       "      <td>17.0</td>\n",
       "    </tr>\n",
       "    <tr>\n",
       "      <th>2</th>\n",
       "      <td>47770eb9100c2d0c44946d9cf07ec65d</td>\n",
       "      <td>41ce2a54c0b03bf3443c3d931a367089</td>\n",
       "      <td>delivered</td>\n",
       "      <td>9.0</td>\n",
       "      <td>26.0</td>\n",
       "    </tr>\n",
       "    <tr>\n",
       "      <th>3</th>\n",
       "      <td>949d5b44dbf5de918fe9c16f97b45f8a</td>\n",
       "      <td>f88197465ea7920adcdbec7375364d82</td>\n",
       "      <td>delivered</td>\n",
       "      <td>13.0</td>\n",
       "      <td>26.0</td>\n",
       "    </tr>\n",
       "    <tr>\n",
       "      <th>4</th>\n",
       "      <td>ad21c59c0840e6cb83a9ceb5573f8159</td>\n",
       "      <td>8ab97904e6daea8866dbdbc4fb7aad2c</td>\n",
       "      <td>delivered</td>\n",
       "      <td>2.0</td>\n",
       "      <td>12.0</td>\n",
       "    </tr>\n",
       "  </tbody>\n",
       "</table>\n",
       "</div>"
      ],
      "text/plain": [
       "                           order_id                       customer_id  \\\n",
       "0  e481f51cbdc54678b7cc49136f2d6af7  9ef432eb6251297304e76186b10a928d   \n",
       "1  53cdb2fc8bc7dce0b6741e2150273451  b0830fb4747a6c6d20dea0b8c802d7ef   \n",
       "2  47770eb9100c2d0c44946d9cf07ec65d  41ce2a54c0b03bf3443c3d931a367089   \n",
       "3  949d5b44dbf5de918fe9c16f97b45f8a  f88197465ea7920adcdbec7375364d82   \n",
       "4  ad21c59c0840e6cb83a9ceb5573f8159  8ab97904e6daea8866dbdbc4fb7aad2c   \n",
       "\n",
       "  order_status  nb_days_before_delivered  nb_days_before_delivered_estimation  \n",
       "0    delivered                       8.0                                 15.0  \n",
       "1    delivered                      12.0                                 17.0  \n",
       "2    delivered                       9.0                                 26.0  \n",
       "3    delivered                      13.0                                 26.0  \n",
       "4    delivered                       2.0                                 12.0  "
      ]
     },
     "execution_count": 51,
     "metadata": {},
     "output_type": "execute_result"
    }
   ],
   "source": [
    "df_orders.head()"
   ]
  },
  {
   "cell_type": "markdown",
   "id": "1427ff33",
   "metadata": {},
   "source": [
    "### Assemblage des différentes variables pour obtenir un dataset unique"
   ]
  },
  {
   "cell_type": "code",
   "execution_count": 52,
   "id": "3aca5048",
   "metadata": {},
   "outputs": [
    {
     "data": {
      "text/plain": [
       "(99441, 9)"
      ]
     },
     "execution_count": 52,
     "metadata": {},
     "output_type": "execute_result"
    }
   ],
   "source": [
    "df_customers_orders = pd.merge(df_customers, df_orders, on=\"customer_id\", how=\"left\")\n",
    "df_customers_orders.shape"
   ]
  },
  {
   "cell_type": "code",
   "execution_count": 53,
   "id": "e7b7aa61",
   "metadata": {},
   "outputs": [
    {
     "data": {
      "text/plain": [
       "(100000, 12)"
      ]
     },
     "execution_count": 53,
     "metadata": {},
     "output_type": "execute_result"
    }
   ],
   "source": [
    "df_customers_orders = pd.merge(df_customers_orders, df_reviews, on=\"order_id\", how=\"left\")\n",
    "df_customers_orders.shape"
   ]
  },
  {
   "cell_type": "code",
   "execution_count": 54,
   "id": "8f7bd41c",
   "metadata": {},
   "outputs": [
    {
     "data": {
      "text/html": [
       "<div>\n",
       "<style scoped>\n",
       "    .dataframe tbody tr th:only-of-type {\n",
       "        vertical-align: middle;\n",
       "    }\n",
       "\n",
       "    .dataframe tbody tr th {\n",
       "        vertical-align: top;\n",
       "    }\n",
       "\n",
       "    .dataframe thead th {\n",
       "        text-align: right;\n",
       "    }\n",
       "</style>\n",
       "<table border=\"1\" class=\"dataframe\">\n",
       "  <thead>\n",
       "    <tr style=\"text-align: right;\">\n",
       "      <th></th>\n",
       "      <th>customer_id</th>\n",
       "      <th>customer_unique_id</th>\n",
       "      <th>customer_city</th>\n",
       "      <th>customer_latitude</th>\n",
       "      <th>customer_longitude</th>\n",
       "      <th>order_id</th>\n",
       "      <th>order_status</th>\n",
       "      <th>nb_days_before_delivered</th>\n",
       "      <th>nb_days_before_delivered_estimation</th>\n",
       "      <th>review_score</th>\n",
       "      <th>review_comment_title</th>\n",
       "      <th>review_comment_message</th>\n",
       "    </tr>\n",
       "  </thead>\n",
       "  <tbody>\n",
       "    <tr>\n",
       "      <th>0</th>\n",
       "      <td>06b8999e2fba1a1fbc88172c00ba8bc7</td>\n",
       "      <td>861eff4711a542e4b93843c6dd7febb0</td>\n",
       "      <td>franca</td>\n",
       "      <td>-20.509897</td>\n",
       "      <td>-47.397866</td>\n",
       "      <td>00e7ee1b050b8499577073aeb2a297a1</td>\n",
       "      <td>delivered</td>\n",
       "      <td>8.0</td>\n",
       "      <td>19.0</td>\n",
       "      <td>4</td>\n",
       "      <td>NaN</td>\n",
       "      <td>NaN</td>\n",
       "    </tr>\n",
       "    <tr>\n",
       "      <th>1</th>\n",
       "      <td>18955e83d337fd6b2def6b18a428ac77</td>\n",
       "      <td>290c77bc529b7ac935b93aa66c333dc3</td>\n",
       "      <td>sao bernardo do campo</td>\n",
       "      <td>-23.726853</td>\n",
       "      <td>-46.545746</td>\n",
       "      <td>29150127e6685892b6eab3eec79f59c7</td>\n",
       "      <td>delivered</td>\n",
       "      <td>16.0</td>\n",
       "      <td>24.0</td>\n",
       "      <td>5</td>\n",
       "      <td>NaN</td>\n",
       "      <td>NaN</td>\n",
       "    </tr>\n",
       "    <tr>\n",
       "      <th>2</th>\n",
       "      <td>4e7b3e00288586ebd08712fdd0374a03</td>\n",
       "      <td>060e732b5b29e8181a18229c7b0b2b5e</td>\n",
       "      <td>sao paulo</td>\n",
       "      <td>-23.527788</td>\n",
       "      <td>-46.660310</td>\n",
       "      <td>b2059ed67ce144a36e2aa97d2c9e9ad2</td>\n",
       "      <td>delivered</td>\n",
       "      <td>25.0</td>\n",
       "      <td>23.0</td>\n",
       "      <td>5</td>\n",
       "      <td>NaN</td>\n",
       "      <td>NaN</td>\n",
       "    </tr>\n",
       "  </tbody>\n",
       "</table>\n",
       "</div>"
      ],
      "text/plain": [
       "                        customer_id                customer_unique_id  \\\n",
       "0  06b8999e2fba1a1fbc88172c00ba8bc7  861eff4711a542e4b93843c6dd7febb0   \n",
       "1  18955e83d337fd6b2def6b18a428ac77  290c77bc529b7ac935b93aa66c333dc3   \n",
       "2  4e7b3e00288586ebd08712fdd0374a03  060e732b5b29e8181a18229c7b0b2b5e   \n",
       "\n",
       "           customer_city  customer_latitude  customer_longitude  \\\n",
       "0                 franca         -20.509897          -47.397866   \n",
       "1  sao bernardo do campo         -23.726853          -46.545746   \n",
       "2              sao paulo         -23.527788          -46.660310   \n",
       "\n",
       "                           order_id order_status  nb_days_before_delivered  \\\n",
       "0  00e7ee1b050b8499577073aeb2a297a1    delivered                       8.0   \n",
       "1  29150127e6685892b6eab3eec79f59c7    delivered                      16.0   \n",
       "2  b2059ed67ce144a36e2aa97d2c9e9ad2    delivered                      25.0   \n",
       "\n",
       "   nb_days_before_delivered_estimation  review_score review_comment_title  \\\n",
       "0                                 19.0             4                  NaN   \n",
       "1                                 24.0             5                  NaN   \n",
       "2                                 23.0             5                  NaN   \n",
       "\n",
       "  review_comment_message  \n",
       "0                    NaN  \n",
       "1                    NaN  \n",
       "2                    NaN  "
      ]
     },
     "execution_count": 54,
     "metadata": {},
     "output_type": "execute_result"
    }
   ],
   "source": [
    "df_customers_orders.head(3)"
   ]
  },
  {
   "cell_type": "code",
   "execution_count": 55,
   "id": "5119816e",
   "metadata": {},
   "outputs": [],
   "source": [
    "df_customers_orders.drop([\"order_id\"], axis=1, inplace=True)"
   ]
  },
  {
   "cell_type": "code",
   "execution_count": 56,
   "id": "30bfc36e",
   "metadata": {},
   "outputs": [
    {
     "data": {
      "text/plain": [
       "(100000, 11)"
      ]
     },
     "execution_count": 56,
     "metadata": {},
     "output_type": "execute_result"
    }
   ],
   "source": [
    "df_customers_orders.shape"
   ]
  },
  {
   "cell_type": "code",
   "execution_count": 57,
   "id": "d5d14013",
   "metadata": {},
   "outputs": [],
   "source": [
    "df_customers_orders = df_customers_orders.groupby(\"customer_unique_id\").mean().reset_index()"
   ]
  },
  {
   "cell_type": "code",
   "execution_count": 58,
   "id": "7d51bc05",
   "metadata": {},
   "outputs": [
    {
     "data": {
      "text/plain": [
       "(113323, 15)"
      ]
     },
     "execution_count": 58,
     "metadata": {},
     "output_type": "execute_result"
    }
   ],
   "source": [
    "data = pd.merge(data, df_customers_orders, on=\"customer_unique_id\", how=\"left\")\n",
    "data.shape"
   ]
  },
  {
   "cell_type": "code",
   "execution_count": 59,
   "id": "2345a5f9",
   "metadata": {},
   "outputs": [
    {
     "data": {
      "text/plain": [
       "(122793, 19)"
      ]
     },
     "execution_count": 59,
     "metadata": {},
     "output_type": "execute_result"
    }
   ],
   "source": [
    "data = pd.merge(df_customers, data, on=\"customer_unique_id\", how=\"right\")\n",
    "data.shape"
   ]
  },
  {
   "cell_type": "code",
   "execution_count": 60,
   "id": "30611639",
   "metadata": {},
   "outputs": [
    {
     "data": {
      "text/html": [
       "<div>\n",
       "<style scoped>\n",
       "    .dataframe tbody tr th:only-of-type {\n",
       "        vertical-align: middle;\n",
       "    }\n",
       "\n",
       "    .dataframe tbody tr th {\n",
       "        vertical-align: top;\n",
       "    }\n",
       "\n",
       "    .dataframe thead th {\n",
       "        text-align: right;\n",
       "    }\n",
       "</style>\n",
       "<table border=\"1\" class=\"dataframe\">\n",
       "  <thead>\n",
       "    <tr style=\"text-align: right;\">\n",
       "      <th></th>\n",
       "      <th>customer_id</th>\n",
       "      <th>customer_unique_id</th>\n",
       "      <th>customer_city</th>\n",
       "      <th>customer_latitude</th>\n",
       "      <th>customer_longitude</th>\n",
       "    </tr>\n",
       "  </thead>\n",
       "  <tbody>\n",
       "    <tr>\n",
       "      <th>0</th>\n",
       "      <td>06b8999e2fba1a1fbc88172c00ba8bc7</td>\n",
       "      <td>861eff4711a542e4b93843c6dd7febb0</td>\n",
       "      <td>franca</td>\n",
       "      <td>-20.509897</td>\n",
       "      <td>-47.397866</td>\n",
       "    </tr>\n",
       "    <tr>\n",
       "      <th>147</th>\n",
       "      <td>18955e83d337fd6b2def6b18a428ac77</td>\n",
       "      <td>290c77bc529b7ac935b93aa66c333dc3</td>\n",
       "      <td>sao bernardo do campo</td>\n",
       "      <td>-23.726853</td>\n",
       "      <td>-46.545746</td>\n",
       "    </tr>\n",
       "    <tr>\n",
       "      <th>300</th>\n",
       "      <td>4e7b3e00288586ebd08712fdd0374a03</td>\n",
       "      <td>060e732b5b29e8181a18229c7b0b2b5e</td>\n",
       "      <td>sao paulo</td>\n",
       "      <td>-23.527788</td>\n",
       "      <td>-46.660310</td>\n",
       "    </tr>\n",
       "    <tr>\n",
       "      <th>387</th>\n",
       "      <td>b2b6027bc5c5109e529d4dc6358b12c3</td>\n",
       "      <td>259dac757896d24d7702b9acbbff3f3c</td>\n",
       "      <td>mogi das cruzes</td>\n",
       "      <td>-23.496930</td>\n",
       "      <td>-46.185352</td>\n",
       "    </tr>\n",
       "    <tr>\n",
       "      <th>520</th>\n",
       "      <td>4f2d8ab171c80ec8364f7c12e35b23ad</td>\n",
       "      <td>345ecd01c38d18a9036ed96c73b8d066</td>\n",
       "      <td>campinas</td>\n",
       "      <td>-22.987222</td>\n",
       "      <td>-47.151073</td>\n",
       "    </tr>\n",
       "  </tbody>\n",
       "</table>\n",
       "</div>"
      ],
      "text/plain": [
       "                          customer_id                customer_unique_id  \\\n",
       "0    06b8999e2fba1a1fbc88172c00ba8bc7  861eff4711a542e4b93843c6dd7febb0   \n",
       "147  18955e83d337fd6b2def6b18a428ac77  290c77bc529b7ac935b93aa66c333dc3   \n",
       "300  4e7b3e00288586ebd08712fdd0374a03  060e732b5b29e8181a18229c7b0b2b5e   \n",
       "387  b2b6027bc5c5109e529d4dc6358b12c3  259dac757896d24d7702b9acbbff3f3c   \n",
       "520  4f2d8ab171c80ec8364f7c12e35b23ad  345ecd01c38d18a9036ed96c73b8d066   \n",
       "\n",
       "             customer_city  customer_latitude  customer_longitude  \n",
       "0                   franca         -20.509897          -47.397866  \n",
       "147  sao bernardo do campo         -23.726853          -46.545746  \n",
       "300              sao paulo         -23.527788          -46.660310  \n",
       "387        mogi das cruzes         -23.496930          -46.185352  \n",
       "520               campinas         -22.987222          -47.151073  "
      ]
     },
     "execution_count": 60,
     "metadata": {},
     "output_type": "execute_result"
    }
   ],
   "source": [
    "df_customers.head()"
   ]
  },
  {
   "cell_type": "code",
   "execution_count": 61,
   "id": "3bfd019c",
   "metadata": {},
   "outputs": [],
   "source": [
    "data.drop_duplicates(subset=\"customer_unique_id\", inplace=True)"
   ]
  },
  {
   "cell_type": "code",
   "execution_count": 62,
   "id": "7a1db234",
   "metadata": {},
   "outputs": [
    {
     "data": {
      "text/html": [
       "<div>\n",
       "<style scoped>\n",
       "    .dataframe tbody tr th:only-of-type {\n",
       "        vertical-align: middle;\n",
       "    }\n",
       "\n",
       "    .dataframe tbody tr th {\n",
       "        vertical-align: top;\n",
       "    }\n",
       "\n",
       "    .dataframe thead th {\n",
       "        text-align: right;\n",
       "    }\n",
       "</style>\n",
       "<table border=\"1\" class=\"dataframe\">\n",
       "  <thead>\n",
       "    <tr style=\"text-align: right;\">\n",
       "      <th></th>\n",
       "      <th>customer_city</th>\n",
       "      <th>Recency</th>\n",
       "      <th>Frequency</th>\n",
       "      <th>MonetaryValue</th>\n",
       "      <th>r_quartile</th>\n",
       "      <th>f_bins</th>\n",
       "      <th>m_quartile</th>\n",
       "      <th>RFM_Score</th>\n",
       "      <th>distance_customer_seller</th>\n",
       "      <th>product_category_name</th>\n",
       "      <th>nb_days_before_delivered</th>\n",
       "      <th>nb_days_before_delivered_estimation</th>\n",
       "      <th>review_score</th>\n",
       "    </tr>\n",
       "    <tr>\n",
       "      <th>customer_unique_id</th>\n",
       "      <th></th>\n",
       "      <th></th>\n",
       "      <th></th>\n",
       "      <th></th>\n",
       "      <th></th>\n",
       "      <th></th>\n",
       "      <th></th>\n",
       "      <th></th>\n",
       "      <th></th>\n",
       "      <th></th>\n",
       "      <th></th>\n",
       "      <th></th>\n",
       "      <th></th>\n",
       "    </tr>\n",
       "  </thead>\n",
       "  <tbody>\n",
       "    <tr>\n",
       "      <th>0000366f3b9a7992bf8c76cfdf3221e2</th>\n",
       "      <td>cajamar</td>\n",
       "      <td>161</td>\n",
       "      <td>1</td>\n",
       "      <td>141.90</td>\n",
       "      <td>1</td>\n",
       "      <td>2</td>\n",
       "      <td>2</td>\n",
       "      <td>122</td>\n",
       "      <td>109.119060</td>\n",
       "      <td>bed_bath_table</td>\n",
       "      <td>6.0</td>\n",
       "      <td>10.0</td>\n",
       "      <td>5.0</td>\n",
       "    </tr>\n",
       "    <tr>\n",
       "      <th>0000b849f77a49e4a4ce2b2a4ca5be3f</th>\n",
       "      <td>osasco</td>\n",
       "      <td>164</td>\n",
       "      <td>1</td>\n",
       "      <td>27.19</td>\n",
       "      <td>1</td>\n",
       "      <td>2</td>\n",
       "      <td>4</td>\n",
       "      <td>124</td>\n",
       "      <td>22.813939</td>\n",
       "      <td>health_beauty</td>\n",
       "      <td>2.0</td>\n",
       "      <td>7.0</td>\n",
       "      <td>4.0</td>\n",
       "    </tr>\n",
       "    <tr>\n",
       "      <th>0000f46a3911fa3c0805444483337064</th>\n",
       "      <td>sao jose</td>\n",
       "      <td>586</td>\n",
       "      <td>1</td>\n",
       "      <td>86.22</td>\n",
       "      <td>4</td>\n",
       "      <td>2</td>\n",
       "      <td>3</td>\n",
       "      <td>423</td>\n",
       "      <td>516.989962</td>\n",
       "      <td>stationery</td>\n",
       "      <td>25.0</td>\n",
       "      <td>27.0</td>\n",
       "      <td>3.0</td>\n",
       "    </tr>\n",
       "  </tbody>\n",
       "</table>\n",
       "</div>"
      ],
      "text/plain": [
       "                                 customer_city  Recency  Frequency  \\\n",
       "customer_unique_id                                                   \n",
       "0000366f3b9a7992bf8c76cfdf3221e2       cajamar      161          1   \n",
       "0000b849f77a49e4a4ce2b2a4ca5be3f        osasco      164          1   \n",
       "0000f46a3911fa3c0805444483337064      sao jose      586          1   \n",
       "\n",
       "                                  MonetaryValue r_quartile f_bins m_quartile  \\\n",
       "customer_unique_id                                                             \n",
       "0000366f3b9a7992bf8c76cfdf3221e2         141.90          1      2          2   \n",
       "0000b849f77a49e4a4ce2b2a4ca5be3f          27.19          1      2          4   \n",
       "0000f46a3911fa3c0805444483337064          86.22          4      2          3   \n",
       "\n",
       "                                 RFM_Score  distance_customer_seller  \\\n",
       "customer_unique_id                                                     \n",
       "0000366f3b9a7992bf8c76cfdf3221e2       122                109.119060   \n",
       "0000b849f77a49e4a4ce2b2a4ca5be3f       124                 22.813939   \n",
       "0000f46a3911fa3c0805444483337064       423                516.989962   \n",
       "\n",
       "                                 product_category_name  \\\n",
       "customer_unique_id                                       \n",
       "0000366f3b9a7992bf8c76cfdf3221e2        bed_bath_table   \n",
       "0000b849f77a49e4a4ce2b2a4ca5be3f         health_beauty   \n",
       "0000f46a3911fa3c0805444483337064            stationery   \n",
       "\n",
       "                                  nb_days_before_delivered  \\\n",
       "customer_unique_id                                           \n",
       "0000366f3b9a7992bf8c76cfdf3221e2                       6.0   \n",
       "0000b849f77a49e4a4ce2b2a4ca5be3f                       2.0   \n",
       "0000f46a3911fa3c0805444483337064                      25.0   \n",
       "\n",
       "                                  nb_days_before_delivered_estimation  \\\n",
       "customer_unique_id                                                      \n",
       "0000366f3b9a7992bf8c76cfdf3221e2                                 10.0   \n",
       "0000b849f77a49e4a4ce2b2a4ca5be3f                                  7.0   \n",
       "0000f46a3911fa3c0805444483337064                                 27.0   \n",
       "\n",
       "                                  review_score  \n",
       "customer_unique_id                              \n",
       "0000366f3b9a7992bf8c76cfdf3221e2           5.0  \n",
       "0000b849f77a49e4a4ce2b2a4ca5be3f           4.0  \n",
       "0000f46a3911fa3c0805444483337064           3.0  "
      ]
     },
     "execution_count": 62,
     "metadata": {},
     "output_type": "execute_result"
    }
   ],
   "source": [
    "data.drop([\"customer_id\",\"customer_longitude_x\", \"customer_latitude_x\", \"customer_longitude_y\", \"customer_latitude_y\"], axis=1, inplace=True)\n",
    "data.set_index(\"customer_unique_id\", inplace=True)\n",
    "data.head(3)"
   ]
  },
  {
   "cell_type": "code",
   "execution_count": 63,
   "id": "fff24b78",
   "metadata": {},
   "outputs": [],
   "source": [
    "data = data.loc[data[\"nb_days_before_delivered\"] > 0]\n",
    "data = data.loc[data[\"nb_days_before_delivered_estimation\"] > 0]\n",
    "data = data.loc[data[\"distance_customer_seller\"] > 0]"
   ]
  },
  {
   "cell_type": "code",
   "execution_count": 64,
   "id": "25663af7",
   "metadata": {},
   "outputs": [],
   "source": [
    "data[\"review_score\"] = data[\"review_score\"].astype(\"int32\")"
   ]
  },
  {
   "cell_type": "markdown",
   "id": "7cec9bb1",
   "metadata": {},
   "source": [
    "## 3) Analyse des données clients"
   ]
  },
  {
   "cell_type": "code",
   "execution_count": 65,
   "id": "224b8e63",
   "metadata": {},
   "outputs": [
    {
     "data": {
      "text/html": [
       "<div>\n",
       "<style scoped>\n",
       "    .dataframe tbody tr th:only-of-type {\n",
       "        vertical-align: middle;\n",
       "    }\n",
       "\n",
       "    .dataframe tbody tr th {\n",
       "        vertical-align: top;\n",
       "    }\n",
       "\n",
       "    .dataframe thead th {\n",
       "        text-align: right;\n",
       "    }\n",
       "</style>\n",
       "<table border=\"1\" class=\"dataframe\">\n",
       "  <thead>\n",
       "    <tr style=\"text-align: right;\">\n",
       "      <th></th>\n",
       "      <th>Recency</th>\n",
       "      <th>Frequency</th>\n",
       "      <th>MonetaryValue</th>\n",
       "      <th>distance_customer_seller</th>\n",
       "      <th>nb_days_before_delivered</th>\n",
       "      <th>nb_days_before_delivered_estimation</th>\n",
       "      <th>review_score</th>\n",
       "    </tr>\n",
       "  </thead>\n",
       "  <tbody>\n",
       "    <tr>\n",
       "      <th>count</th>\n",
       "      <td>90312.000000</td>\n",
       "      <td>90312.000000</td>\n",
       "      <td>90312.000000</td>\n",
       "      <td>90312.000000</td>\n",
       "      <td>90312.000000</td>\n",
       "      <td>90312.000000</td>\n",
       "      <td>90312.000000</td>\n",
       "    </tr>\n",
       "    <tr>\n",
       "      <th>mean</th>\n",
       "      <td>287.113606</td>\n",
       "      <td>1.081827</td>\n",
       "      <td>156.667935</td>\n",
       "      <td>604.216770</td>\n",
       "      <td>11.686510</td>\n",
       "      <td>22.899033</td>\n",
       "      <td>4.132585</td>\n",
       "    </tr>\n",
       "    <tr>\n",
       "      <th>std</th>\n",
       "      <td>152.359937</td>\n",
       "      <td>0.457266</td>\n",
       "      <td>215.956099</td>\n",
       "      <td>599.302053</td>\n",
       "      <td>9.532151</td>\n",
       "      <td>8.726396</td>\n",
       "      <td>1.294934</td>\n",
       "    </tr>\n",
       "    <tr>\n",
       "      <th>min</th>\n",
       "      <td>1.000000</td>\n",
       "      <td>1.000000</td>\n",
       "      <td>1.856818</td>\n",
       "      <td>0.174640</td>\n",
       "      <td>1.000000</td>\n",
       "      <td>1.000000</td>\n",
       "      <td>1.000000</td>\n",
       "    </tr>\n",
       "    <tr>\n",
       "      <th>25%</th>\n",
       "      <td>164.000000</td>\n",
       "      <td>1.000000</td>\n",
       "      <td>60.420000</td>\n",
       "      <td>189.280647</td>\n",
       "      <td>6.000000</td>\n",
       "      <td>18.000000</td>\n",
       "      <td>4.000000</td>\n",
       "    </tr>\n",
       "    <tr>\n",
       "      <th>50%</th>\n",
       "      <td>268.000000</td>\n",
       "      <td>1.000000</td>\n",
       "      <td>103.050000</td>\n",
       "      <td>436.236164</td>\n",
       "      <td>9.000000</td>\n",
       "      <td>22.000000</td>\n",
       "      <td>5.000000</td>\n",
       "    </tr>\n",
       "    <tr>\n",
       "      <th>75%</th>\n",
       "      <td>395.000000</td>\n",
       "      <td>1.000000</td>\n",
       "      <td>173.890000</td>\n",
       "      <td>803.146642</td>\n",
       "      <td>15.000000</td>\n",
       "      <td>28.000000</td>\n",
       "      <td>5.000000</td>\n",
       "    </tr>\n",
       "    <tr>\n",
       "      <th>max</th>\n",
       "      <td>745.000000</td>\n",
       "      <td>33.000000</td>\n",
       "      <td>13664.080000</td>\n",
       "      <td>8731.462170</td>\n",
       "      <td>208.000000</td>\n",
       "      <td>153.000000</td>\n",
       "      <td>5.000000</td>\n",
       "    </tr>\n",
       "  </tbody>\n",
       "</table>\n",
       "</div>"
      ],
      "text/plain": [
       "            Recency     Frequency  MonetaryValue  distance_customer_seller  \\\n",
       "count  90312.000000  90312.000000   90312.000000              90312.000000   \n",
       "mean     287.113606      1.081827     156.667935                604.216770   \n",
       "std      152.359937      0.457266     215.956099                599.302053   \n",
       "min        1.000000      1.000000       1.856818                  0.174640   \n",
       "25%      164.000000      1.000000      60.420000                189.280647   \n",
       "50%      268.000000      1.000000     103.050000                436.236164   \n",
       "75%      395.000000      1.000000     173.890000                803.146642   \n",
       "max      745.000000     33.000000   13664.080000               8731.462170   \n",
       "\n",
       "       nb_days_before_delivered  nb_days_before_delivered_estimation  \\\n",
       "count              90312.000000                         90312.000000   \n",
       "mean                  11.686510                            22.899033   \n",
       "std                    9.532151                             8.726396   \n",
       "min                    1.000000                             1.000000   \n",
       "25%                    6.000000                            18.000000   \n",
       "50%                    9.000000                            22.000000   \n",
       "75%                   15.000000                            28.000000   \n",
       "max                  208.000000                           153.000000   \n",
       "\n",
       "       review_score  \n",
       "count  90312.000000  \n",
       "mean       4.132585  \n",
       "std        1.294934  \n",
       "min        1.000000  \n",
       "25%        4.000000  \n",
       "50%        5.000000  \n",
       "75%        5.000000  \n",
       "max        5.000000  "
      ]
     },
     "execution_count": 65,
     "metadata": {},
     "output_type": "execute_result"
    }
   ],
   "source": [
    "# statistiques descriptives\n",
    "data.describe()"
   ]
  },
  {
   "cell_type": "markdown",
   "id": "b48e9ca1",
   "metadata": {},
   "source": [
    "### Analyses univariées des variables utilisées pour la segmentation"
   ]
  },
  {
   "cell_type": "code",
   "execution_count": 66,
   "id": "6cc8a535",
   "metadata": {},
   "outputs": [
    {
     "data": {
      "image/png": "[encoded data removed]",
      "text/plain": [
       "<Figure size 1500x500 with 2 Axes>"
      ]
     },
     "metadata": {},
     "output_type": "display_data"
    }
   ],
   "source": [
    "fig, axes = plt.subplots(1, 2, figsize=(15, 5))\n",
    "fig.suptitle('Description du nombre de jours entre la commande et la réception (réalité)')\n",
    "\n",
    "sns.histplot(ax=axes[0],x=\"nb_days_before_delivered\", data=data, kde=True)\n",
    "axes[0].set_title(\"Distribution du nombre de jours entre la commande et la réception (réalité)\")\n",
    "\n",
    "sns.boxplot(ax=axes[1], x=\"nb_days_before_delivered\", data=data)\n",
    "axes[1].set_title(\"Boxplot du nombre de jours entre la commande et la réception (réalité)\")\n",
    "\n",
    "plt.show()"
   ]
  },
  {
   "cell_type": "code",
   "execution_count": 67,
   "id": "42a11c13",
   "metadata": {},
   "outputs": [
    {
     "data": {
      "image/png": "[encoded data removed]",
      "text/plain": [
       "<Figure size 1500x500 with 2 Axes>"
      ]
     },
     "metadata": {},
     "output_type": "display_data"
    }
   ],
   "source": [
    "fig, axes = plt.subplots(1, 2, figsize=(15, 5), sharex=True)\n",
    "fig.suptitle('Description du nombre de jours entre la commande et la réception (estimation)')\n",
    "\n",
    "sns.histplot(ax=axes[0],x=\"nb_days_before_delivered_estimation\", data=data, kde=True)\n",
    "axes[0].set_title(\"Distribution du nombre de jours entre la commande et la réception (estimation)\")\n",
    "\n",
    "sns.boxplot(ax=axes[1], x=\"nb_days_before_delivered_estimation\", data=data)\n",
    "axes[1].set_title(\"Boxplot du nombre de jours entre la commande et la réception (estimation)\")\n",
    "\n",
    "plt.show()"
   ]
  },
  {
   "cell_type": "code",
   "execution_count": 68,
   "id": "8e1a0f04",
   "metadata": {},
   "outputs": [
    {
     "data": {
      "image/png": "[encoded data removed]",
      "text/plain": [
       "<Figure size 1500x500 with 2 Axes>"
      ]
     },
     "metadata": {},
     "output_type": "display_data"
    }
   ],
   "source": [
    "fig, axes = plt.subplots(1, 2, figsize=(15, 5), sharex=False)\n",
    "fig.suptitle('Description des avis clients')\n",
    "\n",
    "sns.countplot(ax=axes[0],y=\"review_score\", data=data)\n",
    "axes[0].set_title(\"Distribution des avis clients\")\n",
    "\n",
    "sns.boxplot(ax=axes[1], x=\"review_score\", data=data)\n",
    "axes[1].set_title(\"Boxplot des avis clients\")\n",
    "\n",
    "plt.show()"
   ]
  },
  {
   "cell_type": "code",
   "execution_count": 69,
   "id": "7c962ce5",
   "metadata": {},
   "outputs": [
    {
     "data": {
      "image/png": "[encoded data removed]",
      "text/plain": [
       "<Figure size 1500x500 with 2 Axes>"
      ]
     },
     "metadata": {},
     "output_type": "display_data"
    }
   ],
   "source": [
    "fig, axes = plt.subplots(1, 2, figsize=(15, 5), sharex=True)\n",
    "fig.suptitle('Description de la distance en kilomètres entre clients et vendeurs')\n",
    "\n",
    "sns.histplot(ax=axes[0],x=\"distance_customer_seller\", data=data, kde=True)\n",
    "axes[0].set_title(\"Distribution de la distance en kilomètres entre clients et vendeurs\")\n",
    "\n",
    "sns.boxplot(ax=axes[1], x=\"distance_customer_seller\", data=data)\n",
    "axes[1].set_title(\"Boxplot de la distance en kilomètres entre clients et vendeurs\")\n",
    "\n",
    "plt.show()"
   ]
  },
  {
   "cell_type": "code",
   "execution_count": 70,
   "id": "7d8e8f21",
   "metadata": {},
   "outputs": [],
   "source": [
    "data.drop(\"nb_days_before_delivered_estimation\", axis=1, inplace=True)"
   ]
  },
  {
   "cell_type": "code",
   "execution_count": 71,
   "id": "9e5873b9",
   "metadata": {},
   "outputs": [],
   "source": [
    "data.to_csv(\"datasets/data_clustering_complete.csv\")"
   ]
  },
  {
   "cell_type": "markdown",
   "id": "e707517d",
   "metadata": {},
   "source": [
    "**Ressources :**\n",
    "\n",
    "- Intégration de la plateforme Olist sur le site de Carrefour Brésil: https://www.carrefour.com.br/parceiro/olist"
   ]
  }
 ],
 "metadata": {
  "interpreter": {
   "hash": "db691860837755bfd223dbb19bf59c90fd58faf4b85973e04a456a30cef6b76b"
  },
  "kernelspec": {
   "display_name": "Python 3",
   "language": "python",
   "name": "python3"
  },
  "language_info": {
   "codemirror_mode": {
    "name": "ipython",
    "version": 3
   },
   "file_extension": ".py",
   "mimetype": "text/x-python",
   "name": "python",
   "nbconvert_exporter": "python",
   "pygments_lexer": "ipython3",
   "version": "3.8.11"
  }
 },
 "nbformat": 4,
 "nbformat_minor": 5
}
