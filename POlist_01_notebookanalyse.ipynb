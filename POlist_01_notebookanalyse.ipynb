{
 "cells": [
  {
   "cell_type": "markdown",
   "id": "2b7f4cc8",
   "metadata": {},
   "source": [
    "# Analyse des clients du site d'e-commerce Olist"
   ]
  },
  {
   "cell_type": "code",
   "execution_count": 1,
   "id": "866e0ab3",
   "metadata": {},
   "outputs": [],
   "source": [
    "import warnings\n",
    "warnings.filterwarnings(\"ignore\")\n",
    "\n",
    "import pandas as pd\n",
    "import numpy as np\n",
    "import matplotlib.pyplot as plt\n",
    "import seaborn as sns\n",
    "import gc\n",
    "import datetime\n",
    "import random\n",
    "from function_utils import haversine_vectorize"
   ]
  },
  {
   "cell_type": "code",
   "execution_count": 2,
   "id": "0fd3a0a0",
   "metadata": {},
   "outputs": [],
   "source": [
    "sns.set_palette(\"Pastel2\")"
   ]
  },
  {
   "cell_type": "markdown",
   "id": "815b9dd0",
   "metadata": {},
   "source": [
    "## 1) Création d'une segmentation RFM"
   ]
  },
  {
   "cell_type": "markdown",
   "id": "80409b19",
   "metadata": {},
   "source": [
    "On débute l'analyse de notre base de clients par la création d'une segmentation RFM (Recency, Frequency, MonetaryValue). Ce type de segmentation est utilisé en marketing pour pouvoir découper les clients en segments actionnables et ainsi adapter les stratégies en fonction du type de client. La segmentation RFM se base sur des habitudes de consommations comme la date du dernier achat (Recency), la fréquence d'achat (Frequency) et la valeur moyenne/la somme moyenne dépensée lors d'une commande (MonetaryValue).  "
   ]
  },
  {
   "cell_type": "markdown",
   "id": "5ad92a2d",
   "metadata": {},
   "source": [
    "### Information clients"
   ]
  },
  {
   "cell_type": "markdown",
   "id": "70bd854b",
   "metadata": {},
   "source": [
    "On va commencer par extraire les informations clients pour pouvoir déterminer les premières variables de notre segmentation. "
   ]
  },
  {
   "cell_type": "code",
   "execution_count": 3,
   "id": "3fc81622",
   "metadata": {},
   "outputs": [],
   "source": [
    "df_customers = pd.read_csv(\"datasets/olist_customers_dataset.csv\")\n",
    "df_geo = pd.read_csv(\"datasets/olist_geolocation_dataset.csv\")"
   ]
  },
  {
   "cell_type": "code",
   "execution_count": 4,
   "id": "c27300c5",
   "metadata": {},
   "outputs": [
    {
     "data": {
      "text/html": [
       "<div>\n",
       "<style scoped>\n",
       "    .dataframe tbody tr th:only-of-type {\n",
       "        vertical-align: middle;\n",
       "    }\n",
       "\n",
       "    .dataframe tbody tr th {\n",
       "        vertical-align: top;\n",
       "    }\n",
       "\n",
       "    .dataframe thead th {\n",
       "        text-align: right;\n",
       "    }\n",
       "</style>\n",
       "<table border=\"1\" class=\"dataframe\">\n",
       "  <thead>\n",
       "    <tr style=\"text-align: right;\">\n",
       "      <th></th>\n",
       "      <th>customer_id</th>\n",
       "      <th>customer_unique_id</th>\n",
       "      <th>customer_city</th>\n",
       "      <th>customer_latitude</th>\n",
       "      <th>customer_longitude</th>\n",
       "    </tr>\n",
       "  </thead>\n",
       "  <tbody>\n",
       "    <tr>\n",
       "      <th>0</th>\n",
       "      <td>06b8999e2fba1a1fbc88172c00ba8bc7</td>\n",
       "      <td>861eff4711a542e4b93843c6dd7febb0</td>\n",
       "      <td>franca</td>\n",
       "      <td>-20.509897</td>\n",
       "      <td>-47.397866</td>\n",
       "    </tr>\n",
       "    <tr>\n",
       "      <th>1</th>\n",
       "      <td>06b8999e2fba1a1fbc88172c00ba8bc7</td>\n",
       "      <td>861eff4711a542e4b93843c6dd7febb0</td>\n",
       "      <td>franca</td>\n",
       "      <td>-20.497396</td>\n",
       "      <td>-47.399241</td>\n",
       "    </tr>\n",
       "    <tr>\n",
       "      <th>2</th>\n",
       "      <td>06b8999e2fba1a1fbc88172c00ba8bc7</td>\n",
       "      <td>861eff4711a542e4b93843c6dd7febb0</td>\n",
       "      <td>franca</td>\n",
       "      <td>-20.510459</td>\n",
       "      <td>-47.399553</td>\n",
       "    </tr>\n",
       "    <tr>\n",
       "      <th>3</th>\n",
       "      <td>06b8999e2fba1a1fbc88172c00ba8bc7</td>\n",
       "      <td>861eff4711a542e4b93843c6dd7febb0</td>\n",
       "      <td>franca</td>\n",
       "      <td>-20.480940</td>\n",
       "      <td>-47.394161</td>\n",
       "    </tr>\n",
       "    <tr>\n",
       "      <th>4</th>\n",
       "      <td>06b8999e2fba1a1fbc88172c00ba8bc7</td>\n",
       "      <td>861eff4711a542e4b93843c6dd7febb0</td>\n",
       "      <td>franca</td>\n",
       "      <td>-20.515413</td>\n",
       "      <td>-47.398194</td>\n",
       "    </tr>\n",
       "  </tbody>\n",
       "</table>\n",
       "</div>"
      ],
      "text/plain": [
       "                        customer_id                customer_unique_id  \\\n",
       "0  06b8999e2fba1a1fbc88172c00ba8bc7  861eff4711a542e4b93843c6dd7febb0   \n",
       "1  06b8999e2fba1a1fbc88172c00ba8bc7  861eff4711a542e4b93843c6dd7febb0   \n",
       "2  06b8999e2fba1a1fbc88172c00ba8bc7  861eff4711a542e4b93843c6dd7febb0   \n",
       "3  06b8999e2fba1a1fbc88172c00ba8bc7  861eff4711a542e4b93843c6dd7febb0   \n",
       "4  06b8999e2fba1a1fbc88172c00ba8bc7  861eff4711a542e4b93843c6dd7febb0   \n",
       "\n",
       "  customer_city  customer_latitude  customer_longitude  \n",
       "0        franca         -20.509897          -47.397866  \n",
       "1        franca         -20.497396          -47.399241  \n",
       "2        franca         -20.510459          -47.399553  \n",
       "3        franca         -20.480940          -47.394161  \n",
       "4        franca         -20.515413          -47.398194  "
      ]
     },
     "execution_count": 4,
     "metadata": {},
     "output_type": "execute_result"
    }
   ],
   "source": [
    "# Add geolocation information\n",
    "df_customers = pd.merge(df_geo, df_customers,\n",
    "                        right_on=[\"customer_zip_code_prefix\",\n",
    "                                  \"customer_city\", \"customer_state\"],\n",
    "                        left_on=[\"geolocation_zip_code_prefix\",\n",
    "                                 \"geolocation_city\", \"geolocation_state\"],\n",
    "                        how=\"right\")\n",
    "df_customers.drop([\"geolocation_zip_code_prefix\", \"geolocation_city\",\n",
    "                   \"geolocation_state\"], axis=1, inplace=True)\n",
    "df_customers = df_customers[[\"customer_id\", \"customer_unique_id\",\n",
    "                             \"customer_city\", \"geolocation_lat\",\n",
    "                             \"geolocation_lng\"]]\n",
    "df_customers.columns = [\"customer_id\", \"customer_unique_id\",\n",
    "                        \"customer_city\", \"customer_latitude\",\n",
    "                        \"customer_longitude\"]\n",
    "df_customers.head()"
   ]
  },
  {
   "cell_type": "code",
   "execution_count": 5,
   "id": "7bcd5eab",
   "metadata": {},
   "outputs": [],
   "source": [
    "df_customers.drop_duplicates(subset=\"customer_unique_id\", \n",
    "                             inplace=True)"
   ]
  },
  {
   "cell_type": "code",
   "execution_count": 6,
   "id": "0df80cd7",
   "metadata": {},
   "outputs": [
    {
     "name": "stdout",
     "output_type": "stream",
     "text": [
      "Nombre d'id unique: 96096\n"
     ]
    }
   ],
   "source": [
    "print(\"Nombre d'id unique:\", df_customers[\"customer_unique_id\"].nunique())"
   ]
  },
  {
   "cell_type": "code",
   "execution_count": 7,
   "id": "3d2a334a",
   "metadata": {},
   "outputs": [
    {
     "name": "stdout",
     "output_type": "stream",
     "text": [
      "Nombre d'id clients: 96096\n"
     ]
    }
   ],
   "source": [
    "print(\"Nombre d'id clients:\", df_customers[\"customer_id\"].nunique())"
   ]
  },
  {
   "cell_type": "markdown",
   "id": "a7530c8d",
   "metadata": {},
   "source": [
    "### Information sur les commandes"
   ]
  },
  {
   "cell_type": "markdown",
   "id": "d07468ca",
   "metadata": {},
   "source": [
    "On va ensuite s'intéresser aux informations des commandes pour calculer"
   ]
  },
  {
   "cell_type": "code",
   "execution_count": 8,
   "id": "368aa53d",
   "metadata": {},
   "outputs": [],
   "source": [
    "df_orders = pd.read_csv(\"datasets/olist_orders_dataset.csv\")"
   ]
  },
  {
   "cell_type": "code",
   "execution_count": 9,
   "id": "b8fa3e50",
   "metadata": {},
   "outputs": [],
   "source": [
    "# Association between customers and orders\n",
    "# In order to calculate Frequency and Recency\n",
    "df = pd.merge(df_customers,\n",
    "              df_orders,\n",
    "              left_on=\"customer_id\",\n",
    "              right_on=\"customer_id\",\n",
    "              how=\"right\")\n",
    "df.drop_duplicates(subset=\"customer_id\",\n",
    "                   inplace=True)"
   ]
  },
  {
   "cell_type": "code",
   "execution_count": 10,
   "id": "b2aef422",
   "metadata": {},
   "outputs": [],
   "source": [
    "df_orders_payments = pd.read_csv(\"datasets/olist_order_payments_dataset.csv\")"
   ]
  },
  {
   "cell_type": "code",
   "execution_count": 11,
   "id": "e3ae77fd",
   "metadata": {},
   "outputs": [],
   "source": [
    "# Association between customers, orders and orders payments\n",
    "# In order to calculate MonetaryValue\n",
    "df = pd.merge(df, df_orders_payments, left_on=\"order_id\",\n",
    "              right_on=\"order_id\", how=\"right\")"
   ]
  },
  {
   "cell_type": "code",
   "execution_count": 12,
   "id": "e3fd4766",
   "metadata": {},
   "outputs": [],
   "source": [
    "# Transformation timestamps into datetime\n",
    "time = [\"order_purchase_timestamp\", \"order_approved_at\",\n",
    "        \"order_delivered_carrier_date\", \"order_delivered_customer_date\",\n",
    "        \"order_estimated_delivery_date\"]\n",
    "\n",
    "for cols in time:\n",
    "    df[cols] = pd.to_datetime(df[cols],\n",
    "                              format=\"%Y-%m-%d\", errors=\"ignore\")"
   ]
  },
  {
   "cell_type": "code",
   "execution_count": 13,
   "id": "cea3cd37",
   "metadata": {},
   "outputs": [],
   "source": [
    "snapshot_date = max(df.order_purchase_timestamp) + datetime.timedelta(days=1)"
   ]
  },
  {
   "cell_type": "code",
   "execution_count": 14,
   "id": "9e25a655",
   "metadata": {},
   "outputs": [],
   "source": [
    "# Creation of RFM segmentation\n",
    "rfm_custom = df.groupby(\"customer_unique_id\").agg({\n",
    "    \"order_purchase_timestamp\" : lambda x: (snapshot_date - x.max()).days,\n",
    "    \"order_id\" : 'count',\n",
    "    \"payment_value\" : \"mean\"\n",
    "})\n",
    "rfm_custom.columns = [\"Recency\", \"Frequency\", \"MonetaryValue\"]\n",
    "data = rfm_custom.copy().reset_index()"
   ]
  },
  {
   "cell_type": "code",
   "execution_count": 15,
   "id": "dd0c963f",
   "metadata": {},
   "outputs": [],
   "source": [
    "# Calculation of scores with the help of quartiles\n",
    "# Except for the frequency\n",
    "data['r_quartile'] = pd.qcut(data['Recency'], 4, ['1', '2', '3', '4'])\n",
    "data['f_bins'] = pd.cut(data['Frequency'], 2, labels=['2', '1'])\n",
    "data['m_quartile'] = pd.qcut(data['MonetaryValue'], 4, ['4', '3', '2', '1'])"
   ]
  },
  {
   "cell_type": "code",
   "execution_count": 16,
   "id": "4e8d8cfc",
   "metadata": {},
   "outputs": [
    {
     "data": {
      "text/html": [
       "<div>\n",
       "<style scoped>\n",
       "    .dataframe tbody tr th:only-of-type {\n",
       "        vertical-align: middle;\n",
       "    }\n",
       "\n",
       "    .dataframe tbody tr th {\n",
       "        vertical-align: top;\n",
       "    }\n",
       "\n",
       "    .dataframe thead th {\n",
       "        text-align: right;\n",
       "    }\n",
       "</style>\n",
       "<table border=\"1\" class=\"dataframe\">\n",
       "  <thead>\n",
       "    <tr style=\"text-align: right;\">\n",
       "      <th></th>\n",
       "      <th>customer_unique_id</th>\n",
       "      <th>Recency</th>\n",
       "      <th>Frequency</th>\n",
       "      <th>MonetaryValue</th>\n",
       "      <th>r_quartile</th>\n",
       "      <th>f_bins</th>\n",
       "      <th>m_quartile</th>\n",
       "      <th>RFM_Score</th>\n",
       "    </tr>\n",
       "  </thead>\n",
       "  <tbody>\n",
       "    <tr>\n",
       "      <th>42174</th>\n",
       "      <td>7020078859b9015b76e7469322c2c415</td>\n",
       "      <td>77</td>\n",
       "      <td>1</td>\n",
       "      <td>190.40</td>\n",
       "      <td>1</td>\n",
       "      <td>2</td>\n",
       "      <td>1</td>\n",
       "      <td>121</td>\n",
       "    </tr>\n",
       "    <tr>\n",
       "      <th>46944</th>\n",
       "      <td>7cc8c55781241cb0699be8b935e8e5a2</td>\n",
       "      <td>141</td>\n",
       "      <td>1</td>\n",
       "      <td>357.90</td>\n",
       "      <td>1</td>\n",
       "      <td>2</td>\n",
       "      <td>1</td>\n",
       "      <td>121</td>\n",
       "    </tr>\n",
       "    <tr>\n",
       "      <th>88914</th>\n",
       "      <td>eca9d15ebd1b37acb67bd1c3e3ca5b2c</td>\n",
       "      <td>78</td>\n",
       "      <td>1</td>\n",
       "      <td>405.03</td>\n",
       "      <td>1</td>\n",
       "      <td>2</td>\n",
       "      <td>1</td>\n",
       "      <td>121</td>\n",
       "    </tr>\n",
       "    <tr>\n",
       "      <th>9164</th>\n",
       "      <td>18360e41b00709cc7b2c6f391eff829e</td>\n",
       "      <td>121</td>\n",
       "      <td>1</td>\n",
       "      <td>1839.05</td>\n",
       "      <td>1</td>\n",
       "      <td>2</td>\n",
       "      <td>1</td>\n",
       "      <td>121</td>\n",
       "    </tr>\n",
       "    <tr>\n",
       "      <th>46965</th>\n",
       "      <td>7cd747a15b6eb374e2706259c27e96a8</td>\n",
       "      <td>158</td>\n",
       "      <td>1</td>\n",
       "      <td>309.57</td>\n",
       "      <td>1</td>\n",
       "      <td>2</td>\n",
       "      <td>1</td>\n",
       "      <td>121</td>\n",
       "    </tr>\n",
       "    <tr>\n",
       "      <th>...</th>\n",
       "      <td>...</td>\n",
       "      <td>...</td>\n",
       "      <td>...</td>\n",
       "      <td>...</td>\n",
       "      <td>...</td>\n",
       "      <td>...</td>\n",
       "      <td>...</td>\n",
       "      <td>...</td>\n",
       "    </tr>\n",
       "    <tr>\n",
       "      <th>53217</th>\n",
       "      <td>8df1329b564044430fe684b6632f0c8a</td>\n",
       "      <td>595</td>\n",
       "      <td>1</td>\n",
       "      <td>58.46</td>\n",
       "      <td>4</td>\n",
       "      <td>2</td>\n",
       "      <td>4</td>\n",
       "      <td>424</td>\n",
       "    </tr>\n",
       "    <tr>\n",
       "      <th>53216</th>\n",
       "      <td>8df10be00a35becbb4993496f949d948</td>\n",
       "      <td>589</td>\n",
       "      <td>1</td>\n",
       "      <td>45.64</td>\n",
       "      <td>4</td>\n",
       "      <td>2</td>\n",
       "      <td>4</td>\n",
       "      <td>424</td>\n",
       "    </tr>\n",
       "    <tr>\n",
       "      <th>91541</th>\n",
       "      <td>f3cb4bf78563e8f29fb8df63f3ae2748</td>\n",
       "      <td>473</td>\n",
       "      <td>1</td>\n",
       "      <td>51.14</td>\n",
       "      <td>4</td>\n",
       "      <td>2</td>\n",
       "      <td>4</td>\n",
       "      <td>424</td>\n",
       "    </tr>\n",
       "    <tr>\n",
       "      <th>53276</th>\n",
       "      <td>8e1c8e08724097b43730e4344f3200db</td>\n",
       "      <td>472</td>\n",
       "      <td>1</td>\n",
       "      <td>45.61</td>\n",
       "      <td>4</td>\n",
       "      <td>2</td>\n",
       "      <td>4</td>\n",
       "      <td>424</td>\n",
       "    </tr>\n",
       "    <tr>\n",
       "      <th>36449</th>\n",
       "      <td>60ae910f58006f096b4d848e5df0b6f1</td>\n",
       "      <td>555</td>\n",
       "      <td>1</td>\n",
       "      <td>56.29</td>\n",
       "      <td>4</td>\n",
       "      <td>2</td>\n",
       "      <td>4</td>\n",
       "      <td>424</td>\n",
       "    </tr>\n",
       "  </tbody>\n",
       "</table>\n",
       "<p>96095 rows × 8 columns</p>\n",
       "</div>"
      ],
      "text/plain": [
       "                     customer_unique_id  Recency  Frequency  MonetaryValue  \\\n",
       "42174  7020078859b9015b76e7469322c2c415       77          1         190.40   \n",
       "46944  7cc8c55781241cb0699be8b935e8e5a2      141          1         357.90   \n",
       "88914  eca9d15ebd1b37acb67bd1c3e3ca5b2c       78          1         405.03   \n",
       "9164   18360e41b00709cc7b2c6f391eff829e      121          1        1839.05   \n",
       "46965  7cd747a15b6eb374e2706259c27e96a8      158          1         309.57   \n",
       "...                                 ...      ...        ...            ...   \n",
       "53217  8df1329b564044430fe684b6632f0c8a      595          1          58.46   \n",
       "53216  8df10be00a35becbb4993496f949d948      589          1          45.64   \n",
       "91541  f3cb4bf78563e8f29fb8df63f3ae2748      473          1          51.14   \n",
       "53276  8e1c8e08724097b43730e4344f3200db      472          1          45.61   \n",
       "36449  60ae910f58006f096b4d848e5df0b6f1      555          1          56.29   \n",
       "\n",
       "      r_quartile f_bins m_quartile RFM_Score  \n",
       "42174          1      2          1       121  \n",
       "46944          1      2          1       121  \n",
       "88914          1      2          1       121  \n",
       "9164           1      2          1       121  \n",
       "46965          1      2          1       121  \n",
       "...          ...    ...        ...       ...  \n",
       "53217          4      2          4       424  \n",
       "53216          4      2          4       424  \n",
       "91541          4      2          4       424  \n",
       "53276          4      2          4       424  \n",
       "36449          4      2          4       424  \n",
       "\n",
       "[96095 rows x 8 columns]"
      ]
     },
     "execution_count": 16,
     "metadata": {},
     "output_type": "execute_result"
    }
   ],
   "source": [
    "# Creation of RFM Score with the concatenation of\n",
    "# R, F & M quartile/bins\n",
    "data['RFM_Score'] = data[\"r_quartile\"].astype(str) \\\n",
    "                    + data[\"f_bins\"].astype(str) \\\n",
    "                    + data[\"m_quartile\"].astype(str)\n",
    "data.sort_values(\"RFM_Score\", ascending=True)"
   ]
  },
  {
   "cell_type": "markdown",
   "id": "a087f220",
   "metadata": {},
   "source": [
    "On remarque que la fréquence d'achat est le plus souvent de 1. Le choix a donc été fait de faire une binarisation de cette donnée en 1 (un achat) et 2 (plus d'un achat). Ce problème sur la fréquence d'achat va se répercuter sur la récence. Enfin, pour le montant dépensé, les calculs ont pu être fait classiquement. La séparation a été réalisée sur la base des quartiles. "
   ]
  },
  {
   "cell_type": "markdown",
   "id": "4ec5973f",
   "metadata": {},
   "source": [
    "Une fois la discrétisation des variables R, F et M réalisée, on crée un score qui correspond à la concaténation de ces trois indices. Ainsi, on obtient une segmentation RFM composée de 32 segments (4 x 2 x 4)."
   ]
  },
  {
   "cell_type": "markdown",
   "id": "2dfa98fa",
   "metadata": {},
   "source": [
    "### Analyse de la segmentation RFM"
   ]
  },
  {
   "cell_type": "code",
   "execution_count": 17,
   "id": "313625ea",
   "metadata": {},
   "outputs": [
    {
     "data": {
      "text/html": [
       "<div>\n",
       "<style scoped>\n",
       "    .dataframe tbody tr th:only-of-type {\n",
       "        vertical-align: middle;\n",
       "    }\n",
       "\n",
       "    .dataframe tbody tr th {\n",
       "        vertical-align: top;\n",
       "    }\n",
       "\n",
       "    .dataframe thead th {\n",
       "        text-align: right;\n",
       "    }\n",
       "</style>\n",
       "<table border=\"1\" class=\"dataframe\">\n",
       "  <thead>\n",
       "    <tr style=\"text-align: right;\">\n",
       "      <th></th>\n",
       "      <th>Recency</th>\n",
       "      <th>Frequency</th>\n",
       "      <th>MonetaryValue</th>\n",
       "    </tr>\n",
       "  </thead>\n",
       "  <tbody>\n",
       "    <tr>\n",
       "      <th>count</th>\n",
       "      <td>96095.000000</td>\n",
       "      <td>96095.000000</td>\n",
       "      <td>96095.000000</td>\n",
       "    </tr>\n",
       "    <tr>\n",
       "      <th>mean</th>\n",
       "      <td>290.107727</td>\n",
       "      <td>1.044342</td>\n",
       "      <td>158.636702</td>\n",
       "    </tr>\n",
       "    <tr>\n",
       "      <th>std</th>\n",
       "      <td>153.607874</td>\n",
       "      <td>0.380658</td>\n",
       "      <td>220.154652</td>\n",
       "    </tr>\n",
       "    <tr>\n",
       "      <th>min</th>\n",
       "      <td>1.000000</td>\n",
       "      <td>1.000000</td>\n",
       "      <td>0.000000</td>\n",
       "    </tr>\n",
       "    <tr>\n",
       "      <th>25%</th>\n",
       "      <td>166.000000</td>\n",
       "      <td>1.000000</td>\n",
       "      <td>60.235000</td>\n",
       "    </tr>\n",
       "    <tr>\n",
       "      <th>50%</th>\n",
       "      <td>271.000000</td>\n",
       "      <td>1.000000</td>\n",
       "      <td>103.420000</td>\n",
       "    </tr>\n",
       "    <tr>\n",
       "      <th>75%</th>\n",
       "      <td>400.000000</td>\n",
       "      <td>1.000000</td>\n",
       "      <td>175.080000</td>\n",
       "    </tr>\n",
       "    <tr>\n",
       "      <th>max</th>\n",
       "      <td>773.000000</td>\n",
       "      <td>29.000000</td>\n",
       "      <td>13664.080000</td>\n",
       "    </tr>\n",
       "  </tbody>\n",
       "</table>\n",
       "</div>"
      ],
      "text/plain": [
       "            Recency     Frequency  MonetaryValue\n",
       "count  96095.000000  96095.000000   96095.000000\n",
       "mean     290.107727      1.044342     158.636702\n",
       "std      153.607874      0.380658     220.154652\n",
       "min        1.000000      1.000000       0.000000\n",
       "25%      166.000000      1.000000      60.235000\n",
       "50%      271.000000      1.000000     103.420000\n",
       "75%      400.000000      1.000000     175.080000\n",
       "max      773.000000     29.000000   13664.080000"
      ]
     },
     "execution_count": 17,
     "metadata": {},
     "output_type": "execute_result"
    }
   ],
   "source": [
    "# Describe statistics\n",
    "data.describe()"
   ]
  },
  {
   "cell_type": "code",
   "execution_count": 18,
   "id": "731f26c1",
   "metadata": {},
   "outputs": [
    {
     "data": {
      "image/png": "[encoded data removed]",
      "text/plain": [
       "<Figure size 1080x360 with 2 Axes>"
      ]
     },
     "metadata": {
      "needs_background": "light"
     },
     "output_type": "display_data"
    }
   ],
   "source": [
    "fig, axes = plt.subplots(1, 2, figsize=(15, 5), sharex=True)\n",
    "fig.suptitle('Description des montants dépensés par les clients')\n",
    "\n",
    "sns.histplot(ax=axes[0], x=\"MonetaryValue\", data=data, kde=True)\n",
    "axes[0].set_title(\"Distribution des montants dépensés\")\n",
    "\n",
    "sns.boxplot(ax=axes[1], x=\"MonetaryValue\", data=data)\n",
    "axes[1].set_title(\"Boxplot des montants dépensés\")\n",
    "\n",
    "plt.show()"
   ]
  },
  {
   "cell_type": "code",
   "execution_count": 19,
   "id": "70109938",
   "metadata": {},
   "outputs": [
    {
     "data": {
      "image/png": "[encoded data removed]",
      "text/plain": [
       "<Figure size 1080x360 with 2 Axes>"
      ]
     },
     "metadata": {
      "needs_background": "light"
     },
     "output_type": "display_data"
    }
   ],
   "source": [
    "fig, axes = plt.subplots(1, 2, figsize=(15, 5), sharex=True)\n",
    "fig.suptitle('Description des jours passés depuis la dernière commande')\n",
    "\n",
    "sns.histplot(ax=axes[0], x=\"Recency\", data=data, kde=True)\n",
    "axes[0].set_title(\"Distribution des jours passés depuis la dernière commande\")\n",
    "\n",
    "sns.boxplot(ax=axes[1], x=\"Recency\", data=data)\n",
    "axes[1].set_title(\"Boxplot des jours passés depuis la dernière commande\")\n",
    "\n",
    "plt.show()"
   ]
  },
  {
   "cell_type": "code",
   "execution_count": 20,
   "id": "32d42ae3",
   "metadata": {},
   "outputs": [
    {
     "data": {
      "image/png": "[encoded data removed]",
      "text/plain": [
       "<Figure size 432x288 with 1 Axes>"
      ]
     },
     "metadata": {
      "needs_background": "light"
     },
     "output_type": "display_data"
    }
   ],
   "source": [
    "sns.countplot(y=\"Frequency\", data=data)\n",
    "plt.ylim(23)\n",
    "plt.title(\"Répartition de la fréquence d'achat\")\n",
    "\n",
    "plt.show()"
   ]
  },
  {
   "cell_type": "markdown",
   "id": "58888387",
   "metadata": {},
   "source": [
    "## Conclusion"
   ]
  },
  {
   "cell_type": "markdown",
   "id": "2f911714",
   "metadata": {},
   "source": [
    "La fréquence et la récence ne semblent pas être très discriminants. En effet, la plupart des clients réalise un seul achat. De même, il est difficile de savoir s'ils reviennent régulièrement acheter donc la récence est très variable. Les sommes dépensées atteignent un maximum de 14.000 Réaux. \n",
    "\n",
    "En inspectant le fonctionnement du site, il s'avère que l'on peut commander sans avoir besoin de créer un compte. On ne peut donc pas savoir si une personne commande plusieurs fois et obtenir les informations nécessaires. Il pourrait être intéressant d'instaurer un système de compte pour obtenir des informations plus stables sur la récence et la fréquence. A défaut, un système de cookies pouvant \"tracker\" (tout en respectant les législations en vigueur) peut être une solution permettant de remédier à ce problème. "
   ]
  },
  {
   "cell_type": "code",
   "execution_count": 21,
   "id": "effe6fd8",
   "metadata": {},
   "outputs": [],
   "source": [
    "del df_orders_payments\n",
    "del rfm_custom"
   ]
  },
  {
   "cell_type": "code",
   "execution_count": 22,
   "id": "1c1eafe1",
   "metadata": {},
   "outputs": [
    {
     "data": {
      "text/plain": [
       "169331"
      ]
     },
     "execution_count": 22,
     "metadata": {},
     "output_type": "execute_result"
    }
   ],
   "source": [
    "gc.collect()"
   ]
  },
  {
   "cell_type": "code",
   "execution_count": 23,
   "id": "f17c0833",
   "metadata": {},
   "outputs": [],
   "source": [
    "data.set_index(\"customer_unique_id\", inplace=True)"
   ]
  },
  {
   "cell_type": "code",
   "execution_count": 24,
   "id": "67fc76c0",
   "metadata": {},
   "outputs": [],
   "source": [
    "data.to_csv(\"datasets/data_segmentation_rfm.csv\")"
   ]
  },
  {
   "cell_type": "markdown",
   "id": "c41f05c0",
   "metadata": {},
   "source": [
    "## 2) Ajout de variables supplémentaires"
   ]
  },
  {
   "cell_type": "markdown",
   "id": "b2562332",
   "metadata": {},
   "source": [
    "On va créer de nouvelles variables que l'on va ajouter pour pouvoir obtenir une segmentation plus fine. Parmi ces variables, on va ajouter le nombre de jours entre la commande (order_approved_at) et la réception de cette dernière, la distance entre le client et le vendeur, l'avis du client et la catégorie de produits commandée. "
   ]
  },
  {
   "cell_type": "code",
   "execution_count": 25,
   "id": "ceb5dc25",
   "metadata": {},
   "outputs": [],
   "source": [
    "data.reset_index(inplace=True)"
   ]
  },
  {
   "cell_type": "markdown",
   "id": "26d32696",
   "metadata": {},
   "source": [
    "### Calcul des distances entre vendeurs et acheteurs"
   ]
  },
  {
   "cell_type": "code",
   "execution_count": 26,
   "id": "1d8f3791",
   "metadata": {},
   "outputs": [],
   "source": [
    "df_sellers = pd.read_csv(\"datasets/olist_sellers_dataset.csv\")"
   ]
  },
  {
   "cell_type": "code",
   "execution_count": 27,
   "id": "e9a4b6c6",
   "metadata": {},
   "outputs": [],
   "source": [
    "df_sellers = pd.merge(df_geo, df_sellers,\n",
    "                        right_on=[\"seller_zip_code_prefix\",\n",
    "                                  \"seller_city\",\n",
    "                                  \"seller_state\"],\n",
    "                        left_on=[\"geolocation_zip_code_prefix\",\n",
    "                                 \"geolocation_city\",\n",
    "                                 \"geolocation_state\"],\n",
    "                        how=\"right\")\n",
    "df_sellers.drop([\"geolocation_zip_code_prefix\",\n",
    "                 \"geolocation_city\",\n",
    "                 \"geolocation_state\"], axis=1, inplace=True)\n",
    "df_sellers = df_sellers[['seller_id',\n",
    "                         \"geolocation_lat\",\n",
    "                         \"geolocation_lng\"]]\n",
    "df_sellers.columns = [\"seller_id\",\n",
    "                      \"seller_latitude\",\n",
    "                      \"seller_longitude\"]"
   ]
  },
  {
   "cell_type": "code",
   "execution_count": 28,
   "id": "99ced25c",
   "metadata": {},
   "outputs": [],
   "source": [
    "df_sellers.drop_duplicates(subset=\"seller_id\", inplace=True)"
   ]
  },
  {
   "cell_type": "code",
   "execution_count": 29,
   "id": "a59314e1",
   "metadata": {},
   "outputs": [],
   "source": [
    "df_items = pd.read_csv(\"datasets/olist_order_items_dataset.csv\")"
   ]
  },
  {
   "cell_type": "code",
   "execution_count": 30,
   "id": "87fe8794",
   "metadata": {},
   "outputs": [],
   "source": [
    "df_items = pd.merge(df_orders, df_items, on=\"order_id\", how=\"left\")"
   ]
  },
  {
   "cell_type": "code",
   "execution_count": 31,
   "id": "00c03684",
   "metadata": {},
   "outputs": [],
   "source": [
    "df_items = pd.merge(df_items, df_customers, on=\"customer_id\", how=\"left\")"
   ]
  },
  {
   "cell_type": "code",
   "execution_count": 32,
   "id": "d1544abe",
   "metadata": {},
   "outputs": [],
   "source": [
    "df_items = pd.merge(df_sellers, df_items, on=\"seller_id\", how=\"left\")"
   ]
  },
  {
   "cell_type": "code",
   "execution_count": 33,
   "id": "d8cf3c1f",
   "metadata": {},
   "outputs": [],
   "source": [
    "df_items.dropna(subset=[\"customer_city\"], inplace=True)"
   ]
  },
  {
   "cell_type": "code",
   "execution_count": 34,
   "id": "e8bcf6e6",
   "metadata": {},
   "outputs": [],
   "source": [
    "df_items[\"distance_customer_seller\"] = haversine_vectorize(\n",
    "    df_items[\"customer_longitude\"],\n",
    "    df_items[\"customer_latitude\"],\n",
    "    df_items[\"seller_longitude\"],\n",
    "    df_items[\"seller_latitude\"])"
   ]
  },
  {
   "cell_type": "code",
   "execution_count": 35,
   "id": "7dca043a",
   "metadata": {},
   "outputs": [],
   "source": [
    "df_items = df_items[[\"customer_unique_id\",\n",
    "                     \"product_id\",\n",
    "                     \"distance_customer_seller\"]]\n",
    "data = pd.merge(data, df_items,\n",
    "                on=\"customer_unique_id\",\n",
    "                how=\"left\")"
   ]
  },
  {
   "cell_type": "markdown",
   "id": "3c443dea",
   "metadata": {},
   "source": [
    "### Informations sur le type de produits commandés"
   ]
  },
  {
   "cell_type": "code",
   "execution_count": 36,
   "id": "cfdadc0f",
   "metadata": {},
   "outputs": [],
   "source": [
    "df_products = pd.read_csv(\"datasets/olist_products_dataset.csv\")\n",
    "df_translation = pd.read_csv(\"datasets/product_category_name_translation.csv\")\n",
    "df_products = pd.merge(df_products,\n",
    "                       df_translation,\n",
    "                       on=\"product_category_name\")\n",
    "df_products = df_products[[\"product_id\",\n",
    "                           \"product_category_name_english\"]]\n",
    "df_products.rename(columns={\"product_category_name_english\" : \"product_category_name\"}, \n",
    "                   inplace=True)"
   ]
  },
  {
   "cell_type": "code",
   "execution_count": 37,
   "id": "357bad9f",
   "metadata": {},
   "outputs": [],
   "source": [
    "data = pd.merge(data, df_products, on=\"product_id\", how=\"left\")\n",
    "data.drop(\"product_id\", axis=1, inplace=True)"
   ]
  },
  {
   "cell_type": "markdown",
   "id": "4bfcf659",
   "metadata": {},
   "source": [
    "### Informations sur les avis clients"
   ]
  },
  {
   "cell_type": "code",
   "execution_count": 38,
   "id": "2ec735b6",
   "metadata": {},
   "outputs": [],
   "source": [
    "df_reviews = pd.read_csv(\"datasets/olist_order_reviews_dataset.csv\")"
   ]
  },
  {
   "cell_type": "code",
   "execution_count": 39,
   "id": "32f5a951",
   "metadata": {},
   "outputs": [],
   "source": [
    "df_reviews.drop([\"review_id\", \"review_creation_date\",\n",
    "                 \"review_answer_timestamp\"],\n",
    "                axis=1,\n",
    "                inplace=True)"
   ]
  },
  {
   "cell_type": "code",
   "execution_count": 40,
   "id": "12f68288",
   "metadata": {},
   "outputs": [],
   "source": [
    "df_reviews[\"review_score\"] = df_reviews[\"review_score\"].astype(\"int32\")"
   ]
  },
  {
   "cell_type": "code",
   "execution_count": 41,
   "id": "53a2215a",
   "metadata": {},
   "outputs": [],
   "source": [
    "df_orders = pd.read_csv(\"datasets/olist_orders_dataset.csv\")"
   ]
  },
  {
   "cell_type": "code",
   "execution_count": 42,
   "id": "6625c67b",
   "metadata": {},
   "outputs": [],
   "source": [
    "df_orders.drop([\"order_purchase_timestamp\",\n",
    "                \"order_delivered_carrier_date\"], axis=1, inplace=True)\n",
    "cols_time = [\"order_approved_at\",\n",
    "             \"order_delivered_customer_date\",\n",
    "             \"order_estimated_delivery_date\"]\n",
    "\n",
    "for cols in cols_time:\n",
    "    df_orders[cols] = pd.to_datetime(df_orders[cols],\n",
    "                                     format=\"%Y-%m-%d\",\n",
    "                                     errors=\"ignore\")"
   ]
  },
  {
   "cell_type": "code",
   "execution_count": 43,
   "id": "e23c8327",
   "metadata": {},
   "outputs": [
    {
     "name": "stdout",
     "output_type": "stream",
     "text": [
      "<class 'pandas.core.frame.DataFrame'>\n",
      "RangeIndex: 99441 entries, 0 to 99440\n",
      "Data columns (total 6 columns):\n",
      " #   Column                         Non-Null Count  Dtype         \n",
      "---  ------                         --------------  -----         \n",
      " 0   order_id                       99441 non-null  object        \n",
      " 1   customer_id                    99441 non-null  object        \n",
      " 2   order_status                   99441 non-null  object        \n",
      " 3   order_approved_at              99281 non-null  datetime64[ns]\n",
      " 4   order_delivered_customer_date  96476 non-null  datetime64[ns]\n",
      " 5   order_estimated_delivery_date  99441 non-null  datetime64[ns]\n",
      "dtypes: datetime64[ns](3), object(3)\n",
      "memory usage: 4.6+ MB\n"
     ]
    }
   ],
   "source": [
    "df_orders.info()"
   ]
  },
  {
   "cell_type": "markdown",
   "id": "46d7a525",
   "metadata": {},
   "source": [
    "### Calcul entre du nombre de jours entre la commande et la réception réel et estimé"
   ]
  },
  {
   "cell_type": "code",
   "execution_count": 44,
   "id": "3ad4839e",
   "metadata": {},
   "outputs": [],
   "source": [
    "df_orders[\"nb_days_before_delivered\"] = df_orders[\"order_delivered_customer_date\"] \\\n",
    "                                        - df_orders[\"order_approved_at\"]\n",
    "df_orders[\"nb_days_before_delivered_estimation\"] = df_orders[\"order_estimated_delivery_date\"] \\\n",
    "                                                   - df_orders[\"order_approved_at\"]\n",
    "\n",
    "cols_var = [\"nb_days_before_delivered\",\n",
    "            \"nb_days_before_delivered_estimation\"]\n",
    "\n",
    "for cols in cols_var:\n",
    "    df_orders[cols] = df_orders[cols].dt.days\n",
    "\n",
    "df_orders.drop([\"order_approved_at\",\n",
    "                \"order_delivered_customer_date\",\n",
    "                \"order_estimated_delivery_date\"], axis=1, inplace=True)"
   ]
  },
  {
   "cell_type": "markdown",
   "id": "1427ff33",
   "metadata": {},
   "source": [
    "### Assemblage des différentes variables pour obtenir un dataset unique"
   ]
  },
  {
   "cell_type": "code",
   "execution_count": 45,
   "id": "3aca5048",
   "metadata": {},
   "outputs": [],
   "source": [
    "df_customers_orders = pd.merge(df_customers,\n",
    "                               df_orders,\n",
    "                               on=\"customer_id\",\n",
    "                               how=\"left\")"
   ]
  },
  {
   "cell_type": "code",
   "execution_count": 46,
   "id": "e7b7aa61",
   "metadata": {},
   "outputs": [],
   "source": [
    "df_customers_orders = pd.merge(df_customers_orders,\n",
    "                               df_reviews,\n",
    "                               on=\"order_id\",\n",
    "                               how=\"left\")"
   ]
  },
  {
   "cell_type": "code",
   "execution_count": 47,
   "id": "5119816e",
   "metadata": {},
   "outputs": [],
   "source": [
    "df_customers_orders.drop([\"order_id\"], axis=1, inplace=True)"
   ]
  },
  {
   "cell_type": "code",
   "execution_count": 48,
   "id": "9d4649d2",
   "metadata": {},
   "outputs": [
    {
     "data": {
      "text/html": [
       "<div>\n",
       "<style scoped>\n",
       "    .dataframe tbody tr th:only-of-type {\n",
       "        vertical-align: middle;\n",
       "    }\n",
       "\n",
       "    .dataframe tbody tr th {\n",
       "        vertical-align: top;\n",
       "    }\n",
       "\n",
       "    .dataframe thead th {\n",
       "        text-align: right;\n",
       "    }\n",
       "</style>\n",
       "<table border=\"1\" class=\"dataframe\">\n",
       "  <thead>\n",
       "    <tr style=\"text-align: right;\">\n",
       "      <th></th>\n",
       "      <th>customer_id</th>\n",
       "      <th>customer_unique_id</th>\n",
       "      <th>customer_city</th>\n",
       "      <th>customer_latitude</th>\n",
       "      <th>customer_longitude</th>\n",
       "      <th>order_status</th>\n",
       "      <th>nb_days_before_delivered</th>\n",
       "      <th>nb_days_before_delivered_estimation</th>\n",
       "      <th>review_score</th>\n",
       "      <th>review_comment_title</th>\n",
       "      <th>review_comment_message</th>\n",
       "    </tr>\n",
       "  </thead>\n",
       "  <tbody>\n",
       "    <tr>\n",
       "      <th>0</th>\n",
       "      <td>06b8999e2fba1a1fbc88172c00ba8bc7</td>\n",
       "      <td>861eff4711a542e4b93843c6dd7febb0</td>\n",
       "      <td>franca</td>\n",
       "      <td>-20.509897</td>\n",
       "      <td>-47.397866</td>\n",
       "      <td>delivered</td>\n",
       "      <td>8.0</td>\n",
       "      <td>19.0</td>\n",
       "      <td>4</td>\n",
       "      <td>NaN</td>\n",
       "      <td>NaN</td>\n",
       "    </tr>\n",
       "    <tr>\n",
       "      <th>1</th>\n",
       "      <td>18955e83d337fd6b2def6b18a428ac77</td>\n",
       "      <td>290c77bc529b7ac935b93aa66c333dc3</td>\n",
       "      <td>sao bernardo do campo</td>\n",
       "      <td>-23.726853</td>\n",
       "      <td>-46.545746</td>\n",
       "      <td>delivered</td>\n",
       "      <td>16.0</td>\n",
       "      <td>24.0</td>\n",
       "      <td>5</td>\n",
       "      <td>NaN</td>\n",
       "      <td>NaN</td>\n",
       "    </tr>\n",
       "    <tr>\n",
       "      <th>2</th>\n",
       "      <td>4e7b3e00288586ebd08712fdd0374a03</td>\n",
       "      <td>060e732b5b29e8181a18229c7b0b2b5e</td>\n",
       "      <td>sao paulo</td>\n",
       "      <td>-23.527788</td>\n",
       "      <td>-46.660310</td>\n",
       "      <td>delivered</td>\n",
       "      <td>25.0</td>\n",
       "      <td>23.0</td>\n",
       "      <td>5</td>\n",
       "      <td>NaN</td>\n",
       "      <td>NaN</td>\n",
       "    </tr>\n",
       "    <tr>\n",
       "      <th>3</th>\n",
       "      <td>b2b6027bc5c5109e529d4dc6358b12c3</td>\n",
       "      <td>259dac757896d24d7702b9acbbff3f3c</td>\n",
       "      <td>mogi das cruzes</td>\n",
       "      <td>-23.496930</td>\n",
       "      <td>-46.185352</td>\n",
       "      <td>delivered</td>\n",
       "      <td>14.0</td>\n",
       "      <td>27.0</td>\n",
       "      <td>5</td>\n",
       "      <td>NaN</td>\n",
       "      <td>NaN</td>\n",
       "    </tr>\n",
       "    <tr>\n",
       "      <th>4</th>\n",
       "      <td>4f2d8ab171c80ec8364f7c12e35b23ad</td>\n",
       "      <td>345ecd01c38d18a9036ed96c73b8d066</td>\n",
       "      <td>campinas</td>\n",
       "      <td>-22.987222</td>\n",
       "      <td>-47.151073</td>\n",
       "      <td>delivered</td>\n",
       "      <td>11.0</td>\n",
       "      <td>16.0</td>\n",
       "      <td>5</td>\n",
       "      <td>a melhor nota</td>\n",
       "      <td>O baratheon è esxelente Amo adoro o baratheon</td>\n",
       "    </tr>\n",
       "  </tbody>\n",
       "</table>\n",
       "</div>"
      ],
      "text/plain": [
       "                        customer_id                customer_unique_id  \\\n",
       "0  06b8999e2fba1a1fbc88172c00ba8bc7  861eff4711a542e4b93843c6dd7febb0   \n",
       "1  18955e83d337fd6b2def6b18a428ac77  290c77bc529b7ac935b93aa66c333dc3   \n",
       "2  4e7b3e00288586ebd08712fdd0374a03  060e732b5b29e8181a18229c7b0b2b5e   \n",
       "3  b2b6027bc5c5109e529d4dc6358b12c3  259dac757896d24d7702b9acbbff3f3c   \n",
       "4  4f2d8ab171c80ec8364f7c12e35b23ad  345ecd01c38d18a9036ed96c73b8d066   \n",
       "\n",
       "           customer_city  customer_latitude  customer_longitude order_status  \\\n",
       "0                 franca         -20.509897          -47.397866    delivered   \n",
       "1  sao bernardo do campo         -23.726853          -46.545746    delivered   \n",
       "2              sao paulo         -23.527788          -46.660310    delivered   \n",
       "3        mogi das cruzes         -23.496930          -46.185352    delivered   \n",
       "4               campinas         -22.987222          -47.151073    delivered   \n",
       "\n",
       "   nb_days_before_delivered  nb_days_before_delivered_estimation  \\\n",
       "0                       8.0                                 19.0   \n",
       "1                      16.0                                 24.0   \n",
       "2                      25.0                                 23.0   \n",
       "3                      14.0                                 27.0   \n",
       "4                      11.0                                 16.0   \n",
       "\n",
       "   review_score review_comment_title  \\\n",
       "0             4                  NaN   \n",
       "1             5                  NaN   \n",
       "2             5                  NaN   \n",
       "3             5                  NaN   \n",
       "4             5        a melhor nota   \n",
       "\n",
       "                          review_comment_message  \n",
       "0                                            NaN  \n",
       "1                                            NaN  \n",
       "2                                            NaN  \n",
       "3                                            NaN  \n",
       "4  O baratheon è esxelente Amo adoro o baratheon  "
      ]
     },
     "execution_count": 48,
     "metadata": {},
     "output_type": "execute_result"
    }
   ],
   "source": [
    "df_customers_orders.head()"
   ]
  },
  {
   "cell_type": "code",
   "execution_count": 49,
   "id": "d5d14013",
   "metadata": {},
   "outputs": [],
   "source": [
    "df_customers_orders = df_customers_orders.groupby(\"customer_unique_id\").mean()\n",
    "df_customers_orders.reset_index(inplace=True)"
   ]
  },
  {
   "cell_type": "code",
   "execution_count": 50,
   "id": "7d51bc05",
   "metadata": {},
   "outputs": [],
   "source": [
    "data = pd.merge(data, df_customers_orders, on=\"customer_unique_id\", how=\"left\")"
   ]
  },
  {
   "cell_type": "code",
   "execution_count": 51,
   "id": "2345a5f9",
   "metadata": {},
   "outputs": [],
   "source": [
    "data = pd.merge(df_customers, data, on=\"customer_unique_id\", how=\"right\")"
   ]
  },
  {
   "cell_type": "code",
   "execution_count": 52,
   "id": "3bfd019c",
   "metadata": {},
   "outputs": [],
   "source": [
    "data.drop_duplicates(subset=\"customer_unique_id\", inplace=True)"
   ]
  },
  {
   "cell_type": "code",
   "execution_count": 53,
   "id": "7a1db234",
   "metadata": {},
   "outputs": [],
   "source": [
    "data.drop([\"customer_id\",\n",
    "           \"customer_longitude_x\",\n",
    "           \"customer_latitude_x\",\n",
    "           \"customer_longitude_y\",\n",
    "           \"customer_latitude_y\"], axis=1, inplace=True)\n",
    "data.set_index(\"customer_unique_id\",\n",
    "               inplace=True)"
   ]
  },
  {
   "cell_type": "code",
   "execution_count": 54,
   "id": "fff24b78",
   "metadata": {},
   "outputs": [],
   "source": [
    "data = data.loc[data[\"nb_days_before_delivered\"] > 0]\n",
    "data = data.loc[data[\"nb_days_before_delivered_estimation\"] > 0]\n",
    "data = data.loc[data[\"distance_customer_seller\"] > 0]"
   ]
  },
  {
   "cell_type": "code",
   "execution_count": 55,
   "id": "25663af7",
   "metadata": {},
   "outputs": [],
   "source": [
    "data[\"review_score\"] = data[\"review_score\"].astype(\"int32\")"
   ]
  },
  {
   "cell_type": "markdown",
   "id": "7cec9bb1",
   "metadata": {},
   "source": [
    "## 3) Analyse des données clients"
   ]
  },
  {
   "cell_type": "code",
   "execution_count": 56,
   "id": "224b8e63",
   "metadata": {},
   "outputs": [
    {
     "data": {
      "text/html": [
       "<div>\n",
       "<style scoped>\n",
       "    .dataframe tbody tr th:only-of-type {\n",
       "        vertical-align: middle;\n",
       "    }\n",
       "\n",
       "    .dataframe tbody tr th {\n",
       "        vertical-align: top;\n",
       "    }\n",
       "\n",
       "    .dataframe thead th {\n",
       "        text-align: right;\n",
       "    }\n",
       "</style>\n",
       "<table border=\"1\" class=\"dataframe\">\n",
       "  <thead>\n",
       "    <tr style=\"text-align: right;\">\n",
       "      <th></th>\n",
       "      <th>Recency</th>\n",
       "      <th>Frequency</th>\n",
       "      <th>MonetaryValue</th>\n",
       "      <th>distance_customer_seller</th>\n",
       "      <th>nb_days_before_delivered</th>\n",
       "      <th>nb_days_before_delivered_estimation</th>\n",
       "      <th>review_score</th>\n",
       "    </tr>\n",
       "  </thead>\n",
       "  <tbody>\n",
       "    <tr>\n",
       "      <th>count</th>\n",
       "      <td>90205.000000</td>\n",
       "      <td>90205.000000</td>\n",
       "      <td>90205.000000</td>\n",
       "      <td>90205.000000</td>\n",
       "      <td>90205.000000</td>\n",
       "      <td>90205.000000</td>\n",
       "      <td>90205.000000</td>\n",
       "    </tr>\n",
       "    <tr>\n",
       "      <th>mean</th>\n",
       "      <td>288.489618</td>\n",
       "      <td>1.044100</td>\n",
       "      <td>156.600685</td>\n",
       "      <td>603.943571</td>\n",
       "      <td>11.688654</td>\n",
       "      <td>22.894851</td>\n",
       "      <td>4.138762</td>\n",
       "    </tr>\n",
       "    <tr>\n",
       "      <th>std</th>\n",
       "      <td>152.563602</td>\n",
       "      <td>0.370922</td>\n",
       "      <td>216.720029</td>\n",
       "      <td>599.119124</td>\n",
       "      <td>9.570794</td>\n",
       "      <td>8.757824</td>\n",
       "      <td>1.297214</td>\n",
       "    </tr>\n",
       "    <tr>\n",
       "      <th>min</th>\n",
       "      <td>50.000000</td>\n",
       "      <td>1.000000</td>\n",
       "      <td>1.737500</td>\n",
       "      <td>0.174640</td>\n",
       "      <td>1.000000</td>\n",
       "      <td>1.000000</td>\n",
       "      <td>1.000000</td>\n",
       "    </tr>\n",
       "    <tr>\n",
       "      <th>25%</th>\n",
       "      <td>165.000000</td>\n",
       "      <td>1.000000</td>\n",
       "      <td>60.000000</td>\n",
       "      <td>189.109677</td>\n",
       "      <td>6.000000</td>\n",
       "      <td>18.000000</td>\n",
       "      <td>4.000000</td>\n",
       "    </tr>\n",
       "    <tr>\n",
       "      <th>50%</th>\n",
       "      <td>269.000000</td>\n",
       "      <td>1.000000</td>\n",
       "      <td>102.740000</td>\n",
       "      <td>436.099314</td>\n",
       "      <td>9.000000</td>\n",
       "      <td>22.000000</td>\n",
       "      <td>5.000000</td>\n",
       "    </tr>\n",
       "    <tr>\n",
       "      <th>75%</th>\n",
       "      <td>397.000000</td>\n",
       "      <td>1.000000</td>\n",
       "      <td>173.880000</td>\n",
       "      <td>802.679213</td>\n",
       "      <td>15.000000</td>\n",
       "      <td>28.000000</td>\n",
       "      <td>5.000000</td>\n",
       "    </tr>\n",
       "    <tr>\n",
       "      <th>max</th>\n",
       "      <td>745.000000</td>\n",
       "      <td>26.000000</td>\n",
       "      <td>13664.080000</td>\n",
       "      <td>8731.462170</td>\n",
       "      <td>208.000000</td>\n",
       "      <td>153.000000</td>\n",
       "      <td>5.000000</td>\n",
       "    </tr>\n",
       "  </tbody>\n",
       "</table>\n",
       "</div>"
      ],
      "text/plain": [
       "            Recency     Frequency  MonetaryValue  distance_customer_seller  \\\n",
       "count  90205.000000  90205.000000   90205.000000              90205.000000   \n",
       "mean     288.489618      1.044100     156.600685                603.943571   \n",
       "std      152.563602      0.370922     216.720029                599.119124   \n",
       "min       50.000000      1.000000       1.737500                  0.174640   \n",
       "25%      165.000000      1.000000      60.000000                189.109677   \n",
       "50%      269.000000      1.000000     102.740000                436.099314   \n",
       "75%      397.000000      1.000000     173.880000                802.679213   \n",
       "max      745.000000     26.000000   13664.080000               8731.462170   \n",
       "\n",
       "       nb_days_before_delivered  nb_days_before_delivered_estimation  \\\n",
       "count              90205.000000                         90205.000000   \n",
       "mean                  11.688654                            22.894851   \n",
       "std                    9.570794                             8.757824   \n",
       "min                    1.000000                             1.000000   \n",
       "25%                    6.000000                            18.000000   \n",
       "50%                    9.000000                            22.000000   \n",
       "75%                   15.000000                            28.000000   \n",
       "max                  208.000000                           153.000000   \n",
       "\n",
       "       review_score  \n",
       "count  90205.000000  \n",
       "mean       4.138762  \n",
       "std        1.297214  \n",
       "min        1.000000  \n",
       "25%        4.000000  \n",
       "50%        5.000000  \n",
       "75%        5.000000  \n",
       "max        5.000000  "
      ]
     },
     "execution_count": 56,
     "metadata": {},
     "output_type": "execute_result"
    }
   ],
   "source": [
    "# Descriptive statistics\n",
    "data.describe()"
   ]
  },
  {
   "cell_type": "markdown",
   "id": "b48e9ca1",
   "metadata": {},
   "source": [
    "### Analyses univariées des variables utilisées pour la segmentation"
   ]
  },
  {
   "cell_type": "code",
   "execution_count": 57,
   "id": "6cc8a535",
   "metadata": {},
   "outputs": [
    {
     "data": {
      "image/png": "[encoded data removed]",
      "text/plain": [
       "<Figure size 1080x360 with 2 Axes>"
      ]
     },
     "metadata": {
      "needs_background": "light"
     },
     "output_type": "display_data"
    }
   ],
   "source": [
    "fig, axes = plt.subplots(1, 2, figsize=(15, 5))\n",
    "fig.suptitle('Description du nombre de jours entre la commande et la réception (réalité)')\n",
    "\n",
    "sns.histplot(ax=axes[0], x=\"nb_days_before_delivered\", data=data, kde=True)\n",
    "axes[0].set_title(\"Distribution du nombre de jours entre la commande et la réception (réalité)\")\n",
    "\n",
    "sns.boxplot(ax=axes[1], x=\"nb_days_before_delivered\", data=data)\n",
    "axes[1].set_title(\"Boxplot du nombre de jours entre la commande et la réception (réalité)\")\n",
    "\n",
    "plt.show()"
   ]
  },
  {
   "cell_type": "code",
   "execution_count": 58,
   "id": "42a11c13",
   "metadata": {},
   "outputs": [
    {
     "data": {
      "image/png": "[encoded data removed]",
      "text/plain": [
       "<Figure size 1080x360 with 2 Axes>"
      ]
     },
     "metadata": {
      "needs_background": "light"
     },
     "output_type": "display_data"
    }
   ],
   "source": [
    "fig, axes = plt.subplots(1, 2, figsize=(15, 5), sharex=True)\n",
    "fig.suptitle('Description du nombre de jours entre la commande et la réception (estimation)')\n",
    "\n",
    "sns.histplot(ax=axes[0], x=\"nb_days_before_delivered_estimation\", data=data, kde=True)\n",
    "axes[0].set_title(\"Distribution du nombre de jours entre la commande et la réception (estimation)\")\n",
    "\n",
    "sns.boxplot(ax=axes[1], x=\"nb_days_before_delivered_estimation\", data=data)\n",
    "axes[1].set_title(\"Boxplot du nombre de jours entre la commande et la réception (estimation)\")\n",
    "\n",
    "plt.show()"
   ]
  },
  {
   "cell_type": "code",
   "execution_count": 59,
   "id": "8e1a0f04",
   "metadata": {},
   "outputs": [
    {
     "data": {
      "image/png": "[encoded data removed]",
      "text/plain": [
       "<Figure size 1080x360 with 2 Axes>"
      ]
     },
     "metadata": {
      "needs_background": "light"
     },
     "output_type": "display_data"
    }
   ],
   "source": [
    "fig, axes = plt.subplots(1, 2, figsize=(15, 5), sharex=False)\n",
    "fig.suptitle('Description des avis clients')\n",
    "\n",
    "sns.countplot(ax=axes[0], y=\"review_score\", data=data)\n",
    "axes[0].set_title(\"Distribution des avis clients\")\n",
    "\n",
    "sns.boxplot(ax=axes[1], x=\"review_score\", data=data)\n",
    "axes[1].set_title(\"Boxplot des avis clients\")\n",
    "\n",
    "plt.show()"
   ]
  },
  {
   "cell_type": "code",
   "execution_count": 60,
   "id": "7c962ce5",
   "metadata": {},
   "outputs": [
    {
     "data": {
      "image/png": "[encoded data removed]",
      "text/plain": [
       "<Figure size 1080x360 with 2 Axes>"
      ]
     },
     "metadata": {
      "needs_background": "light"
     },
     "output_type": "display_data"
    }
   ],
   "source": [
    "fig, axes = plt.subplots(1, 2, figsize=(15, 5), sharex=True)\n",
    "fig.suptitle('Description de la distance en kilomètres entre clients et vendeurs')\n",
    "\n",
    "sns.histplot(ax=axes[0], x=\"distance_customer_seller\", data=data, kde=True)\n",
    "axes[0].set_title(\"Distribution de la distance en kilomètres entre clients et vendeurs\")\n",
    "\n",
    "sns.boxplot(ax=axes[1], x=\"distance_customer_seller\", data=data)\n",
    "axes[1].set_title(\"Boxplot de la distance en kilomètres entre clients et vendeurs\")\n",
    "\n",
    "plt.show()"
   ]
  },
  {
   "cell_type": "code",
   "execution_count": 61,
   "id": "7d8e8f21",
   "metadata": {},
   "outputs": [],
   "source": [
    "data.drop(\"nb_days_before_delivered_estimation\", axis=1, inplace=True)\n",
    "data.to_csv(\"datasets/data_clustering_complete.csv\")"
   ]
  },
  {
   "cell_type": "markdown",
   "id": "a1a77569",
   "metadata": {},
   "source": [
    "------------------------------------------------------------\n",
    "# Création d'un dataset restreint"
   ]
  },
  {
   "cell_type": "code",
   "execution_count": 62,
   "id": "a56bb18e",
   "metadata": {
    "scrolled": true
   },
   "outputs": [
    {
     "data": {
      "text/plain": [
       "2671"
      ]
     },
     "execution_count": 62,
     "metadata": {},
     "output_type": "execute_result"
    }
   ],
   "source": [
    "len(data.loc[data[\"Frequency\"] != 1])"
   ]
  },
  {
   "cell_type": "markdown",
   "id": "2f023284",
   "metadata": {},
   "source": [
    "On remarque que l'on a 2671 clients dans notre jeu de données dont la fréquence d'achats est différent de 0. On va donc se servir de ces clients et sélectionner l'équivalent de 40% de clients ayant effectué un achat. Ainsi la fréquence et la récence pourront être exploités par la suite car elles seront plus discriminantes. "
   ]
  },
  {
   "cell_type": "code",
   "execution_count": 63,
   "id": "9cdb12a4",
   "metadata": {},
   "outputs": [],
   "source": [
    "freq_1 = data.loc[data[\"Frequency\"] == 1]"
   ]
  },
  {
   "cell_type": "code",
   "execution_count": 64,
   "id": "a9638db8",
   "metadata": {},
   "outputs": [],
   "source": [
    "freq_1= freq_1.sample(frac=0.4)"
   ]
  },
  {
   "cell_type": "code",
   "execution_count": 65,
   "id": "7450ea39",
   "metadata": {},
   "outputs": [],
   "source": [
    "df = data.loc[data[\"Frequency\"] != 1]"
   ]
  },
  {
   "cell_type": "code",
   "execution_count": 66,
   "id": "1961e7c4",
   "metadata": {},
   "outputs": [],
   "source": [
    "df = df.append(freq_1)"
   ]
  },
  {
   "cell_type": "code",
   "execution_count": 67,
   "id": "e2f44312",
   "metadata": {},
   "outputs": [
    {
     "name": "stdout",
     "output_type": "stream",
     "text": [
      "<class 'pandas.core.frame.DataFrame'>\n",
      "Index: 37685 entries, 000e309254ab1fc5ba99dd469d36bdb4 to f448091e9f88e875eedd3f5542f0524b\n",
      "Data columns (total 12 columns):\n",
      " #   Column                    Non-Null Count  Dtype   \n",
      "---  ------                    --------------  -----   \n",
      " 0   customer_city             37685 non-null  object  \n",
      " 1   Recency                   37685 non-null  int64   \n",
      " 2   Frequency                 37685 non-null  int64   \n",
      " 3   MonetaryValue             37685 non-null  float64 \n",
      " 4   r_quartile                37685 non-null  category\n",
      " 5   f_bins                    37685 non-null  category\n",
      " 6   m_quartile                37685 non-null  category\n",
      " 7   RFM_Score                 37685 non-null  object  \n",
      " 8   distance_customer_seller  37685 non-null  float64 \n",
      " 9   product_category_name     37111 non-null  object  \n",
      " 10  nb_days_before_delivered  37685 non-null  float64 \n",
      " 11  review_score              37685 non-null  int32   \n",
      "dtypes: category(3), float64(3), int32(1), int64(2), object(3)\n",
      "memory usage: 2.8+ MB\n"
     ]
    }
   ],
   "source": [
    "df.info()"
   ]
  },
  {
   "cell_type": "markdown",
   "id": "9a5af72b",
   "metadata": {},
   "source": [
    "## Analyses statistiques"
   ]
  },
  {
   "cell_type": "code",
   "execution_count": 68,
   "id": "6e3ad49e",
   "metadata": {},
   "outputs": [],
   "source": [
    "df.reset_index(inplace=True)"
   ]
  },
  {
   "cell_type": "code",
   "execution_count": 69,
   "id": "3dd50713",
   "metadata": {},
   "outputs": [
    {
     "data": {
      "text/html": [
       "<div>\n",
       "<style scoped>\n",
       "    .dataframe tbody tr th:only-of-type {\n",
       "        vertical-align: middle;\n",
       "    }\n",
       "\n",
       "    .dataframe tbody tr th {\n",
       "        vertical-align: top;\n",
       "    }\n",
       "\n",
       "    .dataframe thead th {\n",
       "        text-align: right;\n",
       "    }\n",
       "</style>\n",
       "<table border=\"1\" class=\"dataframe\">\n",
       "  <thead>\n",
       "    <tr style=\"text-align: right;\">\n",
       "      <th></th>\n",
       "      <th>Recency</th>\n",
       "      <th>Frequency</th>\n",
       "      <th>MonetaryValue</th>\n",
       "      <th>distance_customer_seller</th>\n",
       "      <th>nb_days_before_delivered</th>\n",
       "      <th>review_score</th>\n",
       "    </tr>\n",
       "  </thead>\n",
       "  <tbody>\n",
       "    <tr>\n",
       "      <th>count</th>\n",
       "      <td>37685.000000</td>\n",
       "      <td>37685.000000</td>\n",
       "      <td>37685.000000</td>\n",
       "      <td>37685.000000</td>\n",
       "      <td>37685.000000</td>\n",
       "      <td>37685.000000</td>\n",
       "    </tr>\n",
       "    <tr>\n",
       "      <th>mean</th>\n",
       "      <td>289.026085</td>\n",
       "      <td>1.105559</td>\n",
       "      <td>153.230608</td>\n",
       "      <td>602.775340</td>\n",
       "      <td>11.658671</td>\n",
       "      <td>4.135306</td>\n",
       "    </tr>\n",
       "    <tr>\n",
       "      <th>std</th>\n",
       "      <td>152.900085</td>\n",
       "      <td>0.568194</td>\n",
       "      <td>218.149609</td>\n",
       "      <td>600.793241</td>\n",
       "      <td>9.522682</td>\n",
       "      <td>1.299664</td>\n",
       "    </tr>\n",
       "    <tr>\n",
       "      <th>min</th>\n",
       "      <td>50.000000</td>\n",
       "      <td>1.000000</td>\n",
       "      <td>1.737500</td>\n",
       "      <td>0.174640</td>\n",
       "      <td>1.000000</td>\n",
       "      <td>1.000000</td>\n",
       "    </tr>\n",
       "    <tr>\n",
       "      <th>25%</th>\n",
       "      <td>166.000000</td>\n",
       "      <td>1.000000</td>\n",
       "      <td>57.345000</td>\n",
       "      <td>182.456452</td>\n",
       "      <td>6.000000</td>\n",
       "      <td>4.000000</td>\n",
       "    </tr>\n",
       "    <tr>\n",
       "      <th>50%</th>\n",
       "      <td>269.000000</td>\n",
       "      <td>1.000000</td>\n",
       "      <td>99.900000</td>\n",
       "      <td>435.182034</td>\n",
       "      <td>9.000000</td>\n",
       "      <td>5.000000</td>\n",
       "    </tr>\n",
       "    <tr>\n",
       "      <th>75%</th>\n",
       "      <td>398.000000</td>\n",
       "      <td>1.000000</td>\n",
       "      <td>171.320000</td>\n",
       "      <td>799.845875</td>\n",
       "      <td>15.000000</td>\n",
       "      <td>5.000000</td>\n",
       "    </tr>\n",
       "    <tr>\n",
       "      <th>max</th>\n",
       "      <td>745.000000</td>\n",
       "      <td>26.000000</td>\n",
       "      <td>13664.080000</td>\n",
       "      <td>8731.462170</td>\n",
       "      <td>208.000000</td>\n",
       "      <td>5.000000</td>\n",
       "    </tr>\n",
       "  </tbody>\n",
       "</table>\n",
       "</div>"
      ],
      "text/plain": [
       "            Recency     Frequency  MonetaryValue  distance_customer_seller  \\\n",
       "count  37685.000000  37685.000000   37685.000000              37685.000000   \n",
       "mean     289.026085      1.105559     153.230608                602.775340   \n",
       "std      152.900085      0.568194     218.149609                600.793241   \n",
       "min       50.000000      1.000000       1.737500                  0.174640   \n",
       "25%      166.000000      1.000000      57.345000                182.456452   \n",
       "50%      269.000000      1.000000      99.900000                435.182034   \n",
       "75%      398.000000      1.000000     171.320000                799.845875   \n",
       "max      745.000000     26.000000   13664.080000               8731.462170   \n",
       "\n",
       "       nb_days_before_delivered  review_score  \n",
       "count              37685.000000  37685.000000  \n",
       "mean                  11.658671      4.135306  \n",
       "std                    9.522682      1.299664  \n",
       "min                    1.000000      1.000000  \n",
       "25%                    6.000000      4.000000  \n",
       "50%                    9.000000      5.000000  \n",
       "75%                   15.000000      5.000000  \n",
       "max                  208.000000      5.000000  "
      ]
     },
     "execution_count": 69,
     "metadata": {},
     "output_type": "execute_result"
    }
   ],
   "source": [
    "df.describe()"
   ]
  },
  {
   "cell_type": "code",
   "execution_count": 70,
   "id": "71ce6424",
   "metadata": {},
   "outputs": [
    {
     "data": {
      "image/png": "[encoded data removed]",
      "text/plain": [
       "<Figure size 1080x360 with 2 Axes>"
      ]
     },
     "metadata": {
      "needs_background": "light"
     },
     "output_type": "display_data"
    }
   ],
   "source": [
    "fig, axes = plt.subplots(1, 2, figsize=(15, 5))\n",
    "fig.suptitle('Description du nombre de jours entre la commande et la réception')\n",
    "\n",
    "sns.histplot(ax=axes[0], x=\"nb_days_before_delivered\", data=df, kde=True)\n",
    "axes[0].set_title(\"Distribution du nombre de jours entre la commande et la réception\")\n",
    "\n",
    "sns.boxplot(ax=axes[1], x=\"nb_days_before_delivered\", data=df)\n",
    "axes[1].set_title(\"Boxplot du nombre de jours entre la commande et la réception\")\n",
    "\n",
    "plt.show()"
   ]
  },
  {
   "cell_type": "code",
   "execution_count": 71,
   "id": "9a62dfba",
   "metadata": {},
   "outputs": [
    {
     "data": {
      "image/png": "[encoded data removed]",
      "text/plain": [
       "<Figure size 1080x360 with 2 Axes>"
      ]
     },
     "metadata": {
      "needs_background": "light"
     },
     "output_type": "display_data"
    }
   ],
   "source": [
    "fig, axes = plt.subplots(1, 2, figsize=(15, 5), sharex=False)\n",
    "fig.suptitle('Description des avis clients')\n",
    "\n",
    "sns.countplot(ax=axes[0], y=\"review_score\", data=df)\n",
    "axes[0].set_title(\"Distribution des avis clients\")\n",
    "\n",
    "sns.boxplot(ax=axes[1], x=\"review_score\", data=df)\n",
    "axes[1].set_title(\"Boxplot des avis clients\")\n",
    "\n",
    "plt.show()"
   ]
  },
  {
   "cell_type": "code",
   "execution_count": 72,
   "id": "7357e84b",
   "metadata": {},
   "outputs": [
    {
     "data": {
      "image/png": "[encoded data removed]",
      "text/plain": [
       "<Figure size 1080x360 with 2 Axes>"
      ]
     },
     "metadata": {
      "needs_background": "light"
     },
     "output_type": "display_data"
    }
   ],
   "source": [
    "fig, axes = plt.subplots(1, 2, figsize=(15, 5), sharex=True)\n",
    "fig.suptitle('Description de la distance en kilomètres entre clients et vendeurs')\n",
    "\n",
    "sns.histplot(ax=axes[0], x=\"distance_customer_seller\", data=df, kde=True)\n",
    "axes[0].set_title(\"Distribution de la distance en kilomètres entre clients et vendeurs\")\n",
    "\n",
    "sns.boxplot(ax=axes[1], x=\"distance_customer_seller\", data=df)\n",
    "axes[1].set_title(\"Boxplot de la distance en kilomètres entre clients et vendeurs\")\n",
    "\n",
    "plt.show()"
   ]
  },
  {
   "cell_type": "code",
   "execution_count": 73,
   "id": "1f670ea6",
   "metadata": {},
   "outputs": [
    {
     "data": {
      "image/png": "[encoded data removed]",
      "text/plain": [
       "<Figure size 1080x360 with 2 Axes>"
      ]
     },
     "metadata": {
      "needs_background": "light"
     },
     "output_type": "display_data"
    }
   ],
   "source": [
    "fig, axes = plt.subplots(1, 2, figsize=(15, 5))\n",
    "fig.suptitle(\"Description de la fréquence d\\'achats\")\n",
    "\n",
    "sns.countplot(ax=axes[0], y=\"Frequency\", data=df)\n",
    "axes[0].set_title(\"Distribution de la fréquence d\\'achats\")\n",
    "\n",
    "sns.boxplot(ax=axes[1], x=\"Frequency\", data=df)\n",
    "axes[1].set_title(\"Boxplot de la la fréquence d\\'achats\")\n",
    "\n",
    "plt.show()"
   ]
  },
  {
   "cell_type": "code",
   "execution_count": 74,
   "id": "2eadca2f",
   "metadata": {},
   "outputs": [
    {
     "data": {
      "image/png": "[encoded data removed]",
      "text/plain": [
       "<Figure size 1080x360 with 2 Axes>"
      ]
     },
     "metadata": {
      "needs_background": "light"
     },
     "output_type": "display_data"
    }
   ],
   "source": [
    "fig, axes = plt.subplots(1, 2, figsize=(15, 5), sharex=True)\n",
    "fig.suptitle(\"Description de la récence des achats\")\n",
    "\n",
    "sns.histplot(ax=axes[0], x=\"Recency\", data=df, kde=True)\n",
    "axes[0].set_title(\"Distribution de la récence des achats\")\n",
    "\n",
    "sns.boxplot(ax=axes[1], x=\"Recency\", data=df)\n",
    "axes[1].set_title(\"Boxplot de la récence des achats\")\n",
    "\n",
    "plt.show()"
   ]
  },
  {
   "cell_type": "code",
   "execution_count": 75,
   "id": "0835c569",
   "metadata": {},
   "outputs": [
    {
     "data": {
      "image/png": "[encoded data removed]",
      "text/plain": [
       "<Figure size 1080x360 with 2 Axes>"
      ]
     },
     "metadata": {
      "needs_background": "light"
     },
     "output_type": "display_data"
    }
   ],
   "source": [
    "fig, axes = plt.subplots(1, 2, figsize=(15, 5), sharex=True)\n",
    "fig.suptitle(\"Description de la moyenne des achats réalisés\")\n",
    "\n",
    "sns.histplot(ax=axes[0], x=\"MonetaryValue\", data=df, kde=True)\n",
    "axes[0].set_title(\"Distribution de la moyenne des achats réalisés\")\n",
    "\n",
    "sns.boxplot(ax=axes[1], x=\"MonetaryValue\", data=df)\n",
    "axes[1].set_title(\"Boxplot de la moyenne des achats réalisés\")\n",
    "\n",
    "plt.show()"
   ]
  },
  {
   "cell_type": "markdown",
   "id": "ccfc8a51",
   "metadata": {},
   "source": [
    "### Segmentation RFM"
   ]
  },
  {
   "cell_type": "code",
   "execution_count": 76,
   "id": "3029e164",
   "metadata": {},
   "outputs": [],
   "source": [
    "# Calculation of scores with the help of quartiles\n",
    "# Except for the frequency\n",
    "data = pd.DataFrame()\n",
    "data['r_quartile'] = pd.qcut(df['Recency'], 4, ['1', '2', '3', '4'])\n",
    "data['f_bins'] = pd.cut(df['Frequency'], 4, labels=['4', '3','2', '1'])\n",
    "data['m_quartile'] = pd.qcut(df['MonetaryValue'], 4, ['4', '3', '2', '1'])"
   ]
  },
  {
   "cell_type": "code",
   "execution_count": 77,
   "id": "e7361373",
   "metadata": {},
   "outputs": [
    {
     "data": {
      "text/html": [
       "<div>\n",
       "<style scoped>\n",
       "    .dataframe tbody tr th:only-of-type {\n",
       "        vertical-align: middle;\n",
       "    }\n",
       "\n",
       "    .dataframe tbody tr th {\n",
       "        vertical-align: top;\n",
       "    }\n",
       "\n",
       "    .dataframe thead th {\n",
       "        text-align: right;\n",
       "    }\n",
       "</style>\n",
       "<table border=\"1\" class=\"dataframe\">\n",
       "  <thead>\n",
       "    <tr style=\"text-align: right;\">\n",
       "      <th></th>\n",
       "      <th>r_quartile</th>\n",
       "      <th>f_bins</th>\n",
       "      <th>m_quartile</th>\n",
       "      <th>RFM_Score</th>\n",
       "    </tr>\n",
       "  </thead>\n",
       "  <tbody>\n",
       "    <tr>\n",
       "      <th>483</th>\n",
       "      <td>1</td>\n",
       "      <td>2</td>\n",
       "      <td>4</td>\n",
       "      <td>124</td>\n",
       "    </tr>\n",
       "    <tr>\n",
       "      <th>2067</th>\n",
       "      <td>1</td>\n",
       "      <td>3</td>\n",
       "      <td>4</td>\n",
       "      <td>134</td>\n",
       "    </tr>\n",
       "    <tr>\n",
       "      <th>26436</th>\n",
       "      <td>1</td>\n",
       "      <td>4</td>\n",
       "      <td>1</td>\n",
       "      <td>141</td>\n",
       "    </tr>\n",
       "    <tr>\n",
       "      <th>26439</th>\n",
       "      <td>1</td>\n",
       "      <td>4</td>\n",
       "      <td>1</td>\n",
       "      <td>141</td>\n",
       "    </tr>\n",
       "    <tr>\n",
       "      <th>31447</th>\n",
       "      <td>1</td>\n",
       "      <td>4</td>\n",
       "      <td>1</td>\n",
       "      <td>141</td>\n",
       "    </tr>\n",
       "    <tr>\n",
       "      <th>...</th>\n",
       "      <td>...</td>\n",
       "      <td>...</td>\n",
       "      <td>...</td>\n",
       "      <td>...</td>\n",
       "    </tr>\n",
       "    <tr>\n",
       "      <th>22349</th>\n",
       "      <td>4</td>\n",
       "      <td>4</td>\n",
       "      <td>4</td>\n",
       "      <td>444</td>\n",
       "    </tr>\n",
       "    <tr>\n",
       "      <th>4469</th>\n",
       "      <td>4</td>\n",
       "      <td>4</td>\n",
       "      <td>4</td>\n",
       "      <td>444</td>\n",
       "    </tr>\n",
       "    <tr>\n",
       "      <th>16208</th>\n",
       "      <td>4</td>\n",
       "      <td>4</td>\n",
       "      <td>4</td>\n",
       "      <td>444</td>\n",
       "    </tr>\n",
       "    <tr>\n",
       "      <th>32947</th>\n",
       "      <td>4</td>\n",
       "      <td>4</td>\n",
       "      <td>4</td>\n",
       "      <td>444</td>\n",
       "    </tr>\n",
       "    <tr>\n",
       "      <th>7246</th>\n",
       "      <td>4</td>\n",
       "      <td>4</td>\n",
       "      <td>4</td>\n",
       "      <td>444</td>\n",
       "    </tr>\n",
       "  </tbody>\n",
       "</table>\n",
       "<p>37685 rows × 4 columns</p>\n",
       "</div>"
      ],
      "text/plain": [
       "      r_quartile f_bins m_quartile RFM_Score\n",
       "483            1      2          4       124\n",
       "2067           1      3          4       134\n",
       "26436          1      4          1       141\n",
       "26439          1      4          1       141\n",
       "31447          1      4          1       141\n",
       "...          ...    ...        ...       ...\n",
       "22349          4      4          4       444\n",
       "4469           4      4          4       444\n",
       "16208          4      4          4       444\n",
       "32947          4      4          4       444\n",
       "7246           4      4          4       444\n",
       "\n",
       "[37685 rows x 4 columns]"
      ]
     },
     "execution_count": 77,
     "metadata": {},
     "output_type": "execute_result"
    }
   ],
   "source": [
    "# Creation of RFM Score with the concatenation of\n",
    "# R, F & M quartile/bins\n",
    "data['RFM_Score'] = data[\"r_quartile\"].astype(str) \\\n",
    "                    + data[\"f_bins\"].astype(str) \\\n",
    "                    + data[\"m_quartile\"].astype(str)\n",
    "data.sort_values(\"RFM_Score\", ascending=True)"
   ]
  },
  {
   "cell_type": "code",
   "execution_count": 78,
   "id": "e76bc298",
   "metadata": {},
   "outputs": [],
   "source": [
    "df.to_csv(\"datasets/data_short.csv\", index=False)"
   ]
  },
  {
   "cell_type": "markdown",
   "id": "e707517d",
   "metadata": {},
   "source": [
    "**Ressources :**\n",
    "\n",
    "- Intégration de la plateforme Olist sur le site de Carrefour Brésil: https://www.carrefour.com.br/parceiro/olist"
   ]
  }
 ],
 "metadata": {
  "interpreter": {
   "hash": "db691860837755bfd223dbb19bf59c90fd58faf4b85973e04a456a30cef6b76b"
  },
  "kernelspec": {
   "display_name": "Python 3 (ipykernel)",
   "language": "python",
   "name": "python3"
  },
  "language_info": {
   "codemirror_mode": {
    "name": "ipython",
    "version": 3
   },
   "file_extension": ".py",
   "mimetype": "text/x-python",
   "name": "python",
   "nbconvert_exporter": "python",
   "pygments_lexer": "ipython3",
   "version": "3.8.11"
  }
 },
 "nbformat": 4,
 "nbformat_minor": 5
}
