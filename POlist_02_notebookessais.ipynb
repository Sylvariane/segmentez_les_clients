{
 "cells": [
  {
   "cell_type": "code",
   "execution_count": null,
   "source": [
    "import warnings\r\n",
    "warnings.filterwarnings(\"ignore\")\r\n",
    "\r\n",
    "import pandas as pd \r\n",
    "import numpy as np \r\n",
    "import matplotlib.pyplot as plt \r\n",
    "import seaborn as sns\r\n",
    "from function_utils import display_circles\r\n",
    "import gc"
   ],
   "outputs": [],
   "metadata": {}
  },
  {
   "cell_type": "code",
   "execution_count": null,
   "source": [
    "sns.set_palette(\"Pastel2\")"
   ],
   "outputs": [],
   "metadata": {}
  },
  {
   "cell_type": "code",
   "execution_count": null,
   "source": [
    "df = pd.read_csv(\"datasets/data_segmentation_rfm.csv\")\r\n",
    "df.set_index(\"customer_unique_id\", inplace=True)\r\n",
    "df.head(3)"
   ],
   "outputs": [],
   "metadata": {}
  },
  {
   "cell_type": "code",
   "execution_count": null,
   "source": [
    "df.info()"
   ],
   "outputs": [],
   "metadata": {}
  },
  {
   "cell_type": "markdown",
   "source": [
    "# Préparation des données"
   ],
   "metadata": {}
  },
  {
   "cell_type": "code",
   "execution_count": null,
   "source": [
    "customers = pd.DataFrame()\r\n",
    "customers[\"Recency\"] = np.log1p(df['Recency'])\r\n",
    "customers[\"Frequency\"] = np.log1p(df[\"Frequency\"])\r\n",
    "customers[\"MonetaryValue\"] =np.log1p(df[\"MonetaryValue\"])\r\n",
    "customers.tail()"
   ],
   "outputs": [],
   "metadata": {}
  },
  {
   "cell_type": "code",
   "execution_count": null,
   "source": [
    "fig, axes = plt.subplots(1, 3, figsize=(15, 5), sharex=True)\r\n",
    "fig.suptitle('Distribution des variables après transformation logarithme (+1)')\r\n",
    "\r\n",
    "sns.histplot(ax=axes[0],x=\"Recency\", data=customers, kde=True)\r\n",
    "axes[0].set_title(\"Distribution des jours passés depuis la dernière commande\")\r\n",
    "\r\n",
    "sns.histplot(ax=axes[1],x=\"Frequency\", data=customers, kde=True)\r\n",
    "axes[1].set_title(\"Distribution de la fréquence d'achats des clients\")\r\n",
    "\r\n",
    "sns.histplot(ax=axes[2],x=\"MonetaryValue\", data=customers, kde=True)\r\n",
    "axes[2].set_title(\"Distribution des sommes dépensées par les clients\")\r\n",
    "\r\n",
    "plt.tight_layout()\r\n",
    "plt.show();"
   ],
   "outputs": [],
   "metadata": {}
  },
  {
   "cell_type": "markdown",
   "source": [
    "- Standardisation"
   ],
   "metadata": {}
  },
  {
   "cell_type": "code",
   "execution_count": null,
   "source": [
    "from sklearn.preprocessing import StandardScaler\r\n",
    "\r\n",
    "scaler = StandardScaler()\r\n",
    "\r\n",
    "scaler.fit(customers)\r\n",
    "customers_normalized = scaler.transform(customers)\r\n",
    "\r\n",
    "print(\"Mean:\", customers_normalized.mean(axis=0).round(2))\r\n",
    "print(\"Standard Deviation:\", customers_normalized.std(axis=0).round(2))"
   ],
   "outputs": [],
   "metadata": {}
  },
  {
   "cell_type": "markdown",
   "source": [
    "# Réduction de dimensions"
   ],
   "metadata": {}
  },
  {
   "cell_type": "code",
   "execution_count": null,
   "source": [
    "from sklearn.decomposition import PCA\r\n",
    "\r\n",
    "n_comp = 2\r\n",
    "pca = PCA(n_components = n_comp)\r\n",
    "features = customers.columns\r\n",
    "data_pca = pca.fit_transform(customers_normalized)\r\n",
    "pcs = pca.components_"
   ],
   "outputs": [],
   "metadata": {}
  },
  {
   "cell_type": "code",
   "execution_count": null,
   "source": [
    "display_circles(pcs, n_comp, pca, [(0,1)], labels = np.array(features))"
   ],
   "outputs": [],
   "metadata": {}
  },
  {
   "cell_type": "markdown",
   "source": [
    "# Modélisation"
   ],
   "metadata": {}
  },
  {
   "cell_type": "markdown",
   "source": [
    "## K-Means"
   ],
   "metadata": {}
  },
  {
   "cell_type": "code",
   "execution_count": null,
   "source": [
    "# Elbow method pour déterminer le nombre de clusters optimale\r\n",
    "from sklearn.cluster import KMeans\r\n",
    "from yellowbrick.cluster import KElbowVisualizer\r\n",
    "\r\n",
    "\r\n",
    "model = KMeans()\r\n",
    "visualizer = KElbowVisualizer(model, k =(2, 10), timings=False)\r\n",
    "visualizer.fit(data_pca)\r\n",
    "visualizer.show();"
   ],
   "outputs": [],
   "metadata": {}
  },
  {
   "cell_type": "code",
   "execution_count": null,
   "source": [
    "sns.set_palette(\"Pastel2\")"
   ],
   "outputs": [],
   "metadata": {}
  },
  {
   "cell_type": "code",
   "execution_count": null,
   "source": [
    "# Calcul du K-Means et affectation du cluster à chaque bâtiment\r\n",
    "km = KMeans(n_clusters=4)\r\n",
    "\r\n",
    "#Prédiction\r\n",
    "label = km.fit_predict(data_pca)\r\n",
    " \r\n",
    "centroids = km.cluster_centers_\r\n",
    "u_labels = np.unique(label)\r\n",
    "\r\n",
    "#Représentation graphique:\r\n",
    "plt.figure(figsize=(10,10))\r\n",
    "for i in u_labels:\r\n",
    "    plt.scatter(data_pca[label == i , 0] , data_pca[label == i , 1] , label = i)\r\n",
    "plt.scatter(centroids[:,0] , centroids[:,1] , s = 80, alpha = 0.8, color = 'k')\r\n",
    "plt.legend()\r\n",
    "plt.title('Représentation des clusters du K-Means')\r\n",
    "#plt.savefig(\"Présentation/Images/representation_kmeans.png\")\r\n",
    "plt.show();"
   ],
   "outputs": [],
   "metadata": {}
  },
  {
   "cell_type": "markdown",
   "source": [
    "### Description des clusters obtenus avec le modèle"
   ],
   "metadata": {}
  },
  {
   "cell_type": "code",
   "execution_count": null,
   "source": [
    "df[\"Cluster\"] = km.labels_\r\n",
    "df.groupby('Cluster').agg({\r\n",
    "    'Recency' : \"mean\", \r\n",
    "    'Frequency' : \"mean\",\r\n",
    "    'MonetaryValue': \"mean\"}).round(2)"
   ],
   "outputs": [],
   "metadata": {}
  },
  {
   "cell_type": "code",
   "execution_count": null,
   "source": [
    "df_normalized = pd.DataFrame(customers_normalized, columns=['Recency', 'Frequency', 'MonetaryValue'])\r\n",
    "df_normalized['ID'] = df.index\r\n",
    "df_normalized[\"Cluster\"] = km.labels_\r\n",
    "\r\n",
    "df_nor_melt = pd.melt(df_normalized.reset_index(),\r\n",
    "                      id_vars=[\"ID\", \"Cluster\"],\r\n",
    "                      value_vars = [\"Recency\", \"Frequency\", \"MonetaryValue\"],\r\n",
    "                      var_name = \"Attribute\",\r\n",
    "                      value_name = \"Value\")\r\n",
    "\r\n",
    "df_nor_melt.head()"
   ],
   "outputs": [],
   "metadata": {}
  },
  {
   "cell_type": "code",
   "execution_count": null,
   "source": [
    "sns.lineplot(\"Attribute\", \"Value\", hue=\"Cluster\", data=df_nor_melt)\r\n",
    "plt.show()"
   ],
   "outputs": [],
   "metadata": {}
  },
  {
   "cell_type": "markdown",
   "source": [
    "### Evaluation du modèle"
   ],
   "metadata": {}
  },
  {
   "cell_type": "code",
   "execution_count": null,
   "source": [
    "from yellowbrick.cluster import SilhouetteVisualizer\r\n",
    "\r\n",
    "visualizer = SilhouetteVisualizer(km, colors='yellowbrick')\r\n",
    "\r\n",
    "visualizer.fit(data_pca)        # Fit the data to the visualizer\r\n",
    "visualizer.show();              # Finalize and render the figure"
   ],
   "outputs": [],
   "metadata": {}
  },
  {
   "cell_type": "code",
   "execution_count": null,
   "source": [
    "from sklearn.metrics import silhouette_score, davies_bouldin_score\r\n",
    "\r\n",
    "print(\"Silhouette Score:\", silhouette_score(data_pca, label))\r\n",
    "print(\"Score de Davies-Bouldin:\", davies_bouldin_score(data_pca, label))"
   ],
   "outputs": [],
   "metadata": {}
  },
  {
   "cell_type": "code",
   "execution_count": null,
   "source": [
    "from yellowbrick.cluster import intercluster_distance\r\n",
    "\r\n",
    "intercluster_distance(KMeans(4, random_state=42), data_pca);"
   ],
   "outputs": [],
   "metadata": {}
  },
  {
   "cell_type": "code",
   "execution_count": null,
   "source": [
    "del data_pca\r\n",
    "del df\r\n",
    "del customers\r\n",
    "del df_normalized\r\n",
    "del df_nor_melt"
   ],
   "outputs": [],
   "metadata": {}
  },
  {
   "cell_type": "code",
   "execution_count": null,
   "source": [
    "gc.collect()"
   ],
   "outputs": [],
   "metadata": {}
  },
  {
   "cell_type": "markdown",
   "source": [
    "## K-Means (2)"
   ],
   "metadata": {}
  },
  {
   "cell_type": "code",
   "execution_count": null,
   "source": [
    "data = pd.read_csv(\"datasets/data_clustering_complete.csv\")\r\n",
    "data.set_index(\"customer_unique_id\", inplace=True)\r\n",
    "data.head()"
   ],
   "outputs": [],
   "metadata": {
    "scrolled": true
   }
  },
  {
   "cell_type": "code",
   "execution_count": null,
   "source": [
    "customers = pd.DataFrame()\r\n",
    "customers[\"Recency\"] = np.log1p(data['Recency'])\r\n",
    "customers[\"Frequency\"] = np.log1p(data[\"Frequency\"])\r\n",
    "customers[\"MonetaryValue\"] =np.log1p(data[\"MonetaryValue\"])\r\n",
    "customers[\"nb_days_before_delivered\"] = np.log1p(data[\"nb_days_before_delivered\"])\r\n",
    "customers[\"distance_customer_seller\"] = np.log1p(data[\"distance_customer_seller\"])\r\n",
    "customers.tail()"
   ],
   "outputs": [],
   "metadata": {}
  },
  {
   "cell_type": "code",
   "execution_count": null,
   "source": [
    "scaler = StandardScaler()\r\n",
    "customers_transform = scaler.fit_transform(customers)"
   ],
   "outputs": [],
   "metadata": {}
  },
  {
   "cell_type": "code",
   "execution_count": null,
   "source": [
    "n_comp = 2\r\n",
    "pca = PCA(n_components=n_comp)\r\n",
    "customers_transform = pca.fit_transform(customers_transform)\r\n",
    "features = customers.columns\r\n",
    "pcs = pca.components_"
   ],
   "outputs": [],
   "metadata": {}
  },
  {
   "cell_type": "code",
   "execution_count": null,
   "source": [
    "display_circles(pcs, n_comp, pca, [(1,2)], labels=np.array(features))"
   ],
   "outputs": [],
   "metadata": {}
  },
  {
   "cell_type": "code",
   "execution_count": null,
   "source": [
    "# Elbow method pour déterminer le nombre de clusters optimale\r\n",
    "\r\n",
    "model = KMeans()\r\n",
    "visualizer = KElbowVisualizer(model, k =(2, 10), timings=False)\r\n",
    "visualizer.fit(customers_transform)\r\n",
    "visualizer.show();"
   ],
   "outputs": [],
   "metadata": {}
  },
  {
   "cell_type": "code",
   "execution_count": null,
   "source": [
    "sns.set_palette(\"Pastel2\")\r\n",
    "sns.set_theme(\"white\")"
   ],
   "outputs": [],
   "metadata": {}
  },
  {
   "cell_type": "code",
   "execution_count": null,
   "source": [
    "# Calcul du K-Means et affectation du cluster à chaque bâtiment\r\n",
    "model = KMeans(n_clusters=5)\r\n",
    "\r\n",
    "#Prédiction\r\n",
    "label = model.fit_predict(customers_transform)\r\n",
    " \r\n",
    "centroids = model.cluster_centers_\r\n",
    "u_labels = np.unique(label)\r\n",
    "\r\n",
    "#Représentation graphique:\r\n",
    "plt.figure(figsize=(10,10))\r\n",
    "for i in u_labels:\r\n",
    "    plt.scatter(customers_transform[label == i , 0] ,customers_transform[label == i , 1] , label = i)\r\n",
    "plt.scatter(centroids[:,0] , centroids[:,1] , s = 80, alpha = 0.8, color = 'k')\r\n",
    "plt.legend()\r\n",
    "plt.title('Représentation des clusters du K-Means')\r\n",
    "#plt.savefig(\"Présentation/Images/representation_kmeans.png\")\r\n",
    "plt.show();"
   ],
   "outputs": [],
   "metadata": {}
  },
  {
   "cell_type": "code",
   "execution_count": null,
   "source": [
    "data[\"Cluster\"] = model.labels_\r\n",
    "data.groupby('Cluster').agg({\r\n",
    "    'Recency' : \"mean\", \r\n",
    "    'Frequency' : \"mean\",\r\n",
    "    'MonetaryValue': \"mean\",\r\n",
    "    'nb_days_before_delivered' : \"mean\",\r\n",
    "    \"distance_customer_seller\" : \"mean\",\r\n",
    "    \"product_category_name\" : lambda x : x.value_counts().index[0],\r\n",
    "    \"customer_city\" : lambda x : x.value_counts().index[0],\r\n",
    "    \"review_score\" : \"mean\"}).round(2)"
   ],
   "outputs": [],
   "metadata": {}
  },
  {
   "cell_type": "code",
   "execution_count": null,
   "source": [
    "df_normalized = pd.DataFrame(customers_transform, columns=['Recency', 'Frequency', 'MonetaryValue', \"nb_days_before_delivered\", \"distance_customer_seller\", \"review_score\"])\r\n",
    "df_normalized['ID'] = data.index\r\n",
    "df_normalized[\"Cluster\"] = model.labels_\r\n",
    "\r\n",
    "df_nor_melt = pd.melt(df_normalized.reset_index(),\r\n",
    "                      id_vars=[\"ID\", \"Cluster\"],\r\n",
    "                      value_vars = [\"Recency\", \"Frequency\", \"MonetaryValue\", \"nb_days_before_delivered\", \"distance_customer_seller\", \"review_score\"],\r\n",
    "                      var_name = \"Attribute\",\r\n",
    "                      value_name = \"Value\")\r\n",
    "\r\n",
    "df_nor_melt.head()"
   ],
   "outputs": [],
   "metadata": {}
  },
  {
   "cell_type": "code",
   "execution_count": null,
   "source": [
    "sns.lineplot(\"Attribute\", \"Value\", hue=\"Cluster\", data=df_nor_melt)\r\n",
    "plt.show()"
   ],
   "outputs": [],
   "metadata": {}
  },
  {
   "cell_type": "code",
   "execution_count": null,
   "source": [
    "visualizer = SilhouetteVisualizer(model, colors='yellowbrick')\r\n",
    "\r\n",
    "visualizer.fit(customers_transform)        # Fit the data to the visualizer\r\n",
    "visualizer.show();              # Finalize and render the figure"
   ],
   "outputs": [],
   "metadata": {}
  },
  {
   "cell_type": "code",
   "execution_count": null,
   "source": [
    "from sklearn.metrics import silhouette_score, davies_bouldin_score\r\n",
    "\r\n",
    "print(\"Silhouette Score:\", silhouette_score(customers_transform, label))\r\n",
    "print(\"Score de Davies-Bouldin:\", davies_bouldin_score(customers_transform, label))"
   ],
   "outputs": [],
   "metadata": {}
  },
  {
   "cell_type": "code",
   "execution_count": null,
   "source": [
    "intercluster_distance(KMeans(5, random_state=42), customers_transform);"
   ],
   "outputs": [],
   "metadata": {}
  },
  {
   "cell_type": "markdown",
   "source": [
    "## Stabilité du clustering"
   ],
   "metadata": {}
  },
  {
   "cell_type": "code",
   "execution_count": null,
   "source": [
    "ari"
   ],
   "outputs": [],
   "metadata": {}
  },
  {
   "cell_type": "markdown",
   "source": [
    "## K-Prototype"
   ],
   "metadata": {}
  },
  {
   "cell_type": "markdown",
   "source": [
    "https://towardsdatascience.com/the-k-prototype-as-clustering-algorithm-for-mixed-data-type-categorical-and-numerical-fe7c50538ebb"
   ],
   "metadata": {}
  },
  {
   "cell_type": "code",
   "execution_count": null,
   "source": [
    "from kmodes.kprototypes import KPrototypes"
   ],
   "outputs": [],
   "metadata": {}
  },
  {
   "cell_type": "code",
   "execution_count": null,
   "source": [
    "cols = data.columns\r\n",
    "\r\n",
    "for col in cols:\r\n",
    "    if data[col].dtypes ==\"float\":\r\n",
    "        data[col] = np.log1p(data[col].values)"
   ],
   "outputs": [],
   "metadata": {}
  },
  {
   "cell_type": "code",
   "execution_count": null,
   "source": [
    "data_test_30d = data.loc[data[\"Recency\"] < 30]\r\n",
    "data_test_60d = data.loc[data[\"Recency\"] < 60]\r\n",
    "data_test_90d = data.loc[data[\"Recency\"] < 90]\r\n",
    "data_test_120d = data.loc[data[\"Recency\"] < 120]\r\n",
    "data_test_150d = data.loc[data[\"Recency\"] < 150]\r\n",
    "data_test_180d = data.loc[data[\"Recency\"] < 180]"
   ],
   "outputs": [],
   "metadata": {}
  },
  {
   "cell_type": "code",
   "execution_count": null,
   "source": [
    "data.head()"
   ],
   "outputs": [],
   "metadata": {}
  },
  {
   "cell_type": "code",
   "execution_count": null,
   "source": [
    "cat_var = [\"review_score\", \"customer_city\", \"product_category_name\"]\r\n",
    "num_var = [\"Frequency\", \"nb_days_before_delivered\", \"nb_days_before_delivered_estimation\", \r\n",
    "           \"MonetaryValue\", \"distance_customer_seller\"]"
   ],
   "outputs": [],
   "metadata": {}
  },
  {
   "cell_type": "code",
   "execution_count": null,
   "source": [
    "from sklearn.compose import ColumnTransformer\r\n",
    "from sklearn.pipeline import Pipeline\r\n",
    "from sklearn.impute import SimpleImputer\r\n",
    "\r\n",
    "cat_pipe = Pipeline([\r\n",
    "    ('imputer', SimpleImputer(strategy='most_frequent', fill_value='missing'))\r\n",
    "])\r\n",
    "\r\n",
    "num_pipe = Pipeline([\r\n",
    "    ('imputer', SimpleImputer(strategy=\"median\", fill_value=\"missing\")),\r\n",
    "    ('scaler', StandardScaler())\r\n",
    "])\r\n",
    "\r\n",
    "preprocessor = ColumnTransformer(\r\n",
    "    transformers=[\r\n",
    "    ('cat', cat_pipe, cat_var),\r\n",
    "    ('num', num_pipe, num_var)\r\n",
    "])"
   ],
   "outputs": [],
   "metadata": {}
  },
  {
   "cell_type": "code",
   "execution_count": null,
   "source": [
    "data_normalized = preprocessor.fit_transform(data)\r\n",
    "data_normalized = pd.DataFrame(data_normalized, columns=[\"review_score\", \"customer_city\", \"product_category_name\",\r\n",
    "                                                         \"Frequency\",\"nb_days_before_delivered\", \r\n",
    "                                                         \"nb_days_before_delivered_estimation\",\"MonetaryValue\", \r\n",
    "                                                         \"distance_customer_seller\"])"
   ],
   "outputs": [],
   "metadata": {}
  },
  {
   "cell_type": "code",
   "execution_count": null,
   "source": [
    "for col in num_var:\r\n",
    "    data_normalized[col] = data_normalized[col].astype(\"float32\")"
   ],
   "outputs": [],
   "metadata": {}
  },
  {
   "cell_type": "code",
   "execution_count": null,
   "source": [
    "catColumnsPos = [data_normalized.columns.get_loc(col) for col in list(data_normalized.select_dtypes('object').columns)]\r\n",
    "print('Categorical columns           : {}'.format(list(data_normalized.select_dtypes('object').columns)))\r\n",
    "print('Categorical columns position  : {}'.format(catColumnsPos))"
   ],
   "outputs": [],
   "metadata": {}
  },
  {
   "cell_type": "code",
   "execution_count": null,
   "source": [
    "dfMatrix = data_normalized.to_numpy()\r\n",
    "dfMatrix"
   ],
   "outputs": [],
   "metadata": {}
  },
  {
   "cell_type": "code",
   "execution_count": null,
   "source": [
    "kprototype = KPrototypes(n_jobs = -1, n_clusters = 4, init = 'Huang', random_state = 42)\r\n",
    "kprototype.fit_predict(dfMatrix, categorical = catColumnsPos)"
   ],
   "outputs": [],
   "metadata": {}
  },
  {
   "cell_type": "code",
   "execution_count": null,
   "source": [
    "kprototype.cluster_centroids_"
   ],
   "outputs": [],
   "metadata": {}
  },
  {
   "cell_type": "code",
   "execution_count": null,
   "source": [
    "data['cluster_id'] = kprototype.labels_"
   ],
   "outputs": [],
   "metadata": {}
  },
  {
   "cell_type": "code",
   "execution_count": null,
   "source": [
    "clustering_pipeline = Pipeline([\r\n",
    "    (\"preprocessing\", preprocessor),\r\n",
    "    (\"model\", kprototype)\r\n",
    "])"
   ],
   "outputs": [],
   "metadata": {}
  },
  {
   "cell_type": "markdown",
   "source": [
    "### Analyse du clustering"
   ],
   "metadata": {}
  },
  {
   "cell_type": "code",
   "execution_count": null,
   "source": [
    "data[\"review_score\"] = data[\"review_score\"].astype(\"int32\")"
   ],
   "outputs": [],
   "metadata": {}
  },
  {
   "cell_type": "code",
   "execution_count": null,
   "source": [
    "for col in cols:\r\n",
    "    if data[col].dtypes ==\"float\":\r\n",
    "        data[col] = np.expm1(data[col].values)"
   ],
   "outputs": [],
   "metadata": {}
  },
  {
   "cell_type": "code",
   "execution_count": null,
   "source": [
    "data.groupby('cluster_id').agg({\r\n",
    "    'Frequency' : \"mean\",\r\n",
    "    'MonetaryValue': \"mean\",\r\n",
    "    'distance_customer_seller' : \"mean\",\r\n",
    "    'nb_days_before_delivered' : \"mean\",\r\n",
    "    'nb_days_before_delivered_estimation' : \"mean\",\r\n",
    "    'review_score':\"mean\"}).round(2)"
   ],
   "outputs": [],
   "metadata": {}
  }
 ],
 "metadata": {
  "interpreter": {
   "hash": "db691860837755bfd223dbb19bf59c90fd58faf4b85973e04a456a30cef6b76b"
  },
  "kernelspec": {
   "name": "python3",
   "display_name": "Python 3.8.11 64-bit ('base': conda)"
  },
  "language_info": {
   "codemirror_mode": {
    "name": "ipython",
    "version": 3
   },
   "file_extension": ".py",
   "mimetype": "text/x-python",
   "name": "python",
   "nbconvert_exporter": "python",
   "pygments_lexer": "ipython3",
   "version": "3.8.11"
  }
 },
 "nbformat": 4,
 "nbformat_minor": 5
}