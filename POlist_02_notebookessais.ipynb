{
 "cells": [
  {
   "cell_type": "code",
   "execution_count": 1,
   "id": "3bf6a7fb",
   "metadata": {},
   "outputs": [],
   "source": [
    "import warnings\n",
    "warnings.filterwarnings(\"ignore\")\n",
    "\n",
    "import pandas as pd \n",
    "import numpy as np \n",
    "import matplotlib.pyplot as plt \n",
    "import seaborn as sns\n",
    "import gc"
   ]
  },
  {
   "cell_type": "code",
   "execution_count": 2,
   "id": "46e43e26",
   "metadata": {},
   "outputs": [
    {
     "data": {
      "text/html": [
       "<div>\n",
       "<style scoped>\n",
       "    .dataframe tbody tr th:only-of-type {\n",
       "        vertical-align: middle;\n",
       "    }\n",
       "\n",
       "    .dataframe tbody tr th {\n",
       "        vertical-align: top;\n",
       "    }\n",
       "\n",
       "    .dataframe thead th {\n",
       "        text-align: right;\n",
       "    }\n",
       "</style>\n",
       "<table border=\"1\" class=\"dataframe\">\n",
       "  <thead>\n",
       "    <tr style=\"text-align: right;\">\n",
       "      <th></th>\n",
       "      <th>customer_id</th>\n",
       "      <th>recence</th>\n",
       "      <th>frequence</th>\n",
       "      <th>montant</th>\n",
       "      <th>review_score</th>\n",
       "      <th>product_category</th>\n",
       "      <th>customer_city</th>\n",
       "      <th>payment_type</th>\n",
       "    </tr>\n",
       "  </thead>\n",
       "  <tbody>\n",
       "    <tr>\n",
       "      <th>0</th>\n",
       "      <td>b3a9bf200375f53cc5c6991919c356fd</td>\n",
       "      <td>2016-10-04 09:43:32</td>\n",
       "      <td>1</td>\n",
       "      <td>32.49</td>\n",
       "      <td>5.0</td>\n",
       "      <td>consoles_games</td>\n",
       "      <td>sao paulo</td>\n",
       "      <td>credit_card</td>\n",
       "    </tr>\n",
       "    <tr>\n",
       "      <th>1</th>\n",
       "      <td>70fc57eeae292675927697fe03ad3ff5</td>\n",
       "      <td>2016-10-04 10:18:57</td>\n",
       "      <td>1</td>\n",
       "      <td>21.50</td>\n",
       "      <td>1.0</td>\n",
       "      <td>sports_leisure</td>\n",
       "      <td>rio de janeiro</td>\n",
       "      <td>credit_card</td>\n",
       "    </tr>\n",
       "    <tr>\n",
       "      <th>2</th>\n",
       "      <td>7812fcebfc5e8065d31e1bb5f0017dae</td>\n",
       "      <td>2016-10-04 10:19:23</td>\n",
       "      <td>1</td>\n",
       "      <td>29.99</td>\n",
       "      <td>5.0</td>\n",
       "      <td>fashion_shoes</td>\n",
       "      <td>taubate</td>\n",
       "      <td>credit_card</td>\n",
       "    </tr>\n",
       "  </tbody>\n",
       "</table>\n",
       "</div>"
      ],
      "text/plain": [
       "                        customer_id              recence  frequence  montant  \\\n",
       "0  b3a9bf200375f53cc5c6991919c356fd  2016-10-04 09:43:32          1    32.49   \n",
       "1  70fc57eeae292675927697fe03ad3ff5  2016-10-04 10:18:57          1    21.50   \n",
       "2  7812fcebfc5e8065d31e1bb5f0017dae  2016-10-04 10:19:23          1    29.99   \n",
       "\n",
       "   review_score product_category   customer_city payment_type  \n",
       "0           5.0   consoles_games       sao paulo  credit_card  \n",
       "1           1.0   sports_leisure  rio de janeiro  credit_card  \n",
       "2           5.0    fashion_shoes         taubate  credit_card  "
      ]
     },
     "execution_count": 2,
     "metadata": {},
     "output_type": "execute_result"
    }
   ],
   "source": [
    "df = pd.read_csv(\"datasets/data_segmentation.csv\")\n",
    "df.head(3)"
   ]
  },
  {
   "cell_type": "code",
   "execution_count": 3,
   "id": "beac5383",
   "metadata": {},
   "outputs": [],
   "source": [
    "df[\"recence\"] = pd.to_datetime(df[\"recence\"], format=\"%Y-%m-%d\", errors=\"ignore\")\n",
    "df[\"review_score\"] = df[\"review_score\"].astype(\"int64\")"
   ]
  },
  {
   "cell_type": "code",
   "execution_count": 4,
   "id": "7381209a",
   "metadata": {},
   "outputs": [
    {
     "name": "stdout",
     "output_type": "stream",
     "text": [
      "<class 'pandas.core.frame.DataFrame'>\n",
      "RangeIndex: 91633 entries, 0 to 91632\n",
      "Data columns (total 8 columns):\n",
      " #   Column            Non-Null Count  Dtype         \n",
      "---  ------            --------------  -----         \n",
      " 0   customer_id       91633 non-null  object        \n",
      " 1   recence           91633 non-null  datetime64[ns]\n",
      " 2   frequence         91633 non-null  int64         \n",
      " 3   montant           91633 non-null  float64       \n",
      " 4   review_score      91633 non-null  int64         \n",
      " 5   product_category  91633 non-null  object        \n",
      " 6   customer_city     91633 non-null  object        \n",
      " 7   payment_type      91633 non-null  object        \n",
      "dtypes: datetime64[ns](1), float64(1), int64(2), object(4)\n",
      "memory usage: 5.6+ MB\n"
     ]
    }
   ],
   "source": [
    "df.info()"
   ]
  },
  {
   "cell_type": "code",
   "execution_count": 5,
   "id": "e45829c4",
   "metadata": {},
   "outputs": [
    {
     "data": {
      "text/html": [
       "<div>\n",
       "<style scoped>\n",
       "    .dataframe tbody tr th:only-of-type {\n",
       "        vertical-align: middle;\n",
       "    }\n",
       "\n",
       "    .dataframe tbody tr th {\n",
       "        vertical-align: top;\n",
       "    }\n",
       "\n",
       "    .dataframe thead th {\n",
       "        text-align: right;\n",
       "    }\n",
       "</style>\n",
       "<table border=\"1\" class=\"dataframe\">\n",
       "  <thead>\n",
       "    <tr style=\"text-align: right;\">\n",
       "      <th></th>\n",
       "      <th>customer_id</th>\n",
       "      <th>recence</th>\n",
       "      <th>frequence</th>\n",
       "      <th>montant</th>\n",
       "      <th>review_score</th>\n",
       "      <th>product_category</th>\n",
       "      <th>customer_city</th>\n",
       "      <th>payment_type</th>\n",
       "    </tr>\n",
       "  </thead>\n",
       "  <tbody>\n",
       "    <tr>\n",
       "      <th>0</th>\n",
       "      <td>b3a9bf200375f53cc5c6991919c356fd</td>\n",
       "      <td>2016-10-04 09:43:32</td>\n",
       "      <td>1</td>\n",
       "      <td>32.49</td>\n",
       "      <td>5</td>\n",
       "      <td>consoles_games</td>\n",
       "      <td>sao paulo</td>\n",
       "      <td>credit_card</td>\n",
       "    </tr>\n",
       "    <tr>\n",
       "      <th>1</th>\n",
       "      <td>70fc57eeae292675927697fe03ad3ff5</td>\n",
       "      <td>2016-10-04 10:18:57</td>\n",
       "      <td>1</td>\n",
       "      <td>21.50</td>\n",
       "      <td>1</td>\n",
       "      <td>sports_leisure</td>\n",
       "      <td>rio de janeiro</td>\n",
       "      <td>credit_card</td>\n",
       "    </tr>\n",
       "    <tr>\n",
       "      <th>2</th>\n",
       "      <td>7812fcebfc5e8065d31e1bb5f0017dae</td>\n",
       "      <td>2016-10-04 10:19:23</td>\n",
       "      <td>1</td>\n",
       "      <td>29.99</td>\n",
       "      <td>5</td>\n",
       "      <td>fashion_shoes</td>\n",
       "      <td>taubate</td>\n",
       "      <td>credit_card</td>\n",
       "    </tr>\n",
       "    <tr>\n",
       "      <th>3</th>\n",
       "      <td>da0ba2a9935bca5b4610b0e3bca9d3b4</td>\n",
       "      <td>2016-10-04 10:25:46</td>\n",
       "      <td>1</td>\n",
       "      <td>89.90</td>\n",
       "      <td>1</td>\n",
       "      <td>housewares</td>\n",
       "      <td>sao paulo</td>\n",
       "      <td>credit_card</td>\n",
       "    </tr>\n",
       "    <tr>\n",
       "      <th>4</th>\n",
       "      <td>b8cf418e97ae795672d326288dfab7a7</td>\n",
       "      <td>2016-10-04 10:28:07</td>\n",
       "      <td>1</td>\n",
       "      <td>119.90</td>\n",
       "      <td>1</td>\n",
       "      <td>furniture_decor</td>\n",
       "      <td>hortolandia</td>\n",
       "      <td>credit_card</td>\n",
       "    </tr>\n",
       "  </tbody>\n",
       "</table>\n",
       "</div>"
      ],
      "text/plain": [
       "                        customer_id             recence  frequence  montant  \\\n",
       "0  b3a9bf200375f53cc5c6991919c356fd 2016-10-04 09:43:32          1    32.49   \n",
       "1  70fc57eeae292675927697fe03ad3ff5 2016-10-04 10:18:57          1    21.50   \n",
       "2  7812fcebfc5e8065d31e1bb5f0017dae 2016-10-04 10:19:23          1    29.99   \n",
       "3  da0ba2a9935bca5b4610b0e3bca9d3b4 2016-10-04 10:25:46          1    89.90   \n",
       "4  b8cf418e97ae795672d326288dfab7a7 2016-10-04 10:28:07          1   119.90   \n",
       "\n",
       "   review_score product_category   customer_city payment_type  \n",
       "0             5   consoles_games       sao paulo  credit_card  \n",
       "1             1   sports_leisure  rio de janeiro  credit_card  \n",
       "2             5    fashion_shoes         taubate  credit_card  \n",
       "3             1       housewares       sao paulo  credit_card  \n",
       "4             1  furniture_decor     hortolandia  credit_card  "
      ]
     },
     "execution_count": 5,
     "metadata": {},
     "output_type": "execute_result"
    }
   ],
   "source": [
    "df.head()"
   ]
  },
  {
   "cell_type": "code",
   "execution_count": 6,
   "id": "24b202c8",
   "metadata": {},
   "outputs": [],
   "source": [
    "test_set = df[df[\"recence\"].dt.year == 2018]"
   ]
  },
  {
   "cell_type": "code",
   "execution_count": 7,
   "id": "5c9bd518",
   "metadata": {},
   "outputs": [],
   "source": [
    "train_set = df[df[\"recence\"].dt.year != 2018]"
   ]
  },
  {
   "cell_type": "code",
   "execution_count": 8,
   "id": "c3892a09",
   "metadata": {},
   "outputs": [
    {
     "data": {
      "text/html": [
       "<div>\n",
       "<style scoped>\n",
       "    .dataframe tbody tr th:only-of-type {\n",
       "        vertical-align: middle;\n",
       "    }\n",
       "\n",
       "    .dataframe tbody tr th {\n",
       "        vertical-align: top;\n",
       "    }\n",
       "\n",
       "    .dataframe thead th {\n",
       "        text-align: right;\n",
       "    }\n",
       "</style>\n",
       "<table border=\"1\" class=\"dataframe\">\n",
       "  <thead>\n",
       "    <tr style=\"text-align: right;\">\n",
       "      <th></th>\n",
       "      <th>customer_id</th>\n",
       "      <th>recence</th>\n",
       "      <th>frequence</th>\n",
       "      <th>montant</th>\n",
       "      <th>review_score</th>\n",
       "      <th>product_category</th>\n",
       "      <th>customer_city</th>\n",
       "      <th>payment_type</th>\n",
       "    </tr>\n",
       "  </thead>\n",
       "  <tbody>\n",
       "    <tr>\n",
       "      <th>0</th>\n",
       "      <td>b3a9bf200375f53cc5c6991919c356fd</td>\n",
       "      <td>2016-10-04 09:43:32</td>\n",
       "      <td>1</td>\n",
       "      <td>32.49</td>\n",
       "      <td>5</td>\n",
       "      <td>consoles_games</td>\n",
       "      <td>sao paulo</td>\n",
       "      <td>credit_card</td>\n",
       "    </tr>\n",
       "    <tr>\n",
       "      <th>1</th>\n",
       "      <td>70fc57eeae292675927697fe03ad3ff5</td>\n",
       "      <td>2016-10-04 10:18:57</td>\n",
       "      <td>1</td>\n",
       "      <td>21.50</td>\n",
       "      <td>1</td>\n",
       "      <td>sports_leisure</td>\n",
       "      <td>rio de janeiro</td>\n",
       "      <td>credit_card</td>\n",
       "    </tr>\n",
       "    <tr>\n",
       "      <th>2</th>\n",
       "      <td>7812fcebfc5e8065d31e1bb5f0017dae</td>\n",
       "      <td>2016-10-04 10:19:23</td>\n",
       "      <td>1</td>\n",
       "      <td>29.99</td>\n",
       "      <td>5</td>\n",
       "      <td>fashion_shoes</td>\n",
       "      <td>taubate</td>\n",
       "      <td>credit_card</td>\n",
       "    </tr>\n",
       "    <tr>\n",
       "      <th>3</th>\n",
       "      <td>da0ba2a9935bca5b4610b0e3bca9d3b4</td>\n",
       "      <td>2016-10-04 10:25:46</td>\n",
       "      <td>1</td>\n",
       "      <td>89.90</td>\n",
       "      <td>1</td>\n",
       "      <td>housewares</td>\n",
       "      <td>sao paulo</td>\n",
       "      <td>credit_card</td>\n",
       "    </tr>\n",
       "    <tr>\n",
       "      <th>4</th>\n",
       "      <td>b8cf418e97ae795672d326288dfab7a7</td>\n",
       "      <td>2016-10-04 10:28:07</td>\n",
       "      <td>1</td>\n",
       "      <td>119.90</td>\n",
       "      <td>1</td>\n",
       "      <td>furniture_decor</td>\n",
       "      <td>hortolandia</td>\n",
       "      <td>credit_card</td>\n",
       "    </tr>\n",
       "  </tbody>\n",
       "</table>\n",
       "</div>"
      ],
      "text/plain": [
       "                        customer_id             recence  frequence  montant  \\\n",
       "0  b3a9bf200375f53cc5c6991919c356fd 2016-10-04 09:43:32          1    32.49   \n",
       "1  70fc57eeae292675927697fe03ad3ff5 2016-10-04 10:18:57          1    21.50   \n",
       "2  7812fcebfc5e8065d31e1bb5f0017dae 2016-10-04 10:19:23          1    29.99   \n",
       "3  da0ba2a9935bca5b4610b0e3bca9d3b4 2016-10-04 10:25:46          1    89.90   \n",
       "4  b8cf418e97ae795672d326288dfab7a7 2016-10-04 10:28:07          1   119.90   \n",
       "\n",
       "   review_score product_category   customer_city payment_type  \n",
       "0             5   consoles_games       sao paulo  credit_card  \n",
       "1             1   sports_leisure  rio de janeiro  credit_card  \n",
       "2             5    fashion_shoes         taubate  credit_card  \n",
       "3             1       housewares       sao paulo  credit_card  \n",
       "4             1  furniture_decor     hortolandia  credit_card  "
      ]
     },
     "execution_count": 8,
     "metadata": {},
     "output_type": "execute_result"
    }
   ],
   "source": [
    "train_set.head()"
   ]
  },
  {
   "cell_type": "code",
   "execution_count": 9,
   "id": "3c9c3bd8",
   "metadata": {},
   "outputs": [
    {
     "data": {
      "text/plain": [
       "(41093, 8)"
      ]
     },
     "execution_count": 9,
     "metadata": {},
     "output_type": "execute_result"
    }
   ],
   "source": [
    "train_set.shape"
   ]
  },
  {
   "cell_type": "code",
   "execution_count": 10,
   "id": "5e215831",
   "metadata": {},
   "outputs": [
    {
     "data": {
      "text/plain": [
       "(50540, 8)"
      ]
     },
     "execution_count": 10,
     "metadata": {},
     "output_type": "execute_result"
    }
   ],
   "source": [
    "test_set.shape"
   ]
  },
  {
   "cell_type": "markdown",
   "id": "31c0b2e0",
   "metadata": {},
   "source": [
    "# Modélisation"
   ]
  },
  {
   "cell_type": "code",
   "execution_count": null,
   "id": "e1f70b41",
   "metadata": {},
   "outputs": [],
   "source": []
  }
 ],
 "metadata": {
  "kernelspec": {
   "display_name": "Python 3",
   "language": "python",
   "name": "python3"
  },
  "language_info": {
   "codemirror_mode": {
    "name": "ipython",
    "version": 3
   },
   "file_extension": ".py",
   "mimetype": "text/x-python",
   "name": "python",
   "nbconvert_exporter": "python",
   "pygments_lexer": "ipython3",
   "version": "3.8.11"
  }
 },
 "nbformat": 4,
 "nbformat_minor": 5
}
